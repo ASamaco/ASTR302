{
 "cells": [
  {
   "cell_type": "markdown",
   "metadata": {
    "tags": []
   },
   "source": [
    "# ASTR302 Lab 3: The Basics of Starting an Observational Program"
   ]
  },
  {
   "cell_type": "markdown",
   "metadata": {},
   "source": [
    "In this Lab you will learn how to explore catalogs to define a sample that can be observed on a given night. This is an easy one - you just need to try to understand how things work. There are no specific questions for you to answer (so you don't need to email me this one)."
   ]
  },
  {
   "cell_type": "markdown",
   "metadata": {},
   "source": [
    "## Using DATALAB"
   ]
  },
  {
   "cell_type": "markdown",
   "metadata": {},
   "source": [
    "We have been focusing on statistics, so we are going to take a break - even though there is plenty more to discuss - and do some astronomy. We will begin to use the DATALAB environment at NOIRLab to make finder charts of our targets. Finder charts are helpful in confirming that you are observing the correct source.\n",
    "\n",
    "\n"
   ]
  },
  {
   "cell_type": "markdown",
   "metadata": {},
   "source": [
    "## Selecting a sample of galaxies"
   ]
  },
  {
   "cell_type": "markdown",
   "metadata": {},
   "source": [
    "Planning for any observing program starts with the selection of targets. Of course, this is influenced by the scientific questions one is asking - but for our purpose we are going to skip the motivation and just get to the target selection. In this case our targets are going to be galaxies that satisfy a set of criteris that we will specify.\n",
    "\n",
    "Before we start, lets import the packages you will be needing for this Lab.\n"
   ]
  },
  {
   "cell_type": "code",
   "execution_count": null,
   "metadata": {},
   "outputs": [],
   "source": [
    "import matplotlib.pyplot as plt\n",
    "import numpy as np\n",
    "from scipy import stats\n",
    "from scipy.optimize import curve_fit\n",
    "from astropy.io import fits\n",
    "from astropy.table import Table\n",
    "import astropy.units as u\n",
    "from astropy.coordinates import SkyCoord\n",
    "\n",
    "import requests\n",
    "import pandas as pd\n",
    "from PIL import Image, ImageDraw, ImageFilter\n",
    "import time\n",
    "import os\n",
    "\n",
    "!pip install --upgrade pip\n",
    "!pip install astroplan\n",
    "!pip install pytest-astropy --upgrade\n",
    "!pip install pytz\n",
    "!pip install jinja2\n",
    "!pip install dustmaps\n",
    "!pip install ctapipe\n",
    "\n",
    "from dustmaps.sfd import SFDQuery\n",
    "from dustmaps.config import config\n",
    "config['data_dir'] = '.'\n",
    "import dustmaps.sfd\n",
    "dustmaps.sfd.fetch()\n",
    "    \n",
    "from ctapipe.utils import get_bright_stars\n",
    "\n",
    "from astroplan import Observer, FixedTarget\n",
    "from astropy.time import Time\n",
    "from astroplan.plots import plot_airmass\n",
    "\n",
    "from astroplan import observability_table\n",
    "from astroplan import (AltitudeConstraint, AirmassConstraint, AtNightConstraint)\n"
   ]
  },
  {
   "cell_type": "markdown",
   "metadata": {},
   "source": [
    "Now, we going to start with a catalog of large (as seen on the sky) galaxies taken from images obtained for the Sloan and Legacy Survey. The catalog is called the Siena Galaxy Catalog (2020) or SGA-2020.fits. Go ahead and download it and put it in your DATALAB directory. We will then load it in and convert to a Pandas dataframe."
   ]
  },
  {
   "cell_type": "code",
   "execution_count": null,
   "metadata": {},
   "outputs": [],
   "source": [
    "# siena_2020 galaxy catalog (download from website SGA-2020.fits) - need to change path to your version\n",
    "hdul = fits.open('SGA-2020.fits',memmap=True)\n",
    "galaxy_data = Table(hdul[1].data)\n",
    "hdul.close()\n",
    "\n",
    "# convert to a pandas dataframe structure\n",
    "galaxy_df = galaxy_data.to_pandas()"
   ]
  },
  {
   "cell_type": "code",
   "execution_count": null,
   "metadata": {},
   "outputs": [],
   "source": [
    "# here we set the parameters of interest\n",
    "print('There are',len(gal_data),'targets in ATLAS')    \n",
    "\n",
    "# parameter cuts for galaxy sample\n",
    "\n",
    "lower_dec = 20        # lower limit declination\n",
    "lower_diam = 4        # lower limit diameter size (arcmin)\n",
    "upper_diam = 8        # upper limit diameter size (arcmin)\n",
    "BA_max = 0.8          # upper limit on B/A (avoid face-on galaxies)\n",
    "bright_star_rad = 1   # search radius for bright stars (degrees)\n",
    "max_ebv = 0.04        # maximum allowed value of E(B-V) to limit Galactic extinction\n",
    "max_redshift = 0.005  # z, limit corresponds to ~ 21 Mpc to focus on nearby galaxies\n",
    "\n",
    "#select all galaxies in correct coordinate range, size range, and inclination\n",
    "galaxy_targets = galaxy_data[(galaxy_data['DEC'] > lower_dec) & (galaxy_data['D26'] > lower_diam) & (galaxy_data['D26'] < upper_diam) & (galaxy_data['BA'] < BA_max) & (galaxy_data['Z_LEDA']<max_redshift)]\n",
    "print(len(galaxy_targets),'satisfy RA/Dec, size, b/a, and redshift criteria')"
   ]
  },
  {
   "cell_type": "markdown",
   "metadata": {},
   "source": [
    "Now we move on to estimating the Galactic extinction at the location of each galaxy. For this we using the Schlegel, Finkbeiner and Davis (sfd) maps that are available as part of the SFDQuery call - don't you just love that there is all this infrastructure already available!"
   ]
  },
  {
   "cell_type": "code",
   "execution_count": null,
   "metadata": {},
   "outputs": [],
   "source": [
    "# get extinction at each location  (see https://dustmaps.readthedocs.io/en/latest/maps.html for range of options)\n",
    "\n",
    "coords = SkyCoord(galaxy_targets['RA']*u.deg, galaxy_targets['DEC']*u.deg, frame='icrs')\n",
    "sfd = SFDQuery()\n",
    "galaxy_targets['ebv'] = sfd(coords)\n",
    "\n",
    "#apply selection criteria\n",
    "galaxy_targets = galaxy_targets[(galaxy_targets['ebv'] < max_ebv)]\n",
    "print('Of those',len(galaxy_targets),'satisfy dust criterion')"
   ]
  },
  {
   "cell_type": "markdown",
   "metadata": {},
   "source": [
    "Finally, we are going to search for nearby bright stars that could cause us problems in our observations."
   ]
  },
  {
   "cell_type": "code",
   "execution_count": null,
   "metadata": {},
   "outputs": [],
   "source": [
    "# get brights stars at each remaining location and flag those with bright stars\n",
    "# code will automatically download Yale Bright Star Catalog if you don't already have it\n",
    "\n",
    "bright_flag=[]\n",
    "\n",
    "for j in range(0,len(galaxy_targets)):\n",
    "    br_stars = get_bright_stars(coords[j],bright_star_rad*u.deg)\n",
    "    \n",
    "    if (len(br_stars)>0):\n",
    "        bright_flag = np.append(bright_flag,1)\n",
    "    else:\n",
    "        bright_flag = np.append(bright_flag,0)\n",
    "\n",
    "galaxy_targets_new = galaxy_targets[(bright_flag<1)]\n",
    "\n",
    "print(' ')\n",
    "print('Of those',len(galaxy_targets_new),'do not have a Yale Bright Star Catalog star within',bright_star_rad,'degree(s)')\n",
    "\n",
    "# now we will just write to a text file the targets that satisfy the criteria\n",
    "target_file = open('galaxy_targets.txt', 'w')\n",
    " \n",
    "for j in range(0,len(galaxy_targets_new)):\n",
    "    print(\"%9s %10.6f %10.6f\" % (galaxy_targets_new['GALAXY'][j], galaxy_targets_new['RA'][j], galaxy_targets_new['DEC'][j]), file = target_file)\n",
    "\n",
    "target_file.close()\n"
   ]
  },
  {
   "cell_type": "markdown",
   "metadata": {},
   "source": [
    "From this sample of galaxies we now want to choose the ones that will be accessible for some fraction of the time on nights in September 2023 (at night after astronomical twilight) at the Large Binocular Telescope (LBT) at an arimass < 1.4."
   ]
  },
  {
   "cell_type": "code",
   "execution_count": null,
   "metadata": {},
   "outputs": [],
   "source": [
    "# sets constraints (airmass limit 1.4 and at night).\n",
    "constraints = [AirmassConstraint(1.4), AtNightConstraint.twilight_nautical()]\n",
    "\n",
    "# range of dates to span\n",
    "time_range = Time([\"2023-09-01 00:00\", \"2023-10-01 00:00\"])\n",
    "\n",
    "# parameters of observatory\n",
    "lbt = Observer.at_site('lbt')\n",
    "\n",
    "table = observability_table(constraints, lbt, target_coords, time_range=time_range)\n",
    "\n",
    "print('Galaxy and fraction of time satisfying constraints:')\n",
    "\n",
    "# require observation fraction to be at least 0.1\n",
    "for i in range(0,len(table)):\n",
    "    if (table[i][3]>0.10):\n",
    "        print(galaxy_targets_new[\"GALAXY\"][i], table[i][3])\n"
   ]
  },
  {
   "cell_type": "code",
   "execution_count": null,
   "metadata": {},
   "outputs": [],
   "source": [
    "# view the set of galaxies\n",
    "\n",
    "# subroutine to make the image mosaic\n",
    "def get_concat(data,rows,galaxy_targets_new,ct,image_number):\n",
    "    xlen = len(data)\n",
    "    w = data[0].width\n",
    "    h = data[0].height\n",
    "    dst = Image.new('RGB', (3*w + 40 , rows*h+(rows-1)*10),color='white')\n",
    "    draw = ImageDraw.Draw(dst)\n",
    "    for i in range(rows):\n",
    "        for j in range(3):\n",
    "            count = i*3 + j\n",
    "            tcount = count + ct*image_number \n",
    "            if (count < xlen):\n",
    "                dst.paste(data[count], (j*w+j*10, i*h+i*10))\n",
    "                draw.text((j*w+j*10+7,i*h+i*10+15), str(galaxy_targets_new['GALAXY'][tcount]), fill=(255,255,0))\n",
    "    return dst\n",
    "\n",
    "#filename = 'targets.jpg'\n",
    "\n",
    "#try:\n",
    "#    os.remove(filename)\n",
    "#except OSError:\n",
    "#    pass\n",
    "\n",
    "# maximum images per mosaic\n",
    "image_number = 100\n",
    "\n",
    "jlen = 0\n",
    "x_data = []\n",
    "\n",
    "xlen = len(galaxy_targets_new)\n",
    "\n",
    "count = 0\n",
    "flag = 0\n",
    "\n",
    "for i in range(xlen):\n",
    "\n",
    "    if(table[i][3]>0.1):\n",
    "    \n",
    "        jlen += 1\n",
    "        try:\n",
    "            os.remove('trash.png')\n",
    "        except:\n",
    "            pass\n",
    "        file = open(\"trash.png\", \"wb+\")\n",
    "# this sets the link to get the postage stamp image\n",
    "        link = 'http://legacysurvey.org/viewer/jpeg-cutout/?ra=' + str(galaxy_targets_new['RA'][i]) + '&dec=' + str(galaxy_targets_new['DEC'][i]) +'&layer=dr8&pixscale=5&bands=grz'\n",
    "# gets the image\n",
    "        r = requests.get(link)\n",
    "        if (len(r.content) < 10000):\n",
    "            r = requests.get(link)\n",
    "        file.write(r.content)\n",
    "        file.close()\n",
    "        \n",
    "        if (jlen < image_number):\n",
    "            try:\n",
    "                x_data.append(Image.open('trash.png'))\n",
    "            except OSError:\n",
    "                print('error 1',i)\n",
    "                jlen -= 1\n",
    "        else:\n",
    "            try:\n",
    "                x_data.append(Image.open('trash.png'))\n",
    "            except OSError:\n",
    "                print('error 2')\n",
    "            jlen = 0\n",
    "            rows = int(len(x_data)/3) + 1\n",
    "            filename = 'targets' + str(count) + '.jpg'\n",
    "            print(filename)\n",
    "            try:\n",
    "                os.remove(filename)\n",
    "            except OSError:\n",
    "                pass\n",
    "\n",
    "            get_concat(x_data,rows,gal_targets_new,count,image_number).save(filename)\n",
    "            count += 1\n",
    "            x_data = []\n",
    "    \n",
    "\n",
    "rows = int(jlen/3) + 1\n",
    "filename = 'targets' + str(count) + '.jpg'\n",
    "print(filename)\n",
    "try:\n",
    "    os.remove(filename)\n",
    "except OSError:\n",
    "    pass\n",
    "\n",
    "get_concat(x_data,rows,galaxy_targets_new,count,image_number).save(filename)\n"
   ]
  },
  {
   "cell_type": "markdown",
   "metadata": {},
   "source": [
    "## Conclusion: "
   ]
  },
  {
   "cell_type": "markdown",
   "metadata": {},
   "source": [
    "\n",
    " You can delete SGA-2020.fits, which takes up a lot of disk space."
   ]
  },
  {
   "cell_type": "code",
   "execution_count": null,
   "metadata": {},
   "outputs": [],
   "source": []
  }
 ],
 "metadata": {
  "kernelspec": {
   "display_name": "Python 3",
   "language": "python",
   "name": "python3"
  },
  "language_info": {
   "codemirror_mode": {
    "name": "ipython",
    "version": 3
   },
   "file_extension": ".py",
   "mimetype": "text/x-python",
   "name": "python",
   "nbconvert_exporter": "python",
   "pygments_lexer": "ipython3",
   "version": "3.8.8"
  }
 },
 "nbformat": 4,
 "nbformat_minor": 4
}
