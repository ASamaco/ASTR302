{
 "cells": [
  {
   "cell_type": "markdown",
   "metadata": {
    "tags": []
   },
   "source": [
    "# ASTR302 Lab 1: Introduction to Jupyter and Statistical Distributions"
   ]
  },
  {
   "cell_type": "markdown",
   "metadata": {},
   "source": [
    "In this Lab you will be introduced to Jupyter notebooks and basic python.  You will use those skills to begin exploring the statistical distributions we discussed in lecture. Although you should work through the entire notebook, blue boxes highlight where there is more work to do (writing code or answering questions) and green boxes specific places for you to answer questions."
   ]
  },
  {
   "cell_type": "markdown",
   "metadata": {
    "tags": []
   },
   "source": [
    "## Jupyter Review"
   ]
  },
  {
   "cell_type": "markdown",
   "metadata": {},
   "source": [
    "Each entry in a Jupyter notebook is called a cell. You can run cells in whatever order you select to. They are independent, but variable values are retained. \n",
    "\n",
    "You can run the contents of individual cells by selecting them and pressing **CTRL-Enter** or pressing the play arrow above. You can interrupt the excecution of the cell by pressing the stop (square) button above.\n",
    "\n",
    "You can run the contents of individual cells AND add a new cell underneath by pressing **ALT-Enter**. \n",
    "\n",
    "You can delete a cell by selecting it and pressing **d** twice or selecting the scissors above.\n",
    "\n",
    "You can add a text block like this cell by pressing **Esc-m** (or use the dropdown at the top and change from Code to Markdown.  This is useful for adding in notes that you want to remember.\n",
    "\n",
    "There are three types of cells (code, markdown, and raw). Make sure the cell is a code cell if you are writing code and a markdown cell if you are writing text, for example when responding to a question. There is a pulldown menu at the top of this window where you can select the cell type.\n",
    "\n",
    "You can find more information on Jupyter notebooks here: \n",
    "https://jupyter-notebook.readthedocs.io/en/stable/\n",
    "***"
   ]
  },
  {
   "cell_type": "markdown",
   "metadata": {},
   "source": [
    "## Python Review"
   ]
  },
  {
   "cell_type": "markdown",
   "metadata": {},
   "source": [
    "The core python programming language provides a small number of built-in functions.  You can see a description of them here: https://docs.python.org/3/library/functions.html . Most of the high-level functions you will want for numerical data analysis are not built-in.  You access these by importing *packages*.  \n",
    "\n",
    "You can import a package like this:"
   ]
  },
  {
   "cell_type": "code",
   "execution_count": 1,
   "metadata": {},
   "outputs": [],
   "source": [
    "import astropy"
   ]
  },
  {
   "cell_type": "markdown",
   "metadata": {},
   "source": [
    "This gives you access to the *astropy* package, which provides numerous astronomical utilities.  There are sub-packages within *astropy*, such as *constants*, which contains useful astronomical constants.  You import the subpackage like this:"
   ]
  },
  {
   "cell_type": "code",
   "execution_count": 2,
   "metadata": {},
   "outputs": [
    {
     "name": "stdout",
     "output_type": "stream",
     "text": [
      "  Name   = Speed of light in vacuum\n",
      "  Value  = 299792458.0\n",
      "  Uncertainty  = 0.0\n",
      "  Unit  = m / s\n",
      "  Reference = CODATA 2018\n",
      "299792458.0\n"
     ]
    }
   ],
   "source": [
    "import astropy.constants\n",
    "c = astropy.constants.c  #Retrieve the speed of light, and store in variable 'c'\n",
    "print(c) #Print a variable using the print object\n",
    "print(c.value) #Get just the value"
   ]
  },
  {
   "cell_type": "markdown",
   "metadata": {},
   "source": [
    "You will frequently see someone do imports like this:"
   ]
  },
  {
   "cell_type": "code",
   "execution_count": 3,
   "metadata": {},
   "outputs": [],
   "source": [
    "from datetime import *"
   ]
  },
  {
   "cell_type": "markdown",
   "metadata": {},
   "source": [
    "This says *from the datetime package, import everything directly into the current environment.* **This is very bad, and you should not do it.**  If two different packages have functions in them that are named the same thing, and if you import both of them like this, then they will overwrite each other and your code will be confusing.  \n",
    "\n",
    "*There are a few exceptions to this rule, but you will likely not encounter them in this class.*\n",
    "\n",
    "***"
   ]
  },
  {
   "cell_type": "markdown",
   "metadata": {},
   "source": [
    "## Mathematics"
   ]
  },
  {
   "cell_type": "markdown",
   "metadata": {},
   "source": [
    "To calculate things we need to import a mathematical package.  *numpy* is the standard."
   ]
  },
  {
   "cell_type": "code",
   "execution_count": 4,
   "metadata": {},
   "outputs": [],
   "source": [
    "import numpy as np"
   ]
  },
  {
   "cell_type": "markdown",
   "metadata": {},
   "source": [
    "Note that I am both importing the 'numpy' package, and changing its name (in this session) to 'np'.  This is because I am lazy and typing 'np' is faster than typing 'numpy'.\n",
    "\n",
    "You can find the documentation on the numpy package here: [https://numpy.org/devdocs/reference/index.html](https://numpy.org/devdocs/reference/index.html) . I found this by searching for 'numpy manual'.\n",
    "\n",
    "Numpy allows you to create vector and matrix arrays:"
   ]
  },
  {
   "cell_type": "code",
   "execution_count": 5,
   "metadata": {},
   "outputs": [
    {
     "data": {
      "text/plain": [
       "array([1, 2, 3, 4])"
      ]
     },
     "execution_count": 5,
     "metadata": {},
     "output_type": "execute_result"
    }
   ],
   "source": [
    "v = np.array([1,2,3,4])\n",
    "v"
   ]
  },
  {
   "cell_type": "markdown",
   "metadata": {},
   "source": [
    "Note that I did not use print(v).  Instead I asked python to give me information about the object itself.  It tells me that it is *type* array, and has elements [1, 2, 3, 4]"
   ]
  },
  {
   "cell_type": "code",
   "execution_count": 6,
   "metadata": {},
   "outputs": [
    {
     "name": "stdout",
     "output_type": "stream",
     "text": [
      "[1 2 3 4]\n"
     ]
    }
   ],
   "source": [
    "print(v)"
   ]
  },
  {
   "cell_type": "markdown",
   "metadata": {},
   "source": [
    "Print just shows the contents (as a python list).\n",
    "\n",
    "Now make a bigger array:"
   ]
  },
  {
   "cell_type": "code",
   "execution_count": 7,
   "metadata": {},
   "outputs": [],
   "source": [
    "v = np.arange(0,10000,1) #This arange call creates a long array from 0 to 10000 with step size = 1"
   ]
  },
  {
   "cell_type": "code",
   "execution_count": 8,
   "metadata": {},
   "outputs": [
    {
     "data": {
      "text/plain": [
       "array([   0,    1,    2, ..., 9997, 9998, 9999], shape=(10000,))"
      ]
     },
     "execution_count": 8,
     "metadata": {},
     "output_type": "execute_result"
    }
   ],
   "source": [
    "v"
   ]
  },
  {
   "cell_type": "markdown",
   "metadata": {},
   "source": [
    "Note that python doesn't display the entire array, only the ends --- and also note that python (and packages) have a wide range of utilities. So if you want to do something, it is highly likely a version of that already exists that you can access.\n",
    "\n",
    "***"
   ]
  },
  {
   "cell_type": "markdown",
   "metadata": {},
   "source": [
    "## Uniform Distribution"
   ]
  },
  {
   "cell_type": "markdown",
   "metadata": {},
   "source": [
    "Let's use numpy to generate a uniform set of 100 random numbers from -10 to 10"
   ]
  },
  {
   "cell_type": "code",
   "execution_count": 9,
   "metadata": {},
   "outputs": [],
   "source": [
    "sample = np.random.uniform(-10,10,100)"
   ]
  },
  {
   "cell_type": "markdown",
   "metadata": {},
   "source": [
    "Let's examine that sample:"
   ]
  },
  {
   "cell_type": "code",
   "execution_count": 10,
   "metadata": {},
   "outputs": [
    {
     "name": "stdout",
     "output_type": "stream",
     "text": [
      "[-4.00538318  4.32407106  1.61273734 -4.3633258  -7.68313048  6.5466598\n",
      " -0.80358952 -6.93174279  6.64527012 -1.23941707 -9.74612793 -8.07701845\n",
      " -9.16394617 -4.37738636  0.99984367 -0.51520621 -3.73642385 -8.22765449\n",
      "  7.29186406  1.33769427  9.16959465 -2.22380072  9.52268679 -9.2809725\n",
      " -9.10859173  8.37734551 -6.42077846  2.79935363 -0.40414081 -0.91703824\n",
      " -5.017559    1.00272689 -9.90600796 -8.16338267  5.24165084  8.96000393\n",
      "  3.36167696 -7.65176425  4.44930275 -5.72442405 -6.56255102  4.6845012\n",
      " -3.8479521  -0.06946907 -1.42759562  7.87389106  9.10770345  9.91068907\n",
      " -3.78691724  0.83864439 -9.37231644  0.87518448 -3.05903793  9.35504442\n",
      " -2.00381284 -8.47495242  5.84827577  4.84786087 -8.345083    9.2655673\n",
      " -9.93613194 -9.72287459  1.50969936  9.7049455  -3.91435437  4.16152934\n",
      "  7.80739498 -2.82434673 -0.75138577  0.07725039  4.21400196  6.26984325\n",
      " -1.12614659  7.36369188 -1.36877234  6.67982673  4.64187383  5.76164414\n",
      " -0.18709031 -9.35488068  4.97363033 -8.85934941  7.73389038 -9.43732853\n",
      " -8.29611995 -4.94567355 -0.87659228  7.30810323  1.42279025  3.62627736\n",
      "  3.98510894  2.27832914 -5.9599263   6.81864431 -8.85395265 -3.12516403\n",
      "  0.78467053 -9.77606686  9.23757638 -4.11916194]\n"
     ]
    }
   ],
   "source": [
    "print(sample)"
   ]
  },
  {
   "cell_type": "markdown",
   "metadata": {},
   "source": [
    "Create a histogram of those random numbers, with one bin per integer value:"
   ]
  },
  {
   "cell_type": "code",
   "execution_count": 11,
   "metadata": {},
   "outputs": [],
   "source": [
    "bins = np.linspace(-10,10,21)   #lower and upper limit, number of points"
   ]
  },
  {
   "cell_type": "code",
   "execution_count": 12,
   "metadata": {},
   "outputs": [
    {
     "name": "stdout",
     "output_type": "stream",
     "text": [
      "[-10.  -9.  -8.  -7.  -6.  -5.  -4.  -3.  -2.  -1.   0.   1.   2.   3.\n",
      "   4.   5.   6.   7.   8.   9.  10.]\n"
     ]
    }
   ],
   "source": [
    "print(bins)"
   ]
  },
  {
   "cell_type": "code",
   "execution_count": 13,
   "metadata": {},
   "outputs": [],
   "source": [
    "histogram, bins = np.histogram(sample, bins=bins)"
   ]
  },
  {
   "cell_type": "code",
   "execution_count": 14,
   "metadata": {},
   "outputs": [
    {
     "name": "stdout",
     "output_type": "stream",
     "text": [
      "[11  8  2  3  3  5  6  3  4  8  5  5  2  3  8  3  5  6  2  8]\n"
     ]
    }
   ],
   "source": [
    "print(histogram)"
   ]
  },
  {
   "cell_type": "markdown",
   "metadata": {},
   "source": [
    "Why did we use linspace instead of array?  Read the documentation on numpy.linspace (for example here https://realpython.com/np-linspace-numpy/)"
   ]
  },
  {
   "cell_type": "markdown",
   "metadata": {},
   "source": [
    "## Plotting"
   ]
  },
  {
   "cell_type": "markdown",
   "metadata": {},
   "source": [
    "Now we can use the matplotlib package to plot this distribution.  First import it, and configure it to draw within the python notebook"
   ]
  },
  {
   "cell_type": "code",
   "execution_count": 15,
   "metadata": {},
   "outputs": [],
   "source": [
    "import matplotlib.pyplot as plt"
   ]
  },
  {
   "cell_type": "markdown",
   "metadata": {},
   "source": [
    "We want the plot to show bin centers halfway between the edge of each bin"
   ]
  },
  {
   "cell_type": "code",
   "execution_count": 16,
   "metadata": {},
   "outputs": [],
   "source": [
    "bin_centers = 0.5*(bins[1:]+bins[:-1])"
   ]
  },
  {
   "cell_type": "code",
   "execution_count": 17,
   "metadata": {},
   "outputs": [
    {
     "name": "stdout",
     "output_type": "stream",
     "text": [
      "[-9.5 -8.5 -7.5 -6.5 -5.5 -4.5 -3.5 -2.5 -1.5 -0.5  0.5  1.5  2.5  3.5\n",
      "  4.5  5.5  6.5  7.5  8.5  9.5]\n"
     ]
    }
   ],
   "source": [
    "print(bin_centers)"
   ]
  },
  {
   "cell_type": "markdown",
   "metadata": {},
   "source": [
    "Now setup the plot. **ALWAYS** label the axes. You will lose points if you do not label axes."
   ]
  },
  {
   "cell_type": "code",
   "execution_count": 18,
   "metadata": {},
   "outputs": [
    {
     "data": {
      "image/png": "[encoded data removed]",
      "text/plain": [
       "<Figure size 1000x600 with 1 Axes>"
      ]
     },
     "metadata": {},
     "output_type": "display_data"
    }
   ],
   "source": [
    "plt.figure(figsize=(10,6))\n",
    "\n",
    "plt.plot(bin_centers, histogram)\n",
    "plt.ylim(0,np.max(histogram*1.2))\n",
    "plt.xlabel('Value')\n",
    "plt.ylabel('Frequency (N)')\n",
    "plt.title('Uniform Distribution')\n",
    "plt.show()"
   ]
  },
  {
   "cell_type": "markdown",
   "metadata": {},
   "source": [
    "That doesn't look very uniform.  Why? What happens if we increase the number of points to 10000?  Change the size of the sample in the original np.random.uniform call and re-run the notebook steps. This is your introduction to the concept of signal-to-noise. The fluctuations in the new plot are larger in value and yet they look smaller relative to the mean value. What is going on here? **This is an important concept to fully understand.**"
   ]
  },
  {
   "cell_type": "markdown",
   "metadata": {},
   "source": [
    "When plotting histograms, it is useful for the plot to not play 'connect-the-dots'.  Rather, we want bar style plots."
   ]
  },
  {
   "cell_type": "code",
   "execution_count": 19,
   "metadata": {},
   "outputs": [
    {
     "data": {
      "image/png": "[encoded data removed]",
      "text/plain": [
       "<Figure size 1000x400 with 1 Axes>"
      ]
     },
     "metadata": {},
     "output_type": "display_data"
    }
   ],
   "source": [
    "plt.figure(figsize=(10,4))   # sets size of plot, you can play with this\n",
    "plt.bar(bin_centers, histogram)\n",
    "plt.ylim(0,np.max(histogram*1.2))\n",
    "plt.xlabel('Value')\n",
    "plt.ylabel('Frequency (N)')\n",
    "plt.title('Uniform Distribution')\n",
    "plt.show()"
   ]
  },
  {
   "cell_type": "markdown",
   "metadata": {},
   "source": [
    "## Gaussian Distribution"
   ]
  },
  {
   "cell_type": "markdown",
   "metadata": {},
   "source": [
    "Now change from a uniform distribution to a normal (or Gaussian) distribution"
   ]
  },
  {
   "cell_type": "code",
   "execution_count": 20,
   "metadata": {},
   "outputs": [],
   "source": [
    "sample = np.random.normal(0,2.5,10000)"
   ]
  },
  {
   "cell_type": "markdown",
   "metadata": {},
   "source": [
    "Note that the function parameters for 'normal' are different than for uniform.  Use the numpy documentation to figure out what they are."
   ]
  },
  {
   "cell_type": "code",
   "execution_count": 21,
   "metadata": {},
   "outputs": [
    {
     "name": "stdout",
     "output_type": "stream",
     "text": [
      "[-1.40546581 -2.27668436  2.29483489 ...  2.43440775  6.61389956\n",
      " -1.19489365]\n"
     ]
    }
   ],
   "source": [
    "print(sample)"
   ]
  },
  {
   "cell_type": "code",
   "execution_count": 22,
   "metadata": {},
   "outputs": [],
   "source": [
    "histogram, bins = np.histogram(sample, bins=bins)"
   ]
  },
  {
   "cell_type": "code",
   "execution_count": 23,
   "metadata": {},
   "outputs": [
    {
     "data": {
      "image/png": "[encoded data removed]",
      "text/plain": [
       "<Figure size 1000x400 with 1 Axes>"
      ]
     },
     "metadata": {},
     "output_type": "display_data"
    }
   ],
   "source": [
    "plt.figure(figsize=(10,4))\n",
    "plt.bar(bin_centers, histogram)\n",
    "plt.ylim(0,np.max(histogram*1.2))  # set y axis to give a little more headroom\n",
    "plt.xlabel('Value')\n",
    "plt.ylabel('Frequency (N)')\n",
    "plt.title('Gaussian Distribution')\n",
    "plt.show()"
   ]
  },
  {
   "cell_type": "markdown",
   "metadata": {},
   "source": [
    "<div class=\"alert alert-info\">Experiment with changing the standard deviation and center location of the distribution.  You will probably need to change the range of the bins (see above how the bins and bin centers were defined).  Copy the above code and insert the required code in the box below. </div>"
   ]
  },
  {
   "cell_type": "code",
   "execution_count": 24,
   "metadata": {
    "tags": []
   },
   "outputs": [],
   "source": [
    "# fill in code here"
   ]
  },
  {
   "cell_type": "markdown",
   "metadata": {},
   "source": [
    "## Binomial Distribution"
   ]
  },
  {
   "cell_type": "markdown",
   "metadata": {},
   "source": [
    "The binomial distribution governs the outcome of an experiment where there are two possible outcomes.  This is the coin-flip experiment probability\n",
    "\n",
    "$$P(x) = {n \\choose {x}} p^x (1-p)^{n-x},$$\n",
    "\n",
    "where $x$ is the number of positive outcomes out of $n$ trials, and $p$ is the probability of that positive outcome per trial (i.e., 0.5 for a coin toss)."
   ]
  },
  {
   "cell_type": "markdown",
   "metadata": {},
   "source": [
    "numpy will generate a binomial distribution.  For a class of 20 students, each conducting the coin flip experiment 10 times:"
   ]
  },
  {
   "cell_type": "code",
   "execution_count": 25,
   "metadata": {},
   "outputs": [],
   "source": [
    "students = 20\n",
    "tosses = 10\n",
    "p = 0.5\n",
    "samples = np.random.binomial(tosses,p,students)"
   ]
  },
  {
   "cell_type": "code",
   "execution_count": 26,
   "metadata": {},
   "outputs": [
    {
     "name": "stdout",
     "output_type": "stream",
     "text": [
      "[3 6 8 4 4 3 6 3 5 5 7 3 6 5 6 5 4 6 4 4]\n"
     ]
    }
   ],
   "source": [
    "print(samples)"
   ]
  },
  {
   "cell_type": "code",
   "execution_count": 27,
   "metadata": {},
   "outputs": [],
   "source": [
    "bins = np.linspace(0,tosses,tosses+1)"
   ]
  },
  {
   "cell_type": "code",
   "execution_count": 28,
   "metadata": {},
   "outputs": [
    {
     "name": "stdout",
     "output_type": "stream",
     "text": [
      "[ 0.  1.  2.  3.  4.  5.  6.  7.  8.  9. 10.]\n"
     ]
    }
   ],
   "source": [
    "print(bins)"
   ]
  },
  {
   "cell_type": "code",
   "execution_count": 29,
   "metadata": {},
   "outputs": [],
   "source": [
    "bin_centers = 0.5*(bins[1:]+bins[:-1])"
   ]
  },
  {
   "cell_type": "code",
   "execution_count": 30,
   "metadata": {},
   "outputs": [],
   "source": [
    "histogram, bins = np.histogram(samples, bins=bins, density=False)"
   ]
  },
  {
   "cell_type": "code",
   "execution_count": 31,
   "metadata": {},
   "outputs": [
    {
     "data": {
      "image/png": "[encoded data removed]",
      "text/plain": [
       "<Figure size 1000x400 with 1 Axes>"
      ]
     },
     "metadata": {},
     "output_type": "display_data"
    }
   ],
   "source": [
    "plt.figure(figsize=(10,4))\n",
    "plt.bar(bin_centers, histogram,)\n",
    "plt.ylim(0,np.max(histogram*1.2))\n",
    "plt.xlabel('Number of Heads (or Tails)')\n",
    "plt.ylabel('Frequency (Number of Students with Outcome)')\n",
    "plt.title('Binomial Distribution')\n",
    "plt.show()"
   ]
  },
  {
   "cell_type": "markdown",
   "metadata": {},
   "source": [
    "<div class=\"alert alert-info\">What happens when you increase the number of experiements (either number of students or number of tosses)? Redo the code (again, don't just change the parameters above and rerun - do it in a separate cell so that it is easy to compare the two reuslts. Code and answer below. Written answers to questions should always be placed in the green markdown boxes provide. </div>"
   ]
  },
  {
   "cell_type": "code",
   "execution_count": 32,
   "metadata": {},
   "outputs": [],
   "source": [
    "# fill in code here"
   ]
  },
  {
   "cell_type": "markdown",
   "metadata": {
    "execution": {
     "iopub.execute_input": "2023-11-22T21:26:19.748237Z",
     "iopub.status.busy": "2023-11-22T21:26:19.747555Z",
     "iopub.status.idle": "2023-11-22T21:26:19.755155Z",
     "shell.execute_reply": "2023-11-22T21:26:19.753352Z",
     "shell.execute_reply.started": "2023-11-22T21:26:19.748189Z"
    }
   },
   "source": [
    "<div class=\"alert alert-block alert-success\">\n",
    "Answer:\n",
    "</div>"
   ]
  },
  {
   "cell_type": "markdown",
   "metadata": {},
   "source": [
    "## Poisson Distribution"
   ]
  },
  {
   "cell_type": "markdown",
   "metadata": {},
   "source": [
    "The Poisson distribution gives you the probability of encountering a certain number of events in a given period, if those events are occuring at a known constant mean rate.  This is the distribution that governs most 'counting' situations, including the collection of photons from stars!  This is also the limit of the binomial distribution for large N and small p."
   ]
  },
  {
   "cell_type": "markdown",
   "metadata": {},
   "source": [
    "The distribution has one parameter: the average number of events, often expressed as $\\mu$:\n",
    "\n",
    "$$ P(x) = \\frac{\\mu^x}{x!} e^{-\\mu}$$"
   ]
  },
  {
   "cell_type": "markdown",
   "metadata": {},
   "source": [
    "Use the Poisson generator in numpy to generate a sample function with a mean rate of 10 for one hundred examples of the experiment."
   ]
  },
  {
   "cell_type": "code",
   "execution_count": 33,
   "metadata": {},
   "outputs": [],
   "source": [
    "mu = 10\n",
    "samples = np.random.poisson(mu, 100)"
   ]
  },
  {
   "cell_type": "code",
   "execution_count": 34,
   "metadata": {},
   "outputs": [
    {
     "name": "stdout",
     "output_type": "stream",
     "text": [
      "[ 6 13 13  7  9 12 10  8 11  4 11 11 14  9 12  8 11  9 12 16 12  8 21  5\n",
      " 10  7 15  7 10 17  9 12 12  7 15 10 15  8  9 13 13  5  9  9  8  6  9  8\n",
      " 20 11 23  9  9  5 14 10  8  4 13 13 13 12 10  8  9 11 12  9  9 23 12 12\n",
      " 11  7 15  6  7 13  9 11 11 14  9  9 11 13 17 13  7 10 13 13 10  8  3 15\n",
      " 12 12  9  6]\n"
     ]
    }
   ],
   "source": [
    "print(samples)"
   ]
  },
  {
   "cell_type": "code",
   "execution_count": 35,
   "metadata": {
    "tags": []
   },
   "outputs": [],
   "source": [
    "bins = np.linspace(min(samples)-1,max(samples)+1,(max(samples)-min(samples)+2))  # written to adjust to changes in lambda"
   ]
  },
  {
   "cell_type": "code",
   "execution_count": 36,
   "metadata": {
    "tags": []
   },
   "outputs": [],
   "source": [
    "histogram, bins = np.histogram(samples, bins=bins)"
   ]
  },
  {
   "cell_type": "code",
   "execution_count": 37,
   "metadata": {
    "tags": []
   },
   "outputs": [],
   "source": [
    "bin_centers = 0.5*(bins[1:]+bins[:-1])"
   ]
  },
  {
   "cell_type": "code",
   "execution_count": 38,
   "metadata": {
    "tags": []
   },
   "outputs": [
    {
     "data": {
      "image/png": "[encoded data removed]",
      "text/plain": [
       "<Figure size 1000x400 with 1 Axes>"
      ]
     },
     "metadata": {},
     "output_type": "display_data"
    }
   ],
   "source": [
    "plt.figure(figsize=(10,4))\n",
    "plt.bar(bin_centers, histogram)\n",
    "plt.ylim(0,np.max(histogram*1.2))\n",
    "plt.xlabel('Number of Occurances')\n",
    "plt.ylabel('Frequency (N)')\n",
    "plt.title('Poisson Distribution')\n",
    "plt.show()"
   ]
  },
  {
   "cell_type": "markdown",
   "metadata": {},
   "source": [
    "<div class=\"alert alert-info\">Now, increase the number of experiments and see how the function smoothes out. Compare the original distribution to a case with 10000 experiments.</div>"
   ]
  },
  {
   "cell_type": "code",
   "execution_count": 39,
   "metadata": {
    "tags": []
   },
   "outputs": [],
   "source": [
    "# fill in code here"
   ]
  },
  {
   "cell_type": "markdown",
   "metadata": {
    "tags": []
   },
   "source": [
    "<div class=\"alert alert-block alert-success\">\n",
    "Answer:\n",
    "</div>"
   ]
  },
  {
   "cell_type": "markdown",
   "metadata": {},
   "source": [
    "<div class=\"alert alert-info\">What happens to the Poisson distribution for very low rates (try a value of 1)? What happens at very large $\\mu$ (try a value of 100). Show both cases and answer both questions below. </div>"
   ]
  },
  {
   "cell_type": "code",
   "execution_count": 40,
   "metadata": {},
   "outputs": [],
   "source": [
    "# fill in code here"
   ]
  },
  {
   "cell_type": "markdown",
   "metadata": {
    "execution": {
     "iopub.execute_input": "2023-11-22T21:28:36.767033Z",
     "iopub.status.busy": "2023-11-22T21:28:36.766471Z",
     "iopub.status.idle": "2023-11-22T21:28:36.773687Z",
     "shell.execute_reply": "2023-11-22T21:28:36.772169Z",
     "shell.execute_reply.started": "2023-11-22T21:28:36.766975Z"
    }
   },
   "source": [
    "<div class=\"alert alert-block alert-success\">\n",
    "Answer:\n",
    "</div>"
   ]
  },
  {
   "cell_type": "markdown",
   "metadata": {},
   "source": [
    "***"
   ]
  },
  {
   "cell_type": "markdown",
   "metadata": {},
   "source": [
    "## Conclusion: "
   ]
  },
  {
   "cell_type": "markdown",
   "metadata": {},
   "source": [
    " <div class=\"alert alert-info\">Save your notebook.  Append your LastNameFirstInitial to the filename and submit via D2L.</div>"
   ]
  }
 ],
 "metadata": {
  "kernelspec": {
   "display_name": "Python 3",
   "language": "python",
   "name": "python3"
  },
  "language_info": {
   "codemirror_mode": {
    "name": "ipython",
    "version": 3
   },
   "file_extension": ".py",
   "mimetype": "text/x-python",
   "name": "python",
   "nbconvert_exporter": "python",
   "pygments_lexer": "ipython3",
   "version": "3.12.1"
  }
 },
 "nbformat": 4,
 "nbformat_minor": 4
}
