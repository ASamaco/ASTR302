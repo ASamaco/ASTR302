{
 "cells": [
  {
   "cell_type": "markdown",
   "metadata": {
    "tags": []
   },
   "source": [
    "# ASTR302 Lab 6: Instrumental Stellar Photometry"
   ]
  },
  {
   "cell_type": "markdown",
   "metadata": {},
   "source": [
    "In this Lab you will calculate instrumental stellar magnitudes."
   ]
  },
  {
   "cell_type": "markdown",
   "metadata": {},
   "source": [
    "## Finding and centering on stars"
   ]
  },
  {
   "cell_type": "markdown",
   "metadata": {},
   "source": [
    "Counting the number of photons in the image of a star should be straightforward. However, there are two factors that complicate this calculation. First, the star, which is effectively a point source (i.e. unresolved at any likely diffraction limit with the possible exception of some nearby red giants and optical interferometry - which we are not dealing with here), are smeared out by the atmosphere. Second, the background light, which may be non-uniform and contaminated by other resolved objects, pollutes our star of interest. We will deal with both of those factors here.\n"
   ]
  },
  {
   "cell_type": "markdown",
   "metadata": {},
   "source": [
    "Before we start, lets import the packages you will be needing for this Lab and take a look at the image just to make sure. We will be using photutils from astropy. For more on this see https://photutils.readthedocs.io/en/stable/"
   ]
  },
  {
   "cell_type": "code",
   "execution_count": null,
   "metadata": {},
   "outputs": [],
   "source": [
    "import matplotlib.pyplot as plt\n",
    "import numpy as np\n",
    "import astropy as astro\n",
    "#from scipy import stats\n",
    "#from scipy.optimize import curve_fit\n",
    "\n",
    "from astropy.io import fits\n",
    "from astropy.wcs import WCS\n",
    "\n",
    "!pip install --upgrade pip\n",
    "!pip install photutils\n",
    "\n",
    "from photutils.detection import DAOStarFinder\n",
    "from astropy.stats import mad_std\n",
    "\n",
    "from astropy.stats import sigma_clipped_stats\n",
    "from astropy.stats import SigmaClip\n",
    "\n",
    "from astropy import units as u\n",
    "from photutils.background import Background2D, MedianBackground\n",
    "from photutils.aperture import aperture_photometry, CircularAnnulus, CircularAperture\n",
    "\n",
    "import csv\n"
   ]
  },
  {
   "cell_type": "code",
   "execution_count": null,
   "metadata": {},
   "outputs": [],
   "source": [
    "# define the image, open, and read the header information - use your reduced image from the previous workbook\n",
    "\n",
    "filename = 'imacs_image.fits'\n",
    "hdu = fits.open(filename)[0]\n",
    "image = hdu.data\n",
    "hdr = hdu.header\n",
    "\n",
    "plt.imshow(image, origin='lower', cmap='Greys_r',vmin=1100,vmax=1480)"
   ]
  },
  {
   "cell_type": "markdown",
   "metadata": {},
   "source": [
    "Lets start by subtracting out the smooth background in the image. We could simply assume a constant value (e.g., the mean or mode of the image), but usually the background has astronomical sources in it, so we'll try something a bit more sophisticated."
   ]
  },
  {
   "cell_type": "code",
   "execution_count": null,
   "metadata": {},
   "outputs": [],
   "source": [
    "# caculate statistics of image clipping 3sigma outliers\n",
    "mean, median, std = sigma_clipped_stats(image, sigma=3.0)\n",
    "print((mean, median, std))  "
   ]
  },
  {
   "cell_type": "markdown",
   "metadata": {},
   "source": [
    "However, the background also generally has large scale structure across the image, so we should try fitting (and subtracting) a 2-D model of the background (it doesn't make much difference in this example, but it can in other data)."
   ]
  },
  {
   "cell_type": "code",
   "execution_count": null,
   "metadata": {},
   "outputs": [],
   "source": [
    "sigma_clip = SigmaClip(sigma=3.0)\n",
    "bkg_estimator = MedianBackground()\n",
    "\n",
    "bkg = Background2D(image, (50, 50), filter_size=(3,3),sigma_clip=sigma_clip,bkg_estimator=bkg_estimator)\n",
    "\n",
    "plt.imshow(bkg.background, origin='lower', cmap='Greys_r',interpolation='nearest')\n",
    "\n",
    "image = image - bkg.background\n",
    "\n"
   ]
  },
  {
   "cell_type": "markdown",
   "metadata": {},
   "source": [
    "<div class=\"alert alert-info\"> What is that band on the right? Did we forget to do something to this image?</div>"
   ]
  },
  {
   "cell_type": "markdown",
   "metadata": {},
   "source": [
    "<div class=\"alert alert-block alert-success\">\n",
    "Answer:\n",
    "</div>"
   ]
  },
  {
   "cell_type": "markdown",
   "metadata": {},
   "source": [
    "<div class=\"alert alert-info\"> Go ahead and correct the image (skip the flat fielding) and then redo the 2-D background fit.</div>"
   ]
  },
  {
   "cell_type": "markdown",
   "metadata": {},
   "source": [
    "Write your code here:"
   ]
  },
  {
   "cell_type": "markdown",
   "metadata": {},
   "source": [
    "Now we will go ahead and use a routing from DAOPhot to find the stars. In this case we are setting the FWHM of the stars to 4 pixels and only selecting sources that are greater than 5sigma detections above the background noise. This gives us the coordinates of the sources, and other ancillary information. For example the sharpness is a measure of how extended/compact the source is. The mag is an estimate of the instrumental magnitude. But we want to do a better job on determining the instrumental magnitude."
   ]
  },
  {
   "cell_type": "code",
   "execution_count": null,
   "metadata": {},
   "outputs": [],
   "source": [
    "bkg_sigma = mad_std(image)  \n",
    "\n",
    "daofind = DAOStarFinder(fwhm=4.0, threshold=10.0 * bkg_sigma)  \n",
    "\n",
    "sources = daofind(image)  \n",
    "\n",
    "for col in sources.colnames:  \n",
    "    sources[col].info.format = '%.8g'  # for consistent table output\n",
    "\n",
    "print(sources)  "
   ]
  },
  {
   "cell_type": "markdown",
   "metadata": {},
   "source": [
    "A difficulty in assessing the total instrumental magnitude of a star (or any object) is that some of the flux from that objects gets scattered to large radii. However, if we set the aperture to be very large then we end up including flux from other nearby sources. The compromise is to use a small aperture for every object and use (isolated) stars to determine the fraction of the light that gets scattered outside of this small aperture. In this first cell we measure aperture magnitudes for a set of apertures randing from 3 to 40 pixels."
   ]
  },
  {
   "cell_type": "code",
   "execution_count": null,
   "metadata": {},
   "outputs": [],
   "source": [
    "positions = np.transpose((sources['xcentroid'], sources['ycentroid']))  \n",
    "\n",
    "radii = [3.0, 4.0, 5.0,7.0,10.0,15.0,25.0,40.0]\n",
    "\n",
    "apertures = [CircularAperture(positions, r=r) for r in radii]\n",
    "\n",
    "phot_table = aperture_photometry(image, apertures)\n",
    "\n",
    "header = []\n",
    "for col in phot_table.colnames:\n",
    "\n",
    "    phot_table[col].info.format = '%.8g'  # for consistent table output\n",
    "    header = np.append(header,col)\n",
    "\n",
    "# save the output for next notebook\n",
    "f = open('photometry.csv', 'w')\n",
    "\n",
    "writer = csv.writer(f)\n",
    "writer.writerow(header)\n",
    "\n",
    "for i in range(0,len(phot_table)):\n",
    "    writer.writerow(phot_table[i])\n",
    "\n",
    "f.close()"
   ]
  },
  {
   "cell_type": "markdown",
   "metadata": {},
   "source": [
    "In this next cell we show where the apertures are. You will have to adjust the plt.imshow limits to get a good view of the image."
   ]
  },
  {
   "cell_type": "code",
   "execution_count": null,
   "metadata": {},
   "outputs": [],
   "source": [
    "plt.imshow(image,interpolation='nearest',vmin=10, vmax=100)\n",
    "aperture = CircularAperture(positions, r=40)\n",
    "ann_patches = aperture.plot(color='white',lw=1)"
   ]
  },
  {
   "cell_type": "code",
   "execution_count": null,
   "metadata": {},
   "outputs": [],
   "source": [
    "# curve of growth\n",
    "\n",
    "import pandas as pd\n",
    "last = len(phot_table.columns)\n",
    "\n",
    "column = []\n",
    "\n",
    "for j in range(0,len(phot_table)):\n",
    "    column.append([])\n",
    "    for i in range(3,last):\n",
    "        column[-1].append(phot_table[j][i]/phot_table[j][last-1])\n",
    "\n",
    "df = pd.DataFrame(column)        \n",
    "df = df[(df[0]>0.3) & (df[0]<1) & (df[1]>0.3) & (df[1] < 1)]\n",
    "\n",
    "ap_frac = []\n",
    "for i in range(3,last):\n",
    "    ap_frac = np.append(ap_frac,df[i-3].mean())\n",
    "\n",
    "plt.plot(radii,ap_frac)  \n",
    "plt.xlabel('Radius (pix)')\n",
    "plt.ylabel('Flux Fraction')"
   ]
  },
  {
   "cell_type": "markdown",
   "metadata": {},
   "source": [
    "<div class=\"alert alert-info\"> Is there anything \"troubling\" about the results? If so, describe, investigate and apply a solution. If not, choose an aperture and aperture correction. Describe your reasoning.</div>"
   ]
  },
  {
   "cell_type": "markdown",
   "metadata": {},
   "source": [
    "Answer and/or code in here:"
   ]
  },
  {
   "cell_type": "markdown",
   "metadata": {},
   "source": [
    "## Conclusion: "
   ]
  },
  {
   "cell_type": "markdown",
   "metadata": {},
   "source": [
    " <div class=\"alert alert-info\">Save your notebook.  Append your LastNameFirstInitial to the filename and submit via D2L. </div>"
   ]
  },
  {
   "cell_type": "code",
   "execution_count": null,
   "metadata": {},
   "outputs": [],
   "source": []
  }
 ],
 "metadata": {
  "kernelspec": {
   "display_name": "Python 3 (DL,Py3.10.13)",
   "language": "python",
   "name": "python3"
  },
  "language_info": {
   "codemirror_mode": {
    "name": "ipython",
    "version": 3
   },
   "file_extension": ".py",
   "mimetype": "text/x-python",
   "name": "python",
   "nbconvert_exporter": "python",
   "pygments_lexer": "ipython3",
   "version": "3.10.13"
  }
 },
 "nbformat": 4,
 "nbformat_minor": 4
}
