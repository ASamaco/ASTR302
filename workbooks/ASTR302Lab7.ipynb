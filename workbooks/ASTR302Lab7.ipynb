{
 "cells": [
  {
   "cell_type": "markdown",
   "metadata": {
    "tags": []
   },
   "source": [
    "# ASTR302 Lab 7: Astrometry and Calibrated Photometry"
   ]
  },
  {
   "cell_type": "markdown",
   "metadata": {},
   "source": [
    "In this Lab you will determine the right ascension and declination of your sources and calibrate the photometry"
   ]
  },
  {
   "cell_type": "markdown",
   "metadata": {},
   "source": [
    "## Where are we?"
   ]
  },
  {
   "cell_type": "markdown",
   "metadata": {},
   "source": [
    "You probably pointed the telescope at this field, or at least someone did. So you would think we would know the coordinates. However, in general the telescope pointing is not succiently precise to serve our purposes. We want to do better. "
   ]
  },
  {
   "cell_type": "markdown",
   "metadata": {},
   "source": [
    "Before we start, lets import the packages you will be needing for this Lab. You'll be using the astrometry solver which is based on the astronomy.net algorithm. "
   ]
  },
  {
   "cell_type": "code",
   "execution_count": 1,
   "metadata": {
    "tags": []
   },
   "outputs": [
    {
     "name": "stdout",
     "output_type": "stream",
     "text": [
      "Requirement already satisfied: pip in /usr/local/python/3.12.1/lib/python3.12/site-packages (25.0.1)\n",
      "Requirement already satisfied: astrometry in /usr/local/python/3.12.1/lib/python3.12/site-packages (4.3.0)\n",
      "Requirement already satisfied: requests>=1.26 in /home/codespace/.local/lib/python3.12/site-packages (from astrometry) (2.32.3)\n",
      "Requirement already satisfied: charset-normalizer<4,>=2 in /home/codespace/.local/lib/python3.12/site-packages (from requests>=1.26->astrometry) (3.4.0)\n",
      "Requirement already satisfied: idna<4,>=2.5 in /home/codespace/.local/lib/python3.12/site-packages (from requests>=1.26->astrometry) (3.10)\n",
      "Requirement already satisfied: urllib3<3,>=1.21.1 in /home/codespace/.local/lib/python3.12/site-packages (from requests>=1.26->astrometry) (2.2.3)\n",
      "Requirement already satisfied: certifi>=2017.4.17 in /home/codespace/.local/lib/python3.12/site-packages (from requests>=1.26->astrometry) (2024.8.30)\n"
     ]
    }
   ],
   "source": [
    "#lets install the astrometry package (from astronomy.net)\n",
    "!pip install --upgrade pip\n",
    "!pip install astrometry\n",
    "\n",
    "import matplotlib.pyplot as plt\n",
    "import csv\n",
    "import astrometry\n",
    "import pandas as pd\n",
    "import astropy.units as u\n",
    "import numpy as np\n",
    "\n",
    "import astropy as ap\n",
    "from astropy.wcs import WCS\n",
    "from astropy.io import fits\n",
    "\n",
    "# the 'scales' in the following need to be chosen match to the estimated field-of-view (see https://pypi.org/project/astrometry/)\n",
    "# these scales are the ones for the image you are working with\n",
    "\n",
    "solver = astrometry.Solver(\n",
    "    astrometry.series_5200.index_files(\n",
    "        cache_directory=\"astrometry_cache\",\n",
    "        scales={1,3},\n",
    "    )\n",
    ")"
   ]
  },
  {
   "cell_type": "markdown",
   "metadata": {},
   "source": [
    "This next cell just reads in your photometry file from before and gets the list of stars that will be used by the astrometry solver."
   ]
  },
  {
   "cell_type": "code",
   "execution_count": 4,
   "metadata": {
    "tags": []
   },
   "outputs": [
    {
     "ename": "AttributeError",
     "evalue": "'float' object has no attribute 'replace'",
     "output_type": "error",
     "traceback": [
      "\u001b[0;31m---------------------------------------------------------------------------\u001b[0m",
      "\u001b[0;31mAttributeError\u001b[0m                            Traceback (most recent call last)",
      "Cell \u001b[0;32mIn[4], line 6\u001b[0m\n\u001b[1;32m      3\u001b[0m catalog \u001b[38;5;241m=\u001b[39m pd\u001b[38;5;241m.\u001b[39mread_csv(\u001b[38;5;124m'\u001b[39m\u001b[38;5;124mphotometry.csv\u001b[39m\u001b[38;5;124m'\u001b[39m)\n\u001b[1;32m      5\u001b[0m unit \u001b[38;5;241m=\u001b[39m \u001b[38;5;124m\"\u001b[39m\u001b[38;5;124mpix\u001b[39m\u001b[38;5;124m\"\u001b[39m\n\u001b[0;32m----> 6\u001b[0m x \u001b[38;5;241m=\u001b[39m [\u001b[43msub\u001b[49m\u001b[38;5;241;43m.\u001b[39;49m\u001b[43mreplace\u001b[49m(unit, \u001b[38;5;124m\"\u001b[39m\u001b[38;5;124m\"\u001b[39m)\u001b[38;5;241m.\u001b[39mstrip() \u001b[38;5;28;01mfor\u001b[39;00m sub \u001b[38;5;129;01min\u001b[39;00m catalog[\u001b[38;5;124m'\u001b[39m\u001b[38;5;124mxcenter\u001b[39m\u001b[38;5;124m'\u001b[39m]]\n\u001b[1;32m      7\u001b[0m y \u001b[38;5;241m=\u001b[39m [sub\u001b[38;5;241m.\u001b[39mreplace(unit, \u001b[38;5;124m\"\u001b[39m\u001b[38;5;124m\"\u001b[39m)\u001b[38;5;241m.\u001b[39mstrip() \u001b[38;5;28;01mfor\u001b[39;00m sub \u001b[38;5;129;01min\u001b[39;00m catalog[\u001b[38;5;124m'\u001b[39m\u001b[38;5;124mycenter\u001b[39m\u001b[38;5;124m'\u001b[39m]]\n\u001b[1;32m      9\u001b[0m stars \u001b[38;5;241m=\u001b[39m [(x[i],y[i]) \u001b[38;5;28;01mfor\u001b[39;00m i \u001b[38;5;129;01min\u001b[39;00m \u001b[38;5;28mrange\u001b[39m(\u001b[38;5;241m0\u001b[39m,\u001b[38;5;28mlen\u001b[39m(x))]\n",
      "\u001b[0;31mAttributeError\u001b[0m: 'float' object has no attribute 'replace'"
     ]
    }
   ],
   "source": [
    "# read the CSV file and make a list of coordinate pairs for astronometry solver\n",
    "import re\n",
    "catalog = pd.read_csv('photometry.csv')\n",
    "\n",
    "unit = \"pix\"\n",
    "x = [sub.replace(unit, \"\").strip() for sub in catalog['xcenter']]\n",
    "y = [sub.replace(unit, \"\").strip() for sub in catalog['ycenter']]\n",
    "\n",
    "stars = [(x[i],y[i]) for i in range(0,len(x))]\n",
    "print(stars)"
   ]
  },
  {
   "cell_type": "markdown",
   "metadata": {},
   "source": [
    "Now on to the actual solver. At the end we print out the header coordinates and the solved coordinates for comparison."
   ]
  },
  {
   "cell_type": "code",
   "execution_count": null,
   "metadata": {
    "tags": []
   },
   "outputs": [],
   "source": [
    "filename = 'imacs_image.fits'\n",
    "hdu = fits.open(filename)[0]\n",
    "image = hdu.data\n",
    "hdr = hdu.header\n",
    "\n",
    "import astrometry\n",
    "import logging\n",
    "\n",
    "logging.getLogger().setLevel(logging.INFO)\n",
    "\n",
    "print(stars)\n",
    "# start with values close to the what is given in the header\n",
    "solution = solver.solve(\n",
    "    stars=stars,\n",
    "    size_hint=None,\n",
    "    position_hint=astrometry.PositionHint(\n",
    "        ra_deg=346.2,\n",
    "        dec_deg=-8.68,\n",
    "        radius_deg=1.0),\n",
    "    solution_parameters=astrometry.SolutionParameters(),\n",
    ")    \n",
    "\n",
    "# defines new wcs reference frame using solved for values\n",
    "\n",
    "if solution.has_match():\n",
    "    wcs = solution.best_match().astropy_wcs()\n",
    "    \n",
    "# it there is a good solution check out correspondence with previous values\n",
    "    print('The header RA is ',hdr['RA-D'],'and the solved RA is ',solution.best_match().center_ra_deg)\n",
    "    print('The header Dec is ',hdr['DEC-D'],'and the solved Dec is ',solution.best_match().center_dec_deg)\n",
    "    print('The header plate scale is ',hdr['SCALE'],'and the solved plate scale is ',solution.best_match().scale_arcsec_per_pixel)"
   ]
  },
  {
   "cell_type": "markdown",
   "metadata": {},
   "source": [
    "Now we will display the image, with the new coordinates, and proceed to list the coordinates of your stars. The way we will calibrate the photometry is by comparing the instrumental magnitudes you have measured for your stars with the available Sloan Digital Sky Survey values available through the Legacy Viewer (https://www.legacysurvey.org/viewer/). To keep this relatively simple, we'll do this by hand. Note that the way the image is displayed here is flipped relative to how the Viewer shows the field. You will also need to adjust the vmin and vmax values to get the best image display."
   ]
  },
  {
   "cell_type": "code",
   "execution_count": null,
   "metadata": {
    "tags": []
   },
   "outputs": [],
   "source": [
    "# define the image, open, and read the header information - use your reduced image from the previous workbook\n",
    "\n",
    "# Create the plotting object with the WCS projection.\n",
    "plt.figure(figsize = (20,20))\n",
    "plt.subplot(projection=wcs)\n",
    "plt.imshow(image, vmin=1140, vmax=1220)\n",
    "plt.grid(color='white', ls='solid', alpha=1)\n",
    "plt.xlabel('Right Ascension',fontsize=24)\n",
    "plt.ylabel('Declination',fontsize=24)"
   ]
  },
  {
   "cell_type": "code",
   "execution_count": null,
   "metadata": {
    "tags": []
   },
   "outputs": [],
   "source": [
    "# print out the coordinates of the stars that were used for the coordinate solution\n",
    "if solution.has_match():\n",
    "    for star in solution.best_match().stars:\n",
    "        print(f\"{star.ra_deg}, {star.dec_deg}:\")\n",
    "        \n",
    "if solution.has_match():\n",
    "    wcs = solution.best_match().astropy_wcs()\n",
    "    pixels = wcs.all_world2pix(\n",
    "        [[star.ra_deg, star.dec_deg] for star in solution.best_match().stars],\n",
    "        0,\n",
    "    )\n",
    "# pixels is a len(solution.best_match().stars) x 2 numpy array of float values    \n",
    "print(pixels)"
   ]
  },
  {
   "cell_type": "markdown",
   "metadata": {},
   "source": [
    "You have a choice here. You can just use the Legacy Viewer and the coordinates of these stars to get the SDSS magnitudes (use r band, but also keep the g band as we will want to look at the dependence of the calibration vs. color) to build up your photometric calibration or you can use astroquery (https://iopscience.iop.org/article/10.3847/1538-3881/aafc33) to get the magnitudes from the SIMBAD database. The latter will likely require much more effort, but will be more general if you want to make it so."
   ]
  },
  {
   "cell_type": "markdown",
   "metadata": {},
   "source": [
    "<div class=\"alert alert-info\"> Make a plot of instrumental magnitude vs. SDSS magnitude for these stars. Perform a linear fit to get the zero point (the offset) and check for linearity. </div>"
   ]
  },
  {
   "cell_type": "markdown",
   "metadata": {},
   "source": [
    "<div class=\"alert alert-block alert-success\">\n",
    "Answer:\n",
    "</div>"
   ]
  },
  {
   "cell_type": "markdown",
   "metadata": {},
   "source": [
    "<div class=\"alert alert-info\"> Now plot the offset from the fit for each star vs. color. Do you see a trend or just scatter. If there is a trend, describe the possible origin and how to address it in the calibration.</div>"
   ]
  },
  {
   "cell_type": "markdown",
   "metadata": {},
   "source": [
    "<div class=\"alert alert-block alert-success\">\n",
    "Answer:\n",
    "</div>"
   ]
  },
  {
   "cell_type": "markdown",
   "metadata": {},
   "source": [
    "## Conclusion: "
   ]
  },
  {
   "cell_type": "markdown",
   "metadata": {},
   "source": [
    " <div class=\"alert alert-info\">Save your notebook.  Append your LastNameFirstInitial to the filename and submit via D2L </div>"
   ]
  }
 ],
 "metadata": {
  "kernelspec": {
   "display_name": "Python 3",
   "language": "python",
   "name": "python3"
  },
  "language_info": {
   "codemirror_mode": {
    "name": "ipython",
    "version": 3
   },
   "file_extension": ".py",
   "mimetype": "text/x-python",
   "name": "python",
   "nbconvert_exporter": "python",
   "pygments_lexer": "ipython3",
   "version": "3.12.1"
  }
 },
 "nbformat": 4,
 "nbformat_minor": 4
}
