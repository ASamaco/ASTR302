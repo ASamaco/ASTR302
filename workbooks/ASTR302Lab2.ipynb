{
 "cells": [
  {
   "cell_type": "markdown",
   "metadata": {
    "tags": []
   },
   "source": [
    "# ASTR302 Lab 2: Statistical Distributions and Uncertainties"
   ]
  },
  {
   "cell_type": "markdown",
   "metadata": {},
   "source": [
    "In this Lab you will continue to explore statistical distributions and develop an understanding of how they are used to estimate measurement uncertainties."
   ]
  },
  {
   "cell_type": "markdown",
   "metadata": {},
   "source": [
    "## Statistical Distribution Review"
   ]
  },
  {
   "cell_type": "markdown",
   "metadata": {},
   "source": [
    "Previously, we explored the uniform, Gaussian (or Normal), Binomial, and Poisson distributions. The latter three all have wide use in determining measurement uncertianties or outcomes.\n",
    "\n",
    "You should have a good understanding of which situations are related to the use of the Binomial and Poisson distributions from Lab 1. \n",
    "\n",
    "The Gaussian distribution is most closely related to the distribution of expected measurement deviations. This makes intuitive sense in that we expect our measurements to be unbiased with respect to the underlying correct value (so the deviations are symetrically centered on zero deviation) and that large deviations are rarer than small ones. Exactly how rare or not we will calculate next."
   ]
  },
  {
   "cell_type": "markdown",
   "metadata": {},
   "source": [
    "## Gaussians and the Interpretaton of $\\sigma$"
   ]
  },
  {
   "cell_type": "markdown",
   "metadata": {},
   "source": [
    "Before we start, lets import the packages you will be needing for this Lab.\n"
   ]
  },
  {
   "cell_type": "code",
   "execution_count": 1,
   "metadata": {},
   "outputs": [],
   "source": [
    "import numpy as np\n",
    "import scipy.integrate as integrate   # to help us do integrals"
   ]
  },
  {
   "cell_type": "markdown",
   "metadata": {},
   "source": [
    "Recall that the Gaussian distribution is\n",
    "$$P(x) = \\frac{1}{\\sigma\\sqrt{2\\pi}} e^{-(x-\\mu)^2/2\\sigma^2}$$\n",
    "where $\\mu$ is the mean value (the true value if **there are no systematic errors** and $\\sigma$ is the **standard deviation** or dispersion. The coefficient is there to ensure that the integral from $-\\infty$ to $\\infty$ is 1 (as it should be because there is a 100% chance of the measurement being between $-\\infty$ to $\\infty$). Therefore, $\\sigma$ is clearly the parameter of interest that describes how far 'off' our measurements can be.\n",
    "\n",
    "Let's find out what fraction of the time we can expect our measurement to be 1$\\sigma$ or less from the true value. To do this we can just integrate $P(x)$ between $\\pm 1 \\sigma$. "
   ]
  },
  {
   "cell_type": "code",
   "execution_count": 3,
   "metadata": {
    "tags": []
   },
   "outputs": [
    {
     "name": "stdout",
     "output_type": "stream",
     "text": [
      "Fraction of area under Gaussian between +- 1 sigma = 0.683\n",
      "Likelihood of having a chance measurement beyond +- 1 sigma = 0.317\n"
     ]
    }
   ],
   "source": [
    "sigma = 1.37  # I just chose a random number for sigma\n",
    "integral = integrate.quad(lambda x: 1/(np.sqrt(2*np.pi)*sigma)*np.exp(-x**2/(2*sigma**2)), -1*sigma, 1*sigma)  #integrating from -1sigma to +1sigma\n",
    "print(f'Fraction of area under Gaussian between +- 1 sigma = {integral[0]:.3f}')\n",
    "print(f'Likelihood of having a chance measurement beyond +- 1 sigma = {1-integral[0]:.3f}')"
   ]
  },
  {
   "cell_type": "markdown",
   "metadata": {},
   "source": [
    "A measurement that has a low likelihood of agreeing with the expectation is taken as evidence of a problem with the expectation. For example, it can be used out to rule out the specific model on which that expectation was based. A 32% chance, however, is not particularly compelling - it isn't so unlikely that the disagreement is just due to random chance. By convention in astronomy we often take a 3$\\sigma$ deviation as being compelling."
   ]
  },
  {
   "cell_type": "code",
   "execution_count": 4,
   "metadata": {},
   "outputs": [
    {
     "name": "stdout",
     "output_type": "stream",
     "text": [
      "Fraction of area under Gaussian between +- 3 sigma = 0.997\n",
      "Likelihood of having a chance measurement beyond +- 3 sigma = 0.003\n"
     ]
    }
   ],
   "source": [
    "sigma = 1.37  # I just chose a random number for sigma\n",
    "integral = integrate.quad(lambda x: 1/(np.sqrt(2*np.pi)*sigma)*np.exp(-x**2/(2*sigma**2)), -3*sigma, 3*sigma)  #integrating from -1sigma to +1sigma\n",
    "print(f'Fraction of area under Gaussian between +- 3 sigma = {integral[0]:.3f}')\n",
    "print(f'Likelihood of having a chance measurement beyond +- 3 sigma = {1-integral[0]:.3f}')"
   ]
  },
  {
   "cell_type": "markdown",
   "metadata": {},
   "source": [
    "<div class=\"alert alert-info\">What is the likelihood of such a 3$\\sigma$ deviation being due to random chance? </div> "
   ]
  },
  {
   "cell_type": "markdown",
   "metadata": {
    "execution": {
     "iopub.execute_input": "2024-01-25T20:39:58.855351Z",
     "iopub.status.busy": "2024-01-25T20:39:58.854789Z",
     "iopub.status.idle": "2024-01-25T20:39:58.860561Z",
     "shell.execute_reply": "2024-01-25T20:39:58.859379Z",
     "shell.execute_reply.started": "2024-01-25T20:39:58.855309Z"
    },
    "tags": []
   },
   "source": [
    "<div class=\"alert alert-block alert-success\">\n",
    "Answer: As you can see above, the code was edited to have a 3$\\sigma$ deviation where you can see the fraction of area under Gaussian between +- 3$\\sigma$ = 0.997 which is 99.7%. You can also see the likelihood of having a chance of measurement beyond +- 3$\\sigma$ - 0.003 or 0.3%. The likelihood of having a chance measurement beyond +- 3$\\sigma$ is the likelihood of such a 3$\\sigma$ deviation being due to random change is 0.003 or 0.3%.\n",
    "</div>"
   ]
  },
  {
   "cell_type": "markdown",
   "metadata": {},
   "source": [
    "For particularly important results, the threshold may be set even higher.\n",
    "\n",
    "An important property of this line of thinking is that the likelihood is not dependent on the specific value of $\\sigma$ as long as you quote the deviation in terms of $\\sigma$ (i.e. a '3$\\sigma$ deviation'). "
   ]
  },
  {
   "cell_type": "code",
   "execution_count": 4,
   "metadata": {},
   "outputs": [
    {
     "name": "stdout",
     "output_type": "stream",
     "text": [
      "Fraction of area under Gaussian between +- 3 sigma = 0.997\n",
      "Likelihood of having a chance measurement beyond +- 3 sigma = 0.003\n"
     ]
    }
   ],
   "source": [
    "sigma = 2.973  # I just chose a random number for sigma\n",
    "integral = integrate.quad(lambda x: 1/(np.sqrt(2*np.pi)*sigma)*np.exp(-x**2/(2*sigma**2)), -3*sigma, 3*sigma)  #integrating from -1sigma to +1sigma\n",
    "print(f'Fraction of area under Gaussian between +- 3 sigma = {integral[0]:.3f}')\n",
    "print(f'Likelihood of having a chance measurement beyond +- 3 sigma = {1-integral[0]:.3f}')"
   ]
  },
  {
   "cell_type": "code",
   "execution_count": 5,
   "metadata": {},
   "outputs": [
    {
     "name": "stdout",
     "output_type": "stream",
     "text": [
      "Fraction of area under Gaussian between +- 3 sigma = 0.997\n",
      "Likelihood of having a chance measurement beyond +- 3 sigma = 0.003\n"
     ]
    }
   ],
   "source": [
    "sigma = 5  # I just chose a random number for sigma\n",
    "integral = integrate.quad(lambda x: 1/(np.sqrt(2*np.pi)*sigma)*np.exp(-x**2/(2*sigma**2)), -3*sigma, 3*sigma)  #integrating from -1sigma to +1sigma\n",
    "print(f'Fraction of area under Gaussian between +- 3 sigma = {integral[0]:.3f}')\n",
    "print(f'Likelihood of having a chance measurement beyond +- 3 sigma = {1-integral[0]:.3f}')"
   ]
  },
  {
   "cell_type": "markdown",
   "metadata": {},
   "source": [
    "<div class=\"alert alert-info\"> Confirm that is the case by changing the value of $\\sigma$ to 2.973 (another, different, random number).\n",
    "\n",
    " - Confirmed with both 2.973 and a random number above</div>"
   ]
  },
  {
   "cell_type": "markdown",
   "metadata": {},
   "source": [
    "It is always a good thing when there are multiple ways to calculate an answer to a question. \n",
    "\n",
    "Integrals can in general also be evaluated using random numbers. Such technniques are generally dubbed 'Monte Carlo' in reference to the element of chance (and the famous casino of Monte Carlo - see https://www.montecarlosbm.com/en/casino-monaco/casino-monte-carlo). \n",
    "\n",
    "In this case we can just draw from a Gaussian distribution (which you have already done in Lab 1) and evaluate what fraction of the time is the draw within 1$\\sigma$. "
   ]
  },
  {
   "cell_type": "markdown",
   "metadata": {},
   "source": [
    "<div class=\"alert alert-info\">Confirm your previous results for 1 and 3 $\\sigma$. If they are not quite the same as before, why and what might you change? Answer below. </div>"
   ]
  },
  {
   "cell_type": "code",
   "execution_count": 6,
   "metadata": {},
   "outputs": [
    {
     "name": "stdout",
     "output_type": "stream",
     "text": [
      "Fraction of area under Gaussian between +- 1 sigma = 0.688\n",
      "Likelihood of having a measurement beyond +- 1 sigma = 0.312\n"
     ]
    }
   ],
   "source": [
    "sigma = 1.37\n",
    "sample = np.random.normal(0,sigma,1000)\n",
    "\n",
    "\n",
    "sample_within_1_sigma = [x for x in sample if -sigma <= x <= sigma]\n",
    "\n",
    "fraction_within_1_sigma = len(sample_within_1_sigma) / len(sample)\n",
    "\n",
    "likelihood_beyond_1_sigma = 1 - fraction_within_1_sigma\n",
    "\n",
    "\n",
    "print(f'Fraction of area under Gaussian between +- 1 sigma = {len(sample_within_1_sigma)/len(sample):.3f}')\n",
    "print(f'Likelihood of having a measurement beyond +- 1 sigma = {1-len(sample_within_1_sigma)/len(sample):.3f}')"
   ]
  },
  {
   "cell_type": "code",
   "execution_count": 7,
   "metadata": {},
   "outputs": [
    {
     "name": "stdout",
     "output_type": "stream",
     "text": [
      "Fraction of area under Gaussian between +- 3 sigma = 0.998\n",
      "Likelihood of having a measurement beyond +- 3 sigma = 0.002\n"
     ]
    }
   ],
   "source": [
    "sigma = 1.37\n",
    "sample = np.random.normal(0,sigma,1000)\n",
    "\n",
    "\n",
    "sample_within_3_sigma = [x for x in sample if -3*sigma <= x <= 3*sigma]\n",
    "\n",
    "fraction_within_3_sigma = len(sample_within_3_sigma) / len(sample)\n",
    "\n",
    "likelihood_beyond_3_sigma = 3 - fraction_within_3_sigma\n",
    "\n",
    "\n",
    "print(f'Fraction of area under Gaussian between +- 3 sigma = {len(sample_within_3_sigma)/len(sample):.3f}')\n",
    "print(f'Likelihood of having a measurement beyond +- 3 sigma = {1-len(sample_within_3_sigma)/len(sample):.3f}')"
   ]
  },
  {
   "cell_type": "markdown",
   "metadata": {},
   "source": [
    "<div class=\"alert alert-block alert-success\">\n",
    "Answer: As you can se, the values have a very slight deviation due to the calculated values of 0.683 and 0.317 for 1$\\sigma$ and 0.997 and 0.003 for 3$\\sigma$. This is partially due to the fact we are getting data from a random sample function. It is also due to the fact that I am only using a sample size of 1000 meaning that there is still room for being some randomness in the data. However, if we used a larger sample size of something like 10,000 or more, than we would start to get closer to the original values from before. I ran it again below with a sample size of 100,000 and this time I got the exact values i was looking for, for a 1$\\sigma and a 3$\\sigma$\n",
    "</div>"
   ]
  },
  {
   "cell_type": "code",
   "execution_count": 21,
   "metadata": {},
   "outputs": [
    {
     "name": "stdout",
     "output_type": "stream",
     "text": [
      "Fraction of area under Gaussian between +- 1 sigma = 0.683\n",
      "Likelihood of having a measurement beyond +- 1 sigma = 0.317\n",
      "Fraction of area under Gaussian between +- 3 sigma = 0.997\n",
      "Likelihood of having a measurement beyond +- 3 sigma = 0.003\n"
     ]
    }
   ],
   "source": [
    "sigma = 1.37\n",
    "sample = np.random.normal(0,sigma,100000)\n",
    "\n",
    "sample_within_1_sigma = [x for x in sample if -sigma <= x <= sigma]\n",
    "fraction_within_1_sigma = len(sample_within_1_sigma) / len(sample)\n",
    "likelihood_beyond_1_sigma = 1 - fraction_within_1_sigma\n",
    "\n",
    "sample_within_3_sigma = [x for x in sample if -3*sigma <= x <= 3*sigma]\n",
    "fraction_within_3_sigma = len(sample_within_3_sigma) / len(sample)\n",
    "likelihood_beyond_3_sigma = 3 - fraction_within_3_sigma\n",
    "\n",
    "print(f'Fraction of area under Gaussian between +- 1 sigma = {len(sample_within_1_sigma)/len(sample):.3f}')\n",
    "print(f'Likelihood of having a measurement beyond +- 1 sigma = {1-len(sample_within_1_sigma)/len(sample):.3f}')\n",
    "print(f'Fraction of area under Gaussian between +- 3 sigma = {len(sample_within_3_sigma)/len(sample):.3f}')\n",
    "print(f'Likelihood of having a measurement beyond +- 3 sigma = {1-len(sample_within_3_sigma)/len(sample):.3f}')"
   ]
  },
  {
   "cell_type": "markdown",
   "metadata": {},
   "source": [
    "## Determining $\\sigma$"
   ]
  },
  {
   "cell_type": "markdown",
   "metadata": {},
   "source": [
    "If we know the value of $\\sigma$, then we can calculate the likelihood of a particular measurement - **however we rarely know $\\sigma$ in advance.** To estimate $\\sigma$ we turn to the standard deviation of our measurements. If we have enough meaurements and if the measurement excursions are drawn from a Gaussian distribution, then the standard deviation will be a fair approximation of $\\sigma$. \n",
    "\n",
    "Recall that the standard deviation is calcluated using\n",
    "$$S^2 = \\frac{1}{N}\\sum_{i=1}^{N} (x_i-\\mu)^2,$$\n",
    "but fortuntely numpy has a built-in function to do this."
   ]
  },
  {
   "cell_type": "code",
   "execution_count": 22,
   "metadata": {},
   "outputs": [
    {
     "name": "stdout",
     "output_type": "stream",
     "text": [
      "The standard deviation of the set of Gaussian draws = 1.367\n"
     ]
    }
   ],
   "source": [
    "standard_dev = np.std(sample)\n",
    "print(f'The standard deviation of the set of Gaussian draws = {standard_dev:.3f}')"
   ]
  },
  {
   "cell_type": "markdown",
   "metadata": {},
   "source": [
    "Did you get the result you expected?\n",
    "- While it is not the exact number for the standard deviation tht I was expecting, it is very close and when rounded it is the number I had expected."
   ]
  },
  {
   "cell_type": "markdown",
   "metadata": {},
   "source": [
    "<div class=\"alert alert-info\"> Now, lets assume you have a set of measurements (included in the cell below as the array measurements). \n",
    "What you would quote as your result? \n",
    "The convention is to quote the mean value $\\pm 1\\sigma$. So remember that most uncertainty ranges that you see only include about 2/3rds of the expected measurements. Fill in the cell below. </div>"
   ]
  },
  {
   "cell_type": "code",
   "execution_count": 24,
   "metadata": {},
   "outputs": [
    {
     "name": "stdout",
     "output_type": "stream",
     "text": [
      "The standard deviation of the set of Gaussian draws = 3.921\n",
      "Mean = 12.590722\n"
     ]
    }
   ],
   "source": [
    "# calculate mean value and standard deviation\n",
    "# np.mean is the numpy function for mean\n",
    "\n",
    "measurements = np.array([5.99792596,11.06015541,11.65410636,19.80187928,6.759849,13.71022563,\n",
    "16.6081179,13.88738697,13.98100988,12.44655947])\n",
    "\n",
    "mean = np.mean(measurements)\n",
    "standard_dev = np.std(measurements)\n",
    "\n",
    "print(f'The standard deviation of the set of Gaussian draws = {standard_dev:.3f}')\n",
    "print(f'Mean = {mean:3f}')"
   ]
  },
  {
   "cell_type": "markdown",
   "metadata": {},
   "source": [
    "- my result for the array of measurements above would be 12.59 $\\pm$ 3.92 which is the mean $\\pm$ 1$\\sigma$"
   ]
  },
  {
   "cell_type": "markdown",
   "metadata": {},
   "source": [
    "The Gaussian distribution is appropriate when the distribution is not limited by other factors. An example where the distribution is limited is a counting experiment because the counts cannot be $<$ 0. This situation can become particular extreme if the expected counts are quite small, i.e. near 0. For this we use the Poisson distribution and the uncertainties can be calculated in a similar manner (using either the integral or sampling approaches) but there is also a simple prescritpion that works roughly, which is that $\\sigma = \\sqrt{N}$, where $N$ is the number of events. For example, if the mean is 10 events, then you can quote 10$\\pm \\sqrt{10}$. Because photon flux rates tend to be small, Poissonian error estimates are often used in this context - but be careful, because they are not quite mathematically correct."
   ]
  },
  {
   "cell_type": "markdown",
   "metadata": {},
   "source": [
    "## Propagating Uncertainties"
   ]
  },
  {
   "cell_type": "markdown",
   "metadata": {},
   "source": [
    "You now know how to take your measurements and quote a value, its uncertainty, and therefore the likelihood of getting such a value in comparison either to another measurement or a theoretical model. But what happens if what you are really after is a mathematical combination of two measurements. In others words, $(A \\pm \\sigma_A) + (B \\pm \\sigma_B) = (A+B) \\pm ??$. \n",
    "\n",
    "**It is not $(A+B) \\pm (\\sigma_A + \\sigma_B)$.** Can you explain why it isn't?\n",
    "\n",
    "The standard way to propagate uncertainties in mathematical combinations of indepenent measurements (the value of $A$ in no way depends on the value of $B$), is as follows for the situation where $C = f(A,B)$ (and is generalizable to a larger number of variables):\n",
    "$$\\sigma_C^2 = \\big(\\frac{\\partial f}{\\partial A}\\big)^2\\sigma_A^2 + \\big(\\frac{\\partial f}{\\partial B}\\big)^2\\sigma_B^2$$\n",
    "\n",
    "<div class=\"alert alert-info\">Consider A $(12.5 \\pm 3.5)$ and B $(13.1 \\pm 2.9)$ and evaluate the sum and the difference of these, and given the propagated uncertainties using the above formula. Then, calculate the same using a numerical approach. Create two Gaussian samples of values representing A and B, sum (and difference) them and calculate the standard deviations of the resulting sets. Compare and discuss in the cell below.</div>"
   ]
  },
  {
   "cell_type": "code",
   "execution_count": 29,
   "metadata": {},
   "outputs": [
    {
     "name": "stdout",
     "output_type": "stream",
     "text": [
      "\n",
      "Monte Carlo Simulation:\n",
      "Sum Mean: 25.624047, Sum Std: 4.564693\n",
      "Diff Mean: -0.569645, Diff Std: 4.558573\n",
      "Sum_C = 25.624047 +- 4.564693\n",
      "30.18874006922364\n",
      "21.059354642730106\n",
      "Difference_C = -0.569645 +- 4.558573\n",
      "3.9889285840295696\n",
      "-5.12821806734874\n"
     ]
    }
   ],
   "source": [
    "# code to Monte Carlo the propagated uncertainties \n",
    "import numpy as np \n",
    "\n",
    "A_mean = 12.5\n",
    "A_std = 3.5\n",
    "B_mean= 13.1\n",
    "B_std = 2.9\n",
    "\n",
    "num_samples = 10000 \n",
    "\n",
    "def monte_carlo_simulation(A_mean, A_std, B_mean, B_std, num_samples):\n",
    "    A_samples = np.random.normal(A_mean, A_std, num_samples)\n",
    "    B_samples = np.random.normal(B_mean, B_std, num_samples)\n",
    "    \n",
    "    sum_samples = A_samples + B_samples\n",
    "    diff_samples = A_samples - B_samples\n",
    "    \n",
    "    sum_mean = np.mean(sum_samples)\n",
    "    sum_std = np.std(sum_samples)\n",
    "    diff_mean = np.mean(diff_samples)\n",
    "    diff_std = np.std(diff_samples)\n",
    "    \n",
    "    return sum_mean, sum_std, diff_mean, diff_std \n",
    "\n",
    "print(\"\\nMonte Carlo Simulation:\")\n",
    "sum_mean_mc, sum_std_mc, diff_mean_mc, diff_std_mc = monte_carlo_simulation(A_mean, A_std, B_mean, B_std, num_samples)\n",
    "print(f\"Sum Mean: {sum_mean_mc:3f}, Sum Std: {sum_std_mc:3f}\")\n",
    "print(f\"Diff Mean: {diff_mean_mc:3f}, Diff Std: {diff_std_mc:3f}\")\n",
    "print(f'Sum_C = {sum_mean_mc:3f} +- {sum_std_mc:3f}')\n",
    "print(sum_mean_mc + sum_std_mc)\n",
    "print(sum_mean_mc - sum_std_mc)\n",
    "print(f'Difference_C = {diff_mean_mc:3f} +- {diff_std_mc:3f}')\n",
    "print(diff_mean_mc + diff_std_mc)\n",
    "print(diff_mean_mc - diff_std_mc)"
   ]
  },
  {
   "cell_type": "code",
   "execution_count": 27,
   "metadata": {},
   "outputs": [
    {
     "name": "stdout",
     "output_type": "stream",
     "text": [
      "Sum_C = 25.6 +- 4.545327\n",
      "Difference_C = -0.5999999999999996 +- 4.545327\n"
     ]
    }
   ],
   "source": [
    "# Created version to calculate\n",
    "import math\n",
    "\n",
    "A = 12.5\n",
    "sigma_A = 3.5\n",
    "B = 13.1\n",
    "sigma_B = 2.9\n",
    "Sum_C = A + B\n",
    "Diff_C = A - B\n",
    "sum_sigma_C = math.sqrt(sigma_A**2 + sigma_B**2)\n",
    "diff_sigma_C = math.sqrt((sigma_A**2 + sigma_B**2))\n",
    "\n",
    "print(f'Sum_C = {Sum_C} +- {sum_sigma_C:3f}')\n",
    "print(f'Difference_C = {Diff_C} +- {diff_sigma_C:3f}')"
   ]
  },
  {
   "cell_type": "markdown",
   "metadata": {},
   "source": [
    "- For this particular example, both the theoretical propagation of uncertainty and the Monte Carlo simulation provide identical results. This confirms that the code and the theoretical approach are correct. In more complicated scenarios, the Monte Carlo method can offer more flexibility and robustness, while for simple operations like addition and subtraction of independent measurements, the analytical formula is sufficient and computationally faster."
   ]
  },
  {
   "cell_type": "markdown",
   "metadata": {},
   "source": [
    "Depending on the context, sometimes we refer to the ratio between the measurement and the uncertainty as the **signal-to-noise ratio** (S/N). For example, if the measurement for A above ($12.5 \\pm 3.4$) represented the measurement of the flux from a star, we would say that the star was detected with S/N = 3.7. \n",
    "\n",
    "<div class=\"alert alert-info\">How does the S/N for an observed star vary with the time you observe the star? (assume constant flux with time) </div>"
   ]
  },
  {
   "cell_type": "code",
   "execution_count": 12,
   "metadata": {},
   "outputs": [
    {
     "data": {
      "image/png": "[encoded data removed]",
      "text/plain": [
       "<Figure size 800x600 with 1 Axes>"
      ]
     },
     "metadata": {},
     "output_type": "display_data"
    }
   ],
   "source": [
    "import numpy as np\n",
    "import matplotlib.pyplot as plt\n",
    "\n",
    "# Constants\n",
    "flux_mean = 12.5  # Measured flux (signal)\n",
    "flux_std = 3.4    # Uncertainty in the flux (noise)\n",
    "\n",
    "# Number of simulation steps (time in arbitrary units)\n",
    "time_steps = 1000\n",
    "observation_times = np.linspace(1, 1000, time_steps)  # Time increases from 1 to 100\n",
    "SNR_values = []\n",
    "\n",
    "# Simulate the S/N for each observation time\n",
    "for T in observation_times:\n",
    "    # As the time increases, we get more measurements (N = T), so uncertainty decreases\n",
    "    sigma_A = flux_std / np.sqrt(T)  # Uncertainty scales with sqrt(time)\n",
    "    \n",
    "    # Calculate the Signal-to-Noise ratio (S/N)\n",
    "    SNR = flux_mean / sigma_A\n",
    "    SNR_values.append(SNR)\n",
    "\n",
    "# Plot the results\n",
    "plt.figure(figsize=(8, 6))\n",
    "plt.plot(observation_times, SNR_values, label=\"S/N\", color=\"b\")\n",
    "plt.xlabel(\"Observation Time (arbitrary units)\", fontsize=14)\n",
    "plt.ylabel(\"Signal-to-Noise Ratio (S/N)\", fontsize=14)\n",
    "plt.title(\"Signal-to-Noise Ratio (S/N) vs. Observation Time\", fontsize=16)\n",
    "plt.grid(True)\n",
    "plt.legend()\n",
    "plt.show()"
   ]
  },
  {
   "cell_type": "markdown",
   "metadata": {
    "execution": {
     "iopub.execute_input": "2024-01-25T20:47:42.985068Z",
     "iopub.status.busy": "2024-01-25T20:47:42.984481Z",
     "iopub.status.idle": "2024-01-25T20:47:42.990854Z",
     "shell.execute_reply": "2024-01-25T20:47:42.989564Z",
     "shell.execute_reply.started": "2024-01-25T20:47:42.985025Z"
    }
   },
   "source": [
    "<div class=\"alert alert-block alert-success\">\n",
    "Answer: As you can see the longer you observe the star, the higher the S/N becomes, as the uncertainty in the measurement decreases with the square root of the time(square root relationship with S/N increasing with the square root of time).\n",
    "</div>"
   ]
  },
  {
   "cell_type": "markdown",
   "metadata": {},
   "source": [
    "Now lets consider why we do not do optical astronomy during the daytime - after all, the stars themselves have the same flux day or night. The flux we observe for a star is the combination of the flux of the star and the flux of the sky. The flux of the sky is about $10^7$ times brighter in the daytime than at night. Lets assume that we have a star with flux 1000 units and at night the sky contributes 100 units on top of the star (so you measure 1100 units, subtract 100 units, and are left with a measureent of 1000 units).\n",
    "\n",
    "<div class=\"alert alert-info\"> What is the S/N of that observation?\n",
    "What is the S/N obtained if one observes the same star during the day? </div>"
   ]
  },
  {
   "cell_type": "code",
   "execution_count": 17,
   "metadata": {},
   "outputs": [
    {
     "name": "stdout",
     "output_type": "stream",
     "text": [
      "Nighttime S/N: 30.15\n",
      "Daytime S/N: 0.03\n"
     ]
    },
    {
     "data": {
      "image/png": "[encoded data removed]",
      "text/plain": [
       "<Figure size 800x500 with 1 Axes>"
      ]
     },
     "metadata": {},
     "output_type": "display_data"
    }
   ],
   "source": [
    "import numpy as np\n",
    "\n",
    "# Given data\n",
    "star_flux = 1000  # flux of the star (units)\n",
    "sky_flux_night = 100  # sky flux at night (units)\n",
    "sky_flux_day = 10**9  # sky flux during the day (10^7 times brighter than at night, so 10^9)\n",
    "\n",
    "# Calculate S/N at night\n",
    "# Noise at night is the sum of the variances from star and sky\n",
    "sigma_star_night = np.sqrt(star_flux)  # noise from star flux\n",
    "sigma_sky_night = np.sqrt(sky_flux_night)  # noise from sky flux\n",
    "sigma_total_night = np.sqrt(sigma_star_night**2 + sigma_sky_night**2)  # total noise at night\n",
    "\n",
    "# S/N at night\n",
    "SNR_night = star_flux / sigma_total_night\n",
    "\n",
    "# Calculate S/N during the day\n",
    "# Noise during the day is the sum of variances from star and sky\n",
    "sigma_star_day = np.sqrt(star_flux)  # noise from star flux\n",
    "sigma_sky_day = np.sqrt(sky_flux_day)  # noise from sky flux\n",
    "sigma_total_day = np.sqrt(sigma_star_day**2 + sigma_sky_day**2)  # total noise during the day\n",
    "\n",
    "# S/N during the day\n",
    "SNR_day = star_flux / sigma_total_day\n",
    "\n",
    "# Print results\n",
    "print(f\"Nighttime S/N: {SNR_night:.2f}\")\n",
    "print(f\"Daytime S/N: {SNR_day:.2f}\")\n",
    "\n",
    "# Optionally, if you'd like to visualize the S/N for both cases, here's a plot:\n",
    "import matplotlib.pyplot as plt\n",
    "\n",
    "# Data for plotting\n",
    "times_of_day = ['Night', 'Day']\n",
    "SNR_values = [SNR_night, SNR_day]\n",
    "\n",
    "# Plot\n",
    "plt.figure(figsize=(8, 5))\n",
    "plt.bar(times_of_day, SNR_values, color=['blue', 'red'])\n",
    "plt.title(\"Signal-to-Noise Ratio (S/N) Comparison\")\n",
    "plt.ylabel(\"S/N\")\n",
    "plt.xlabel(\"Observation Time\")\n",
    "plt.grid(True)\n",
    "plt.show()"
   ]
  },
  {
   "cell_type": "markdown",
   "metadata": {},
   "source": [
    "<div class=\"alert alert-block alert-success\">\n",
    "Answer: The signal-to-noise ratio is much higher at night because the sky flux is much lower, making it easier to detect the star against the background noise. During the day, the sky flux is so much brighter (by a factor of 10^7), that it dominates the signal, leading to a very low S/N, which makes it difficult to detect the star. This is why optical astronomy is not typically done during the day.\n",
    "</div>"
   ]
  },
  {
   "cell_type": "markdown",
   "metadata": {},
   "source": [
    "## Conclusion: "
   ]
  },
  {
   "cell_type": "markdown",
   "metadata": {},
   "source": [
    " <div class=\"alert alert-info\"> Save your notebook.  Append your LastNameFirstInitial to the filename and submit via D2L</div>"
   ]
  },
  {
   "cell_type": "markdown",
   "metadata": {},
   "source": [
    "## Extra:"
   ]
  },
  {
   "cell_type": "markdown",
   "metadata": {
    "execution": {
     "iopub.execute_input": "2023-08-30T16:46:02.982845Z",
     "iopub.status.busy": "2023-08-30T16:46:02.982210Z",
     "iopub.status.idle": "2023-08-30T16:46:02.994927Z",
     "shell.execute_reply": "2023-08-30T16:46:02.992727Z",
     "shell.execute_reply.started": "2023-08-30T16:46:02.982787Z"
    }
   },
   "source": [
    "We have worked primarily with Gaussian distributions, which are standard for error estimation. However, there are other distributions of interest. One is the Lorentzian, which is given\n",
    "by\n",
    "\n",
    "$$L(x) = {1\\over{1+\\large({{x-\\mu}\\over{w/2}}\\large)^2}},$$\n",
    "\n",
    "where $\\mu$ is the mean and $w$ is the full width at half maximium (FWHM). Make a plot to compare the Gaussian and Lorentzian function (normalize to have the same value at $\\mu$). How do the wings compare? Calculate how many Gaussian $\\sigma$ it would take to have the equivalent 90\\% confidence inteval. FYI : the Lorentzian describes the intrinsic shape of spectral lines, while the convolution of a Lorentzian and a Gaussian describe the observed shape of spectral lines and is called a Voigt profile."
   ]
  },
  {
   "cell_type": "code",
   "execution_count": 1,
   "metadata": {},
   "outputs": [
    {
     "data": {
      "image/png": "[encoded data removed]",
      "text/plain": [
       "<Figure size 800x600 with 1 Axes>"
      ]
     },
     "metadata": {},
     "output_type": "display_data"
    },
    {
     "name": "stdout",
     "output_type": "stream",
     "text": [
      "Gaussian 90% confidence interval: ±1.65\n",
      "Lorentzian 90% confidence interval: ±2.58\n"
     ]
    }
   ],
   "source": [
    "import numpy as np\n",
    "import matplotlib.pyplot as plt\n",
    "\n",
    "# Define Gaussian and Lorentzian functions\n",
    "def gaussian(x, mu, sigma):\n",
    "    return (1 / (np.sqrt(2 * np.pi) * sigma)) * np.exp(-(x - mu)**2 / (2 * sigma**2))\n",
    "\n",
    "def lorentzian(x, mu, w):\n",
    "    return 1 / (1 + ((x - mu) / (w / 2))**2)\n",
    "\n",
    "# Parameters for Gaussian and Lorentzian\n",
    "mu = 0  # Mean\n",
    "sigma = 1  # Standard deviation for Gaussian\n",
    "w = 2  # Full Width at Half Maximum (FWHM) for Lorentzian\n",
    "\n",
    "# Create an array of x values for plotting\n",
    "x = np.linspace(-10, 10, 1000)\n",
    "\n",
    "# Evaluate both distributions\n",
    "gaussian_y = gaussian(x, mu, sigma)\n",
    "lorentzian_y = lorentzian(x, mu, w)\n",
    "\n",
    "# Normalize both distributions to have the same value at the peak (x = mu)\n",
    "gaussian_y /= max(gaussian_y)  # Normalize Gaussian\n",
    "lorentzian_y /= max(lorentzian_y)  # Normalize Lorentzian\n",
    "\n",
    "# Plot the Gaussian and Lorentzian distributions\n",
    "plt.figure(figsize=(8, 6))\n",
    "plt.plot(x, gaussian_y, label=\"Gaussian\", color='blue')\n",
    "plt.plot(x, lorentzian_y, label=\"Lorentzian\", color='red')\n",
    "plt.title(\"Comparison of Gaussian and Lorentzian Distributions\")\n",
    "plt.xlabel(\"x\")\n",
    "plt.ylabel(\"Probability Density\")\n",
    "plt.legend()\n",
    "plt.grid(True)\n",
    "plt.show()\n",
    "\n",
    "# Calculate the equivalent 90% confidence interval for Lorentzian and Gaussian\n",
    "# For Gaussian, the 90% confidence interval is approximately ±1.645*sigma\n",
    "gaussian_90_interval = 1.645 * sigma\n",
    "\n",
    "# For Lorentzian, the 90% confidence interval is approximately ±1.29*w\n",
    "lorentzian_90_interval = 1.29 * w\n",
    "\n",
    "print(f\"Gaussian 90% confidence interval: ±{gaussian_90_interval:.2f}\")\n",
    "print(f\"Lorentzian 90% confidence interval: ±{lorentzian_90_interval:.2f}\")"
   ]
  },
  {
   "cell_type": "markdown",
   "metadata": {},
   "source": [
    "<div class=\"alert alert-block alert-success\">\n",
    "Answer: The Lorentzian has longer tails than the Gaussian, meaning that extreme values (far from the mean) are more probable in a Lorentzian than in a Gaussian distribution. This is why spectral lines, which can have sharp peaks and broad tails, are often described by the Lorentzian distribution. The Gaussian distribution decays exponentially at the tails, meaning that extreme values are less likely than in the Lorentzian. This makes the Gaussian more appropriate for modeling errors or noise, where extreme values are rarer. The 90% confidence interval for the Lorentzian is wider than that of the Gaussian, meaning it takes more of the Lorentzian's full width to cover the same amount of probability.\n",
    "</div>"
   ]
  }
 ],
 "metadata": {
  "kernelspec": {
   "display_name": "Python 3",
   "language": "python",
   "name": "python3"
  },
  "language_info": {
   "codemirror_mode": {
    "name": "ipython",
    "version": 3
   },
   "file_extension": ".py",
   "mimetype": "text/x-python",
   "name": "python",
   "nbconvert_exporter": "python",
   "pygments_lexer": "ipython3",
   "version": "3.12.1"
  }
 },
 "nbformat": 4,
 "nbformat_minor": 4
}
