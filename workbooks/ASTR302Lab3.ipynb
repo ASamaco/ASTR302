{
 "cells": [
  {
   "cell_type": "markdown",
   "metadata": {
    "tags": []
   },
   "source": [
    "# ASTR302 Lab 3: The Basics of Starting an Observational Program"
   ]
  },
  {
   "cell_type": "markdown",
   "metadata": {},
   "source": [
    "In this Lab you will learn how to explore catalogs to define a sample that can be observed on a given night. This is an easy one - you just need to try to understand how things work. There are no specific questions for you to answer (so you don't need to email me this one)."
   ]
  },
  {
   "cell_type": "markdown",
   "metadata": {},
   "source": [
    "## Using DATALAB"
   ]
  },
  {
   "cell_type": "markdown",
   "metadata": {},
   "source": [
    "We have been focusing on statistics, so we are going to take a break - even though there is plenty more to discuss - and do some astronomy. We will begin to use the DATALAB environment at NOIRLab to make finder charts of our targets. Finder charts are helpful in confirming that you are observing the correct source.\n",
    "\n",
    "\n"
   ]
  },
  {
   "cell_type": "markdown",
   "metadata": {},
   "source": [
    "## Selecting a sample of galaxies"
   ]
  },
  {
   "cell_type": "markdown",
   "metadata": {},
   "source": [
    "Planning for any observing program starts with the selection of targets. Of course, this is influenced by the scientific questions one is asking - but for our purpose we are going to skip the motivation and just get to the target selection. In this case our targets are going to be galaxies that satisfy a set of criteris that we will specify.\n",
    "\n",
    "Before we start, lets import the packages you will be needing for this Lab.\n"
   ]
  },
  {
   "cell_type": "code",
   "execution_count": 2,
   "metadata": {},
   "outputs": [
    {
     "name": "stdout",
     "output_type": "stream",
     "text": [
      "Requirement already satisfied: pip in /usr/local/python/3.12.1/lib/python3.12/site-packages (25.0)\n",
      "Requirement already satisfied: astroplan in /usr/local/python/3.12.1/lib/python3.12/site-packages (0.10.1)\n",
      "Requirement already satisfied: numpy>=1.17 in /usr/local/python/3.12.1/lib/python3.12/site-packages (from astroplan) (2.1.3)\n",
      "Requirement already satisfied: astropy>=4 in /usr/local/python/3.12.1/lib/python3.12/site-packages (from astroplan) (7.0.0)\n",
      "Requirement already satisfied: pytz in /home/codespace/.local/lib/python3.12/site-packages (from astroplan) (2024.2)\n",
      "Requirement already satisfied: six in /home/codespace/.local/lib/python3.12/site-packages (from astroplan) (1.17.0)\n",
      "Requirement already satisfied: pyerfa>=2.0.1.1 in /usr/local/python/3.12.1/lib/python3.12/site-packages (from astropy>=4->astroplan) (2.0.1.5)\n",
      "Requirement already satisfied: astropy-iers-data>=0.2024.10.28.0.34.7 in /usr/local/python/3.12.1/lib/python3.12/site-packages (from astropy>=4->astroplan) (0.2025.1.27.0.32.44)\n",
      "Requirement already satisfied: PyYAML>=6.0.0 in /home/codespace/.local/lib/python3.12/site-packages (from astropy>=4->astroplan) (6.0.2)\n",
      "Requirement already satisfied: packaging>=22.0.0 in /home/codespace/.local/lib/python3.12/site-packages (from astropy>=4->astroplan) (24.2)\n",
      "Requirement already satisfied: pytest-astropy in /usr/local/python/3.12.1/lib/python3.12/site-packages (0.11.0)\n",
      "Requirement already satisfied: pytest>=4.6 in /usr/local/python/3.12.1/lib/python3.12/site-packages (from pytest-astropy) (8.3.4)\n",
      "Requirement already satisfied: pytest-doctestplus>=1.0.0 in /usr/local/python/3.12.1/lib/python3.12/site-packages (from pytest-astropy) (1.4.0)\n",
      "Requirement already satisfied: pytest-remotedata>=0.4.1 in /usr/local/python/3.12.1/lib/python3.12/site-packages (from pytest-astropy) (0.4.1)\n",
      "Requirement already satisfied: pytest-astropy-header>=0.2.2 in /usr/local/python/3.12.1/lib/python3.12/site-packages (from pytest-astropy) (0.2.2)\n",
      "Requirement already satisfied: pytest-arraydiff>=0.5 in /usr/local/python/3.12.1/lib/python3.12/site-packages (from pytest-astropy) (0.6.1)\n",
      "Requirement already satisfied: pytest-filter-subpackage>=0.1.2 in /usr/local/python/3.12.1/lib/python3.12/site-packages (from pytest-astropy) (0.2.0)\n",
      "Requirement already satisfied: pytest-cov>=2.3.1 in /usr/local/python/3.12.1/lib/python3.12/site-packages (from pytest-astropy) (6.0.0)\n",
      "Requirement already satisfied: pytest-mock>=2.0 in /usr/local/python/3.12.1/lib/python3.12/site-packages (from pytest-astropy) (3.14.0)\n",
      "Requirement already satisfied: attrs>=19.2.0 in /home/codespace/.local/lib/python3.12/site-packages (from pytest-astropy) (24.2.0)\n",
      "Requirement already satisfied: hypothesis>=5.1 in /usr/local/python/3.12.1/lib/python3.12/site-packages (from pytest-astropy) (6.124.7)\n",
      "Requirement already satisfied: sortedcontainers<3.0.0,>=2.1.0 in /usr/local/python/3.12.1/lib/python3.12/site-packages (from hypothesis>=5.1->pytest-astropy) (2.4.0)\n",
      "Requirement already satisfied: iniconfig in /usr/local/python/3.12.1/lib/python3.12/site-packages (from pytest>=4.6->pytest-astropy) (2.0.0)\n",
      "Requirement already satisfied: packaging in /home/codespace/.local/lib/python3.12/site-packages (from pytest>=4.6->pytest-astropy) (24.2)\n",
      "Requirement already satisfied: pluggy<2,>=1.5 in /usr/local/python/3.12.1/lib/python3.12/site-packages (from pytest>=4.6->pytest-astropy) (1.5.0)\n",
      "Requirement already satisfied: numpy in /usr/local/python/3.12.1/lib/python3.12/site-packages (from pytest-arraydiff>=0.5->pytest-astropy) (2.1.3)\n",
      "Requirement already satisfied: coverage>=7.5 in /usr/local/python/3.12.1/lib/python3.12/site-packages (from coverage[toml]>=7.5->pytest-cov>=2.3.1->pytest-astropy) (7.6.10)\n",
      "Requirement already satisfied: pytz in /home/codespace/.local/lib/python3.12/site-packages (2024.2)\n",
      "Requirement already satisfied: jinja2 in /home/codespace/.local/lib/python3.12/site-packages (3.1.4)\n",
      "Requirement already satisfied: MarkupSafe>=2.0 in /home/codespace/.local/lib/python3.12/site-packages (from jinja2) (3.0.2)\n",
      "Requirement already satisfied: dustmaps in /usr/local/python/3.12.1/lib/python3.12/site-packages (1.0.13)\n",
      "Requirement already satisfied: astropy in /usr/local/python/3.12.1/lib/python3.12/site-packages (from dustmaps) (7.0.0)\n",
      "Requirement already satisfied: h5py in /usr/local/python/3.12.1/lib/python3.12/site-packages (from dustmaps) (3.12.1)\n",
      "Requirement already satisfied: healpy in /usr/local/python/3.12.1/lib/python3.12/site-packages (from dustmaps) (1.18.0)\n",
      "Requirement already satisfied: numpy in /usr/local/python/3.12.1/lib/python3.12/site-packages (from dustmaps) (2.1.3)\n",
      "Requirement already satisfied: progressbar2 in /usr/local/python/3.12.1/lib/python3.12/site-packages (from dustmaps) (4.5.0)\n",
      "Requirement already satisfied: requests in /home/codespace/.local/lib/python3.12/site-packages (from dustmaps) (2.32.3)\n",
      "Requirement already satisfied: scipy in /home/codespace/.local/lib/python3.12/site-packages (from dustmaps) (1.14.1)\n",
      "Requirement already satisfied: six in /home/codespace/.local/lib/python3.12/site-packages (from dustmaps) (1.17.0)\n",
      "Requirement already satisfied: pyerfa>=2.0.1.1 in /usr/local/python/3.12.1/lib/python3.12/site-packages (from astropy->dustmaps) (2.0.1.5)\n",
      "Requirement already satisfied: astropy-iers-data>=0.2024.10.28.0.34.7 in /usr/local/python/3.12.1/lib/python3.12/site-packages (from astropy->dustmaps) (0.2025.1.27.0.32.44)\n",
      "Requirement already satisfied: PyYAML>=6.0.0 in /home/codespace/.local/lib/python3.12/site-packages (from astropy->dustmaps) (6.0.2)\n",
      "Requirement already satisfied: packaging>=22.0.0 in /home/codespace/.local/lib/python3.12/site-packages (from astropy->dustmaps) (24.2)\n",
      "Requirement already satisfied: python-utils>=3.8.1 in /usr/local/python/3.12.1/lib/python3.12/site-packages (from progressbar2->dustmaps) (3.9.1)\n",
      "Requirement already satisfied: charset-normalizer<4,>=2 in /home/codespace/.local/lib/python3.12/site-packages (from requests->dustmaps) (3.4.0)\n",
      "Requirement already satisfied: idna<4,>=2.5 in /home/codespace/.local/lib/python3.12/site-packages (from requests->dustmaps) (3.10)\n",
      "Requirement already satisfied: urllib3<3,>=1.21.1 in /home/codespace/.local/lib/python3.12/site-packages (from requests->dustmaps) (2.2.3)\n",
      "Requirement already satisfied: certifi>=2017.4.17 in /home/codespace/.local/lib/python3.12/site-packages (from requests->dustmaps) (2024.8.30)\n",
      "Requirement already satisfied: typing_extensions>3.10.0.2 in /home/codespace/.local/lib/python3.12/site-packages (from python-utils>=3.8.1->progressbar2->dustmaps) (4.12.2)\n",
      "Requirement already satisfied: ctapipe in /usr/local/python/3.12.1/lib/python3.12/site-packages (0.23.2)\n",
      "Requirement already satisfied: astropy<8.0.0a0,>=5.3 in /usr/local/python/3.12.1/lib/python3.12/site-packages (from ctapipe) (7.0.0)\n",
      "Requirement already satisfied: docutils in /usr/local/python/3.12.1/lib/python3.12/site-packages (from ctapipe) (0.21.2)\n",
      "Requirement already satisfied: joblib in /home/codespace/.local/lib/python3.12/site-packages (from ctapipe) (1.4.2)\n",
      "Requirement already satisfied: numba>=0.56 in /usr/local/python/3.12.1/lib/python3.12/site-packages (from ctapipe) (0.61.0)\n",
      "Requirement already satisfied: numpy<3.0.0a0,>=1.23 in /usr/local/python/3.12.1/lib/python3.12/site-packages (from ctapipe) (2.1.3)\n",
      "Requirement already satisfied: packaging in /home/codespace/.local/lib/python3.12/site-packages (from ctapipe) (24.2)\n",
      "Requirement already satisfied: psutil in /home/codespace/.local/lib/python3.12/site-packages (from ctapipe) (6.1.0)\n",
      "Requirement already satisfied: pyyaml>=5.1 in /home/codespace/.local/lib/python3.12/site-packages (from ctapipe) (6.0.2)\n",
      "Requirement already satisfied: requests in /home/codespace/.local/lib/python3.12/site-packages (from ctapipe) (2.32.3)\n",
      "Requirement already satisfied: scikit-learn!=1.4.0 in /home/codespace/.local/lib/python3.12/site-packages (from ctapipe) (1.6.0)\n",
      "Requirement already satisfied: scipy~=1.2 in /home/codespace/.local/lib/python3.12/site-packages (from ctapipe) (1.14.1)\n",
      "Requirement already satisfied: tables~=3.4 in /usr/local/python/3.12.1/lib/python3.12/site-packages (from ctapipe) (3.10.2)\n",
      "Requirement already satisfied: tqdm>=4.32 in /usr/local/python/3.12.1/lib/python3.12/site-packages (from ctapipe) (4.67.1)\n",
      "Requirement already satisfied: traitlets~=5.6 in /home/codespace/.local/lib/python3.12/site-packages (from ctapipe) (5.14.3)\n",
      "Requirement already satisfied: pyerfa>=2.0.1.1 in /usr/local/python/3.12.1/lib/python3.12/site-packages (from astropy<8.0.0a0,>=5.3->ctapipe) (2.0.1.5)\n",
      "Requirement already satisfied: astropy-iers-data>=0.2024.10.28.0.34.7 in /usr/local/python/3.12.1/lib/python3.12/site-packages (from astropy<8.0.0a0,>=5.3->ctapipe) (0.2025.1.27.0.32.44)\n",
      "Requirement already satisfied: llvmlite<0.45,>=0.44.0dev0 in /usr/local/python/3.12.1/lib/python3.12/site-packages (from numba>=0.56->ctapipe) (0.44.0)\n",
      "Requirement already satisfied: threadpoolctl>=3.1.0 in /home/codespace/.local/lib/python3.12/site-packages (from scikit-learn!=1.4.0->ctapipe) (3.5.0)\n",
      "Requirement already satisfied: numexpr>=2.6.2 in /usr/local/python/3.12.1/lib/python3.12/site-packages (from tables~=3.4->ctapipe) (2.10.2)\n",
      "Requirement already satisfied: py-cpuinfo in /usr/local/python/3.12.1/lib/python3.12/site-packages (from tables~=3.4->ctapipe) (9.0.0)\n",
      "Requirement already satisfied: blosc2>=2.3.0 in /usr/local/python/3.12.1/lib/python3.12/site-packages (from tables~=3.4->ctapipe) (3.0.0)\n",
      "Requirement already satisfied: typing-extensions>=4.4.0 in /home/codespace/.local/lib/python3.12/site-packages (from tables~=3.4->ctapipe) (4.12.2)\n",
      "Requirement already satisfied: charset-normalizer<4,>=2 in /home/codespace/.local/lib/python3.12/site-packages (from requests->ctapipe) (3.4.0)\n",
      "Requirement already satisfied: idna<4,>=2.5 in /home/codespace/.local/lib/python3.12/site-packages (from requests->ctapipe) (3.10)\n",
      "Requirement already satisfied: urllib3<3,>=1.21.1 in /home/codespace/.local/lib/python3.12/site-packages (from requests->ctapipe) (2.2.3)\n",
      "Requirement already satisfied: certifi>=2017.4.17 in /home/codespace/.local/lib/python3.12/site-packages (from requests->ctapipe) (2024.8.30)\n",
      "Requirement already satisfied: ndindex in /usr/local/python/3.12.1/lib/python3.12/site-packages (from blosc2>=2.3.0->tables~=3.4->ctapipe) (1.9.2)\n",
      "Requirement already satisfied: msgpack in /usr/local/python/3.12.1/lib/python3.12/site-packages (from blosc2>=2.3.0->tables~=3.4->ctapipe) (1.1.0)\n",
      "Requirement already satisfied: httpx in /home/codespace/.local/lib/python3.12/site-packages (from blosc2>=2.3.0->tables~=3.4->ctapipe) (0.28.1)\n",
      "Requirement already satisfied: anyio in /home/codespace/.local/lib/python3.12/site-packages (from httpx->blosc2>=2.3.0->tables~=3.4->ctapipe) (4.7.0)\n",
      "Requirement already satisfied: httpcore==1.* in /home/codespace/.local/lib/python3.12/site-packages (from httpx->blosc2>=2.3.0->tables~=3.4->ctapipe) (1.0.7)\n",
      "Requirement already satisfied: h11<0.15,>=0.13 in /home/codespace/.local/lib/python3.12/site-packages (from httpcore==1.*->httpx->blosc2>=2.3.0->tables~=3.4->ctapipe) (0.14.0)\n",
      "Requirement already satisfied: sniffio>=1.1 in /home/codespace/.local/lib/python3.12/site-packages (from anyio->httpx->blosc2>=2.3.0->tables~=3.4->ctapipe) (1.3.1)\n",
      "Downloading SFD data file to /workspaces/ASTR302/workbooks/sfd/SFD_dust_4096_ngp.fits\n",
      "Checking existing file to see if MD5 sum matches ...\n",
      "File exists. Not overwriting.\n",
      "Downloading SFD data file to /workspaces/ASTR302/workbooks/sfd/SFD_dust_4096_sgp.fits\n",
      "Checking existing file to see if MD5 sum matches ...\n",
      "File exists. Not overwriting.\n"
     ]
    }
   ],
   "source": [
    "import matplotlib.pyplot as plt\n",
    "import numpy as np\n",
    "from scipy import stats\n",
    "from scipy.optimize import curve_fit\n",
    "from astropy.io import fits\n",
    "from astropy.table import Table\n",
    "import astropy.units as u\n",
    "from astropy.coordinates import SkyCoord\n",
    "\n",
    "import requests\n",
    "import pandas as pd\n",
    "from PIL import Image, ImageDraw, ImageFilter\n",
    "import time\n",
    "import os\n",
    "\n",
    "!pip install --upgrade pip\n",
    "!pip install astroplan\n",
    "!pip install pytest-astropy --upgrade\n",
    "!pip install pytz\n",
    "!pip install jinja2\n",
    "!pip install dustmaps\n",
    "!pip install ctapipe\n",
    "\n",
    "from dustmaps.sfd import SFDQuery\n",
    "from dustmaps.config import config\n",
    "config['data_dir'] = '.'\n",
    "import dustmaps.sfd\n",
    "dustmaps.sfd.fetch()\n",
    "    \n",
    "from ctapipe.utils import get_bright_stars\n",
    "\n",
    "from astroplan import Observer, FixedTarget\n",
    "from astropy.time import Time\n",
    "from astroplan.plots import plot_airmass\n",
    "\n",
    "from astroplan import observability_table\n",
    "from astroplan import (AltitudeConstraint, AirmassConstraint, AtNightConstraint)\n"
   ]
  },
  {
   "cell_type": "markdown",
   "metadata": {},
   "source": [
    "Now, we going to start with a catalog of large (as seen on the sky) galaxies taken from images obtained for the Sloan and Legacy Survey. The catalog is called the Siena Galaxy Catalog (2020) or SGA-2020.fits. Go ahead and download it and put it in your DATALAB directory. We will then load it in and convert to a Pandas dataframe."
   ]
  },
  {
   "cell_type": "code",
   "execution_count": 3,
   "metadata": {},
   "outputs": [
    {
     "ename": "FileNotFoundError",
     "evalue": "[Errno 2] No such file or directory: 'SGA-2020.fits'",
     "output_type": "error",
     "traceback": [
      "\u001b[0;31m---------------------------------------------------------------------------\u001b[0m",
      "\u001b[0;31mFileNotFoundError\u001b[0m                         Traceback (most recent call last)",
      "Cell \u001b[0;32mIn[3], line 2\u001b[0m\n\u001b[1;32m      1\u001b[0m \u001b[38;5;66;03m# siena_2020 galaxy catalog (download from website SGA-2020.fits) - need to change path to your version\u001b[39;00m\n\u001b[0;32m----> 2\u001b[0m hdul \u001b[38;5;241m=\u001b[39m \u001b[43mfits\u001b[49m\u001b[38;5;241;43m.\u001b[39;49m\u001b[43mopen\u001b[49m\u001b[43m(\u001b[49m\u001b[38;5;124;43m'\u001b[39;49m\u001b[38;5;124;43mSGA-2020.fits\u001b[39;49m\u001b[38;5;124;43m'\u001b[39;49m\u001b[43m,\u001b[49m\u001b[43mmemmap\u001b[49m\u001b[38;5;241;43m=\u001b[39;49m\u001b[38;5;28;43;01mTrue\u001b[39;49;00m\u001b[43m)\u001b[49m\n\u001b[1;32m      3\u001b[0m galaxy_data \u001b[38;5;241m=\u001b[39m Table(hdul[\u001b[38;5;241m1\u001b[39m]\u001b[38;5;241m.\u001b[39mdata)\n\u001b[1;32m      4\u001b[0m hdul\u001b[38;5;241m.\u001b[39mclose()\n",
      "File \u001b[0;32m~/.python/current/lib/python3.12/site-packages/astropy/io/fits/hdu/hdulist.py:224\u001b[0m, in \u001b[0;36mfitsopen\u001b[0;34m(name, mode, memmap, save_backup, cache, lazy_load_hdus, ignore_missing_simple, use_fsspec, fsspec_kwargs, decompress_in_memory, **kwargs)\u001b[0m\n\u001b[1;32m    221\u001b[0m \u001b[38;5;28;01mif\u001b[39;00m \u001b[38;5;129;01mnot\u001b[39;00m name:\n\u001b[1;32m    222\u001b[0m     \u001b[38;5;28;01mraise\u001b[39;00m \u001b[38;5;167;01mValueError\u001b[39;00m(\u001b[38;5;124mf\u001b[39m\u001b[38;5;124m\"\u001b[39m\u001b[38;5;124mEmpty filename: \u001b[39m\u001b[38;5;132;01m{\u001b[39;00mname\u001b[38;5;132;01m!r}\u001b[39;00m\u001b[38;5;124m\"\u001b[39m)\n\u001b[0;32m--> 224\u001b[0m \u001b[38;5;28;01mreturn\u001b[39;00m \u001b[43mHDUList\u001b[49m\u001b[38;5;241;43m.\u001b[39;49m\u001b[43mfromfile\u001b[49m\u001b[43m(\u001b[49m\n\u001b[1;32m    225\u001b[0m \u001b[43m    \u001b[49m\u001b[43mname\u001b[49m\u001b[43m,\u001b[49m\n\u001b[1;32m    226\u001b[0m \u001b[43m    \u001b[49m\u001b[43mmode\u001b[49m\u001b[43m,\u001b[49m\n\u001b[1;32m    227\u001b[0m \u001b[43m    \u001b[49m\u001b[43mmemmap\u001b[49m\u001b[43m,\u001b[49m\n\u001b[1;32m    228\u001b[0m \u001b[43m    \u001b[49m\u001b[43msave_backup\u001b[49m\u001b[43m,\u001b[49m\n\u001b[1;32m    229\u001b[0m \u001b[43m    \u001b[49m\u001b[43mcache\u001b[49m\u001b[43m,\u001b[49m\n\u001b[1;32m    230\u001b[0m \u001b[43m    \u001b[49m\u001b[43mlazy_load_hdus\u001b[49m\u001b[43m,\u001b[49m\n\u001b[1;32m    231\u001b[0m \u001b[43m    \u001b[49m\u001b[43mignore_missing_simple\u001b[49m\u001b[43m,\u001b[49m\n\u001b[1;32m    232\u001b[0m \u001b[43m    \u001b[49m\u001b[43muse_fsspec\u001b[49m\u001b[38;5;241;43m=\u001b[39;49m\u001b[43muse_fsspec\u001b[49m\u001b[43m,\u001b[49m\n\u001b[1;32m    233\u001b[0m \u001b[43m    \u001b[49m\u001b[43mfsspec_kwargs\u001b[49m\u001b[38;5;241;43m=\u001b[39;49m\u001b[43mfsspec_kwargs\u001b[49m\u001b[43m,\u001b[49m\n\u001b[1;32m    234\u001b[0m \u001b[43m    \u001b[49m\u001b[43mdecompress_in_memory\u001b[49m\u001b[38;5;241;43m=\u001b[39;49m\u001b[43mdecompress_in_memory\u001b[49m\u001b[43m,\u001b[49m\n\u001b[1;32m    235\u001b[0m \u001b[43m    \u001b[49m\u001b[38;5;241;43m*\u001b[39;49m\u001b[38;5;241;43m*\u001b[39;49m\u001b[43mkwargs\u001b[49m\u001b[43m,\u001b[49m\n\u001b[1;32m    236\u001b[0m \u001b[43m\u001b[49m\u001b[43m)\u001b[49m\n",
      "File \u001b[0;32m~/.python/current/lib/python3.12/site-packages/astropy/io/fits/hdu/hdulist.py:488\u001b[0m, in \u001b[0;36mHDUList.fromfile\u001b[0;34m(cls, fileobj, mode, memmap, save_backup, cache, lazy_load_hdus, ignore_missing_simple, **kwargs)\u001b[0m\n\u001b[1;32m    469\u001b[0m \u001b[38;5;129m@classmethod\u001b[39m\n\u001b[1;32m    470\u001b[0m \u001b[38;5;28;01mdef\u001b[39;00m \u001b[38;5;21mfromfile\u001b[39m(\n\u001b[1;32m    471\u001b[0m     \u001b[38;5;28mcls\u001b[39m,\n\u001b[0;32m   (...)\u001b[0m\n\u001b[1;32m    479\u001b[0m     \u001b[38;5;241m*\u001b[39m\u001b[38;5;241m*\u001b[39mkwargs,\n\u001b[1;32m    480\u001b[0m ):\n\u001b[1;32m    481\u001b[0m \u001b[38;5;250m    \u001b[39m\u001b[38;5;124;03m\"\"\"\u001b[39;00m\n\u001b[1;32m    482\u001b[0m \u001b[38;5;124;03m    Creates an `HDUList` instance from a file-like object.\u001b[39;00m\n\u001b[1;32m    483\u001b[0m \n\u001b[0;32m   (...)\u001b[0m\n\u001b[1;32m    486\u001b[0m \u001b[38;5;124;03m    documentation for details of the parameters accepted by this method).\u001b[39;00m\n\u001b[1;32m    487\u001b[0m \u001b[38;5;124;03m    \"\"\"\u001b[39;00m\n\u001b[0;32m--> 488\u001b[0m     \u001b[38;5;28;01mreturn\u001b[39;00m \u001b[38;5;28;43mcls\u001b[39;49m\u001b[38;5;241;43m.\u001b[39;49m\u001b[43m_readfrom\u001b[49m\u001b[43m(\u001b[49m\n\u001b[1;32m    489\u001b[0m \u001b[43m        \u001b[49m\u001b[43mfileobj\u001b[49m\u001b[38;5;241;43m=\u001b[39;49m\u001b[43mfileobj\u001b[49m\u001b[43m,\u001b[49m\n\u001b[1;32m    490\u001b[0m \u001b[43m        \u001b[49m\u001b[43mmode\u001b[49m\u001b[38;5;241;43m=\u001b[39;49m\u001b[43mmode\u001b[49m\u001b[43m,\u001b[49m\n\u001b[1;32m    491\u001b[0m \u001b[43m        \u001b[49m\u001b[43mmemmap\u001b[49m\u001b[38;5;241;43m=\u001b[39;49m\u001b[43mmemmap\u001b[49m\u001b[43m,\u001b[49m\n\u001b[1;32m    492\u001b[0m \u001b[43m        \u001b[49m\u001b[43msave_backup\u001b[49m\u001b[38;5;241;43m=\u001b[39;49m\u001b[43msave_backup\u001b[49m\u001b[43m,\u001b[49m\n\u001b[1;32m    493\u001b[0m \u001b[43m        \u001b[49m\u001b[43mcache\u001b[49m\u001b[38;5;241;43m=\u001b[39;49m\u001b[43mcache\u001b[49m\u001b[43m,\u001b[49m\n\u001b[1;32m    494\u001b[0m \u001b[43m        \u001b[49m\u001b[43mignore_missing_simple\u001b[49m\u001b[38;5;241;43m=\u001b[39;49m\u001b[43mignore_missing_simple\u001b[49m\u001b[43m,\u001b[49m\n\u001b[1;32m    495\u001b[0m \u001b[43m        \u001b[49m\u001b[43mlazy_load_hdus\u001b[49m\u001b[38;5;241;43m=\u001b[39;49m\u001b[43mlazy_load_hdus\u001b[49m\u001b[43m,\u001b[49m\n\u001b[1;32m    496\u001b[0m \u001b[43m        \u001b[49m\u001b[38;5;241;43m*\u001b[39;49m\u001b[38;5;241;43m*\u001b[39;49m\u001b[43mkwargs\u001b[49m\u001b[43m,\u001b[49m\n\u001b[1;32m    497\u001b[0m \u001b[43m    \u001b[49m\u001b[43m)\u001b[49m\n",
      "File \u001b[0;32m~/.python/current/lib/python3.12/site-packages/astropy/io/fits/hdu/hdulist.py:1170\u001b[0m, in \u001b[0;36mHDUList._readfrom\u001b[0;34m(cls, fileobj, data, mode, memmap, cache, lazy_load_hdus, ignore_missing_simple, use_fsspec, fsspec_kwargs, decompress_in_memory, **kwargs)\u001b[0m\n\u001b[1;32m   1167\u001b[0m \u001b[38;5;28;01mif\u001b[39;00m fileobj \u001b[38;5;129;01mis\u001b[39;00m \u001b[38;5;129;01mnot\u001b[39;00m \u001b[38;5;28;01mNone\u001b[39;00m:\n\u001b[1;32m   1168\u001b[0m     \u001b[38;5;28;01mif\u001b[39;00m \u001b[38;5;129;01mnot\u001b[39;00m \u001b[38;5;28misinstance\u001b[39m(fileobj, _File):\n\u001b[1;32m   1169\u001b[0m         \u001b[38;5;66;03m# instantiate a FITS file object (ffo)\u001b[39;00m\n\u001b[0;32m-> 1170\u001b[0m         fileobj \u001b[38;5;241m=\u001b[39m \u001b[43m_File\u001b[49m\u001b[43m(\u001b[49m\n\u001b[1;32m   1171\u001b[0m \u001b[43m            \u001b[49m\u001b[43mfileobj\u001b[49m\u001b[43m,\u001b[49m\n\u001b[1;32m   1172\u001b[0m \u001b[43m            \u001b[49m\u001b[43mmode\u001b[49m\u001b[38;5;241;43m=\u001b[39;49m\u001b[43mmode\u001b[49m\u001b[43m,\u001b[49m\n\u001b[1;32m   1173\u001b[0m \u001b[43m            \u001b[49m\u001b[43mmemmap\u001b[49m\u001b[38;5;241;43m=\u001b[39;49m\u001b[43mmemmap\u001b[49m\u001b[43m,\u001b[49m\n\u001b[1;32m   1174\u001b[0m \u001b[43m            \u001b[49m\u001b[43mcache\u001b[49m\u001b[38;5;241;43m=\u001b[39;49m\u001b[43mcache\u001b[49m\u001b[43m,\u001b[49m\n\u001b[1;32m   1175\u001b[0m \u001b[43m            \u001b[49m\u001b[43muse_fsspec\u001b[49m\u001b[38;5;241;43m=\u001b[39;49m\u001b[43muse_fsspec\u001b[49m\u001b[43m,\u001b[49m\n\u001b[1;32m   1176\u001b[0m \u001b[43m            \u001b[49m\u001b[43mfsspec_kwargs\u001b[49m\u001b[38;5;241;43m=\u001b[39;49m\u001b[43mfsspec_kwargs\u001b[49m\u001b[43m,\u001b[49m\n\u001b[1;32m   1177\u001b[0m \u001b[43m            \u001b[49m\u001b[43mdecompress_in_memory\u001b[49m\u001b[38;5;241;43m=\u001b[39;49m\u001b[43mdecompress_in_memory\u001b[49m\u001b[43m,\u001b[49m\n\u001b[1;32m   1178\u001b[0m \u001b[43m        \u001b[49m\u001b[43m)\u001b[49m\n\u001b[1;32m   1179\u001b[0m     \u001b[38;5;66;03m# The Astropy mode is determined by the _File initializer if the\u001b[39;00m\n\u001b[1;32m   1180\u001b[0m     \u001b[38;5;66;03m# supplied mode was None\u001b[39;00m\n\u001b[1;32m   1181\u001b[0m     mode \u001b[38;5;241m=\u001b[39m fileobj\u001b[38;5;241m.\u001b[39mmode\n",
      "File \u001b[0;32m~/.python/current/lib/python3.12/site-packages/astropy/io/fits/file.py:218\u001b[0m, in \u001b[0;36m_File.__init__\u001b[0;34m(self, fileobj, mode, memmap, overwrite, cache, use_fsspec, fsspec_kwargs, decompress_in_memory)\u001b[0m\n\u001b[1;32m    216\u001b[0m     \u001b[38;5;28mself\u001b[39m\u001b[38;5;241m.\u001b[39m_open_fileobj(fileobj, mode, overwrite)\n\u001b[1;32m    217\u001b[0m \u001b[38;5;28;01melif\u001b[39;00m \u001b[38;5;28misinstance\u001b[39m(fileobj, (\u001b[38;5;28mstr\u001b[39m, \u001b[38;5;28mbytes\u001b[39m)):\n\u001b[0;32m--> 218\u001b[0m     \u001b[38;5;28;43mself\u001b[39;49m\u001b[38;5;241;43m.\u001b[39;49m\u001b[43m_open_filename\u001b[49m\u001b[43m(\u001b[49m\u001b[43mfileobj\u001b[49m\u001b[43m,\u001b[49m\u001b[43m \u001b[49m\u001b[43mmode\u001b[49m\u001b[43m,\u001b[49m\u001b[43m \u001b[49m\u001b[43moverwrite\u001b[49m\u001b[43m)\u001b[49m\n\u001b[1;32m    219\u001b[0m \u001b[38;5;28;01melse\u001b[39;00m:\n\u001b[1;32m    220\u001b[0m     \u001b[38;5;28mself\u001b[39m\u001b[38;5;241m.\u001b[39m_open_filelike(fileobj, mode, overwrite)\n",
      "File \u001b[0;32m~/.python/current/lib/python3.12/site-packages/astropy/io/fits/file.py:651\u001b[0m, in \u001b[0;36m_File._open_filename\u001b[0;34m(self, filename, mode, overwrite)\u001b[0m\n\u001b[1;32m    648\u001b[0m ext \u001b[38;5;241m=\u001b[39m os\u001b[38;5;241m.\u001b[39mpath\u001b[38;5;241m.\u001b[39msplitext(\u001b[38;5;28mself\u001b[39m\u001b[38;5;241m.\u001b[39mname)[\u001b[38;5;241m1\u001b[39m]\n\u001b[1;32m    650\u001b[0m \u001b[38;5;28;01mif\u001b[39;00m \u001b[38;5;129;01mnot\u001b[39;00m \u001b[38;5;28mself\u001b[39m\u001b[38;5;241m.\u001b[39m_try_read_compressed(\u001b[38;5;28mself\u001b[39m\u001b[38;5;241m.\u001b[39mname, magic, mode, ext\u001b[38;5;241m=\u001b[39mext):\n\u001b[0;32m--> 651\u001b[0m     \u001b[38;5;28mself\u001b[39m\u001b[38;5;241m.\u001b[39m_file \u001b[38;5;241m=\u001b[39m \u001b[38;5;28;43mopen\u001b[39;49m\u001b[43m(\u001b[49m\u001b[38;5;28;43mself\u001b[39;49m\u001b[38;5;241;43m.\u001b[39;49m\u001b[43mname\u001b[49m\u001b[43m,\u001b[49m\u001b[43m \u001b[49m\u001b[43mIO_FITS_MODES\u001b[49m\u001b[43m[\u001b[49m\u001b[43mmode\u001b[49m\u001b[43m]\u001b[49m\u001b[43m)\u001b[49m\n\u001b[1;32m    652\u001b[0m     \u001b[38;5;28mself\u001b[39m\u001b[38;5;241m.\u001b[39mclose_on_error \u001b[38;5;241m=\u001b[39m \u001b[38;5;28;01mTrue\u001b[39;00m\n\u001b[1;32m    654\u001b[0m \u001b[38;5;66;03m# Make certain we're back at the beginning of the file\u001b[39;00m\n\u001b[1;32m    655\u001b[0m \u001b[38;5;66;03m# BZ2File does not support seek when the file is open for writing, but\u001b[39;00m\n\u001b[1;32m    656\u001b[0m \u001b[38;5;66;03m# when opening a file for write, bz2.BZ2File always truncates anyway.\u001b[39;00m\n",
      "\u001b[0;31mFileNotFoundError\u001b[0m: [Errno 2] No such file or directory: 'SGA-2020.fits'"
     ]
    }
   ],
   "source": [
    "# siena_2020 galaxy catalog (download from website SGA-2020.fits) - need to change path to your version\n",
    "hdul = fits.open('SGA-2020.fits',memmap=True)\n",
    "galaxy_data = Table(hdul[1].data)\n",
    "hdul.close()\n",
    "\n",
    "# convert to a pandas dataframe structure\n",
    "galaxy_df = galaxy_data.to_pandas()"
   ]
  },
  {
   "cell_type": "code",
   "execution_count": null,
   "metadata": {},
   "outputs": [],
   "source": [
    "# here we set the parameters of interest\n",
    "print('There are',len(gal_data),'targets in ATLAS')    \n",
    "\n",
    "# parameter cuts for galaxy sample\n",
    "\n",
    "lower_dec = 20        # lower limit declination\n",
    "lower_diam = 4        # lower limit diameter size (arcmin)\n",
    "upper_diam = 8        # upper limit diameter size (arcmin)\n",
    "BA_max = 0.8          # upper limit on B/A (avoid face-on galaxies)\n",
    "bright_star_rad = 1   # search radius for bright stars (degrees)\n",
    "max_ebv = 0.04        # maximum allowed value of E(B-V) to limit Galactic extinction\n",
    "max_redshift = 0.005  # z, limit corresponds to ~ 21 Mpc to focus on nearby galaxies\n",
    "\n",
    "#select all galaxies in correct coordinate range, size range, and inclination\n",
    "galaxy_targets = galaxy_data[(galaxy_data['DEC'] > lower_dec) & (galaxy_data['D26'] > lower_diam) & (galaxy_data['D26'] < upper_diam) & (galaxy_data['BA'] < BA_max) & (galaxy_data['Z_LEDA']<max_redshift)]\n",
    "print(len(galaxy_targets),'satisfy RA/Dec, size, b/a, and redshift criteria')"
   ]
  },
  {
   "cell_type": "markdown",
   "metadata": {},
   "source": [
    "Now we move on to estimating the Galactic extinction at the location of each galaxy. For this we using the Schlegel, Finkbeiner and Davis (sfd) maps that are available as part of the SFDQuery call - don't you just love that there is all this infrastructure already available!"
   ]
  },
  {
   "cell_type": "code",
   "execution_count": null,
   "metadata": {},
   "outputs": [],
   "source": [
    "# get extinction at each location  (see https://dustmaps.readthedocs.io/en/latest/maps.html for range of options)\n",
    "\n",
    "coords = SkyCoord(galaxy_targets['RA']*u.deg, galaxy_targets['DEC']*u.deg, frame='icrs')\n",
    "sfd = SFDQuery()\n",
    "galaxy_targets['ebv'] = sfd(coords)\n",
    "\n",
    "#apply selection criteria\n",
    "galaxy_targets = galaxy_targets[(galaxy_targets['ebv'] < max_ebv)]\n",
    "print('Of those',len(galaxy_targets),'satisfy dust criterion')"
   ]
  },
  {
   "cell_type": "markdown",
   "metadata": {},
   "source": [
    "Finally, we are going to search for nearby bright stars that could cause us problems in our observations."
   ]
  },
  {
   "cell_type": "code",
   "execution_count": null,
   "metadata": {},
   "outputs": [],
   "source": [
    "# get brights stars at each remaining location and flag those with bright stars\n",
    "# code will automatically download Yale Bright Star Catalog if you don't already have it\n",
    "\n",
    "bright_flag=[]\n",
    "\n",
    "for j in range(0,len(galaxy_targets)):\n",
    "    br_stars = get_bright_stars(coords[j],bright_star_rad*u.deg)\n",
    "    \n",
    "    if (len(br_stars)>0):\n",
    "        bright_flag = np.append(bright_flag,1)\n",
    "    else:\n",
    "        bright_flag = np.append(bright_flag,0)\n",
    "\n",
    "galaxy_targets_new = galaxy_targets[(bright_flag<1)]\n",
    "\n",
    "print(' ')\n",
    "print('Of those',len(galaxy_targets_new),'do not have a Yale Bright Star Catalog star within',bright_star_rad,'degree(s)')\n",
    "\n",
    "# now we will just write to a text file the targets that satisfy the criteria\n",
    "target_file = open('galaxy_targets.txt', 'w')\n",
    " \n",
    "for j in range(0,len(galaxy_targets_new)):\n",
    "    print(\"%9s %10.6f %10.6f\" % (galaxy_targets_new['GALAXY'][j], galaxy_targets_new['RA'][j], galaxy_targets_new['DEC'][j]), file = target_file)\n",
    "\n",
    "target_file.close()\n"
   ]
  },
  {
   "cell_type": "markdown",
   "metadata": {},
   "source": [
    "From this sample of galaxies we now want to choose the ones that will be accessible for some fraction of the time on nights in September 2023 (at night after astronomical twilight) at the Large Binocular Telescope (LBT) at an arimass < 1.4."
   ]
  },
  {
   "cell_type": "code",
   "execution_count": null,
   "metadata": {},
   "outputs": [],
   "source": [
    "# sets constraints (airmass limit 1.4 and at night).\n",
    "constraints = [AirmassConstraint(1.4), AtNightConstraint.twilight_nautical()]\n",
    "\n",
    "# range of dates to span\n",
    "time_range = Time([\"2023-09-01 00:00\", \"2023-10-01 00:00\"])\n",
    "\n",
    "# parameters of observatory\n",
    "lbt = Observer.at_site('lbt')\n",
    "\n",
    "table = observability_table(constraints, lbt, target_coords, time_range=time_range)\n",
    "\n",
    "print('Galaxy and fraction of time satisfying constraints:')\n",
    "\n",
    "# require observation fraction to be at least 0.1\n",
    "for i in range(0,len(table)):\n",
    "    if (table[i][3]>0.10):\n",
    "        print(galaxy_targets_new[\"GALAXY\"][i], table[i][3])\n"
   ]
  },
  {
   "cell_type": "code",
   "execution_count": null,
   "metadata": {},
   "outputs": [],
   "source": [
    "# view the set of galaxies\n",
    "\n",
    "# subroutine to make the image mosaic\n",
    "def get_concat(data,rows,galaxy_targets_new,ct,image_number):\n",
    "    xlen = len(data)\n",
    "    w = data[0].width\n",
    "    h = data[0].height\n",
    "    dst = Image.new('RGB', (3*w + 40 , rows*h+(rows-1)*10),color='white')\n",
    "    draw = ImageDraw.Draw(dst)\n",
    "    for i in range(rows):\n",
    "        for j in range(3):\n",
    "            count = i*3 + j\n",
    "            tcount = count + ct*image_number \n",
    "            if (count < xlen):\n",
    "                dst.paste(data[count], (j*w+j*10, i*h+i*10))\n",
    "                draw.text((j*w+j*10+7,i*h+i*10+15), str(galaxy_targets_new['GALAXY'][tcount]), fill=(255,255,0))\n",
    "    return dst\n",
    "\n",
    "#filename = 'targets.jpg'\n",
    "\n",
    "#try:\n",
    "#    os.remove(filename)\n",
    "#except OSError:\n",
    "#    pass\n",
    "\n",
    "# maximum images per mosaic\n",
    "image_number = 100\n",
    "\n",
    "jlen = 0\n",
    "x_data = []\n",
    "\n",
    "xlen = len(galaxy_targets_new)\n",
    "\n",
    "count = 0\n",
    "flag = 0\n",
    "\n",
    "for i in range(xlen):\n",
    "\n",
    "    if(table[i][3]>0.1):\n",
    "    \n",
    "        jlen += 1\n",
    "        try:\n",
    "            os.remove('trash.png')\n",
    "        except:\n",
    "            pass\n",
    "        file = open(\"trash.png\", \"wb+\")\n",
    "# this sets the link to get the postage stamp image\n",
    "        link = 'http://legacysurvey.org/viewer/jpeg-cutout/?ra=' + str(galaxy_targets_new['RA'][i]) + '&dec=' + str(galaxy_targets_new['DEC'][i]) +'&layer=dr8&pixscale=5&bands=grz'\n",
    "# gets the image\n",
    "        r = requests.get(link)\n",
    "        if (len(r.content) < 10000):\n",
    "            r = requests.get(link)\n",
    "        file.write(r.content)\n",
    "        file.close()\n",
    "        \n",
    "        if (jlen < image_number):\n",
    "            try:\n",
    "                x_data.append(Image.open('trash.png'))\n",
    "            except OSError:\n",
    "                print('error 1',i)\n",
    "                jlen -= 1\n",
    "        else:\n",
    "            try:\n",
    "                x_data.append(Image.open('trash.png'))\n",
    "            except OSError:\n",
    "                print('error 2')\n",
    "            jlen = 0\n",
    "            rows = int(len(x_data)/3) + 1\n",
    "            filename = 'targets' + str(count) + '.jpg'\n",
    "            print(filename)\n",
    "            try:\n",
    "                os.remove(filename)\n",
    "            except OSError:\n",
    "                pass\n",
    "\n",
    "            get_concat(x_data,rows,gal_targets_new,count,image_number).save(filename)\n",
    "            count += 1\n",
    "            x_data = []\n",
    "    \n",
    "\n",
    "rows = int(jlen/3) + 1\n",
    "filename = 'targets' + str(count) + '.jpg'\n",
    "print(filename)\n",
    "try:\n",
    "    os.remove(filename)\n",
    "except OSError:\n",
    "    pass\n",
    "\n",
    "get_concat(x_data,rows,galaxy_targets_new,count,image_number).save(filename)\n"
   ]
  },
  {
   "cell_type": "markdown",
   "metadata": {},
   "source": [
    "## Conclusion: "
   ]
  },
  {
   "cell_type": "markdown",
   "metadata": {},
   "source": [
    "\n",
    " You can delete SGA-2020.fits, which takes up a lot of disk space."
   ]
  },
  {
   "cell_type": "code",
   "execution_count": null,
   "metadata": {},
   "outputs": [],
   "source": []
  }
 ],
 "metadata": {
  "kernelspec": {
   "display_name": "Python 3",
   "language": "python",
   "name": "python3"
  },
  "language_info": {
   "codemirror_mode": {
    "name": "ipython",
    "version": 3
   },
   "file_extension": ".py",
   "mimetype": "text/x-python",
   "name": "python",
   "nbconvert_exporter": "python",
   "pygments_lexer": "ipython3",
   "version": "3.12.1"
  }
 },
 "nbformat": 4,
 "nbformat_minor": 4
}
