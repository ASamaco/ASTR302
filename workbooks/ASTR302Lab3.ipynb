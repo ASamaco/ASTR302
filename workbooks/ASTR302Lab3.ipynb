{
 "cells": [
  {
   "cell_type": "markdown",
   "metadata": {
    "tags": []
   },
   "source": [
    "# ASTR302 Lab 3: The Basics of Starting an Observational Program"
   ]
  },
  {
   "cell_type": "markdown",
   "metadata": {},
   "source": [
    "In this Lab you will learn how to explore catalogs to define a sample that can be observed on a given night. This is an easy one - you just need to try to understand how things work. There are no specific questions for you to answer (so you don't need to email me this one)."
   ]
  },
  {
   "cell_type": "markdown",
   "metadata": {},
   "source": [
    "## Using DATALAB"
   ]
  },
  {
   "cell_type": "markdown",
   "metadata": {},
   "source": [
    "We have been focusing on statistics, so we are going to take a break - even though there is plenty more to discuss - and do some astronomy. We will begin to use the DATALAB environment at NOIRLab to make finder charts of our targets. Finder charts are helpful in confirming that you are observing the correct source.\n",
    "\n",
    "\n"
   ]
  },
  {
   "cell_type": "markdown",
   "metadata": {},
   "source": [
    "## Selecting a sample of galaxies"
   ]
  },
  {
   "cell_type": "markdown",
   "metadata": {},
   "source": [
    "Planning for any observing program starts with the selection of targets. Of course, this is influenced by the scientific questions one is asking - but for our purpose we are going to skip the motivation and just get to the target selection. In this case our targets are going to be galaxies that satisfy a set of criteris that we will specify.\n",
    "\n",
    "Before we start, lets import the packages you will be needing for this Lab.\n"
   ]
  },
  {
   "cell_type": "code",
   "execution_count": 1,
   "metadata": {},
   "outputs": [
    {
     "name": "stdout",
     "output_type": "stream",
     "text": [
      "Requirement already satisfied: astropy in /home/codespace/.python/current/lib/python3.12/site-packages (7.0.1)\n",
      "Requirement already satisfied: numpy>=1.23.2 in /home/codespace/.local/lib/python3.12/site-packages (from astropy) (2.2.4)\n",
      "Requirement already satisfied: pyerfa>=2.0.1.1 in /home/codespace/.python/current/lib/python3.12/site-packages (from astropy) (2.0.1.5)\n",
      "Requirement already satisfied: astropy-iers-data>=0.2025.1.31.12.41.4 in /home/codespace/.python/current/lib/python3.12/site-packages (from astropy) (0.2025.3.24.0.35.32)\n",
      "Requirement already satisfied: PyYAML>=6.0.0 in /home/codespace/.local/lib/python3.12/site-packages (from astropy) (6.0.2)\n",
      "Requirement already satisfied: packaging>=22.0.0 in /home/codespace/.local/lib/python3.12/site-packages (from astropy) (24.2)\n",
      "Note: you may need to restart the kernel to use updated packages.\n"
     ]
    }
   ],
   "source": [
    "%pip install astropy"
   ]
  },
  {
   "cell_type": "code",
   "execution_count": 2,
   "metadata": {},
   "outputs": [
    {
     "name": "stdout",
     "output_type": "stream",
     "text": [
      "Requirement already satisfied: pip in /home/codespace/.python/current/lib/python3.12/site-packages (25.0.1)\n",
      "Note: you may need to restart the kernel to use updated packages.\n",
      "Collecting astroplan\n",
      "  Downloading astroplan-0.10.1.tar.gz (140 kB)\n",
      "  Installing build dependencies ... \u001b[?25ldone\n",
      "\u001b[?25h  Getting requirements to build wheel ... \u001b[?25ldone\n",
      "\u001b[?25h  Preparing metadata (pyproject.toml) ... \u001b[?25ldone\n",
      "\u001b[?25hRequirement already satisfied: numpy>=1.17 in /home/codespace/.local/lib/python3.12/site-packages (from astroplan) (2.2.4)\n",
      "Requirement already satisfied: astropy>=4 in /home/codespace/.python/current/lib/python3.12/site-packages (from astroplan) (7.0.1)\n",
      "Requirement already satisfied: pytz in /home/codespace/.local/lib/python3.12/site-packages (from astroplan) (2025.1)\n",
      "Requirement already satisfied: six in /home/codespace/.local/lib/python3.12/site-packages (from astroplan) (1.17.0)\n",
      "Requirement already satisfied: pyerfa>=2.0.1.1 in /home/codespace/.python/current/lib/python3.12/site-packages (from astropy>=4->astroplan) (2.0.1.5)\n",
      "Requirement already satisfied: astropy-iers-data>=0.2025.1.31.12.41.4 in /home/codespace/.python/current/lib/python3.12/site-packages (from astropy>=4->astroplan) (0.2025.3.24.0.35.32)\n",
      "Requirement already satisfied: PyYAML>=6.0.0 in /home/codespace/.local/lib/python3.12/site-packages (from astropy>=4->astroplan) (6.0.2)\n",
      "Requirement already satisfied: packaging>=22.0.0 in /home/codespace/.local/lib/python3.12/site-packages (from astropy>=4->astroplan) (24.2)\n",
      "Building wheels for collected packages: astroplan\n",
      "  Building wheel for astroplan (pyproject.toml) ... \u001b[?25ldone\n",
      "\u001b[?25h  Created wheel for astroplan: filename=astroplan-0.10.1-py3-none-any.whl size=83898 sha256=2154981281d0149dab6c2069b45192d2cef129521b3a4c00b36e9ad47f251c05\n",
      "  Stored in directory: /home/codespace/.cache/pip/wheels/10/8d/c2/c5abd8ed9f9ac3f737a80116bae9ae1c64b2b1ef1a5cc39ba8\n",
      "Successfully built astroplan\n",
      "Installing collected packages: astroplan\n",
      "Successfully installed astroplan-0.10.1\n",
      "Note: you may need to restart the kernel to use updated packages.\n",
      "Collecting pytest-astropy\n",
      "  Downloading pytest_astropy-0.11.0-py3-none-any.whl.metadata (4.5 kB)\n",
      "Collecting pytest>=4.6 (from pytest-astropy)\n",
      "  Downloading pytest-8.3.5-py3-none-any.whl.metadata (7.6 kB)\n",
      "Collecting pytest-doctestplus>=1.0.0 (from pytest-astropy)\n",
      "  Downloading pytest_doctestplus-1.4.0-py3-none-any.whl.metadata (17 kB)\n",
      "Collecting pytest-remotedata>=0.4.1 (from pytest-astropy)\n",
      "  Downloading pytest_remotedata-0.4.1-py3-none-any.whl.metadata (5.6 kB)\n",
      "Collecting pytest-astropy-header>=0.2.2 (from pytest-astropy)\n",
      "  Downloading pytest_astropy_header-0.2.2-py3-none-any.whl.metadata (8.5 kB)\n",
      "Collecting pytest-arraydiff>=0.5 (from pytest-astropy)\n",
      "  Downloading pytest_arraydiff-0.6.1-py3-none-any.whl.metadata (8.5 kB)\n",
      "Collecting pytest-filter-subpackage>=0.1.2 (from pytest-astropy)\n",
      "  Downloading pytest_filter_subpackage-0.2.0-py2.py3-none-any.whl.metadata (2.8 kB)\n",
      "Collecting pytest-cov>=2.3.1 (from pytest-astropy)\n",
      "  Downloading pytest_cov-6.0.0-py3-none-any.whl.metadata (27 kB)\n",
      "Collecting pytest-mock>=2.0 (from pytest-astropy)\n",
      "  Downloading pytest_mock-3.14.0-py3-none-any.whl.metadata (3.8 kB)\n",
      "Requirement already satisfied: attrs>=19.2.0 in /home/codespace/.local/lib/python3.12/site-packages (from pytest-astropy) (25.3.0)\n",
      "Collecting hypothesis>=5.1 (from pytest-astropy)\n",
      "  Downloading hypothesis-6.130.4-py3-none-any.whl.metadata (5.7 kB)\n",
      "Collecting sortedcontainers<3.0.0,>=2.1.0 (from hypothesis>=5.1->pytest-astropy)\n",
      "  Downloading sortedcontainers-2.4.0-py2.py3-none-any.whl.metadata (10 kB)\n",
      "Collecting iniconfig (from pytest>=4.6->pytest-astropy)\n",
      "  Downloading iniconfig-2.1.0-py3-none-any.whl.metadata (2.7 kB)\n",
      "Requirement already satisfied: packaging in /home/codespace/.local/lib/python3.12/site-packages (from pytest>=4.6->pytest-astropy) (24.2)\n",
      "Collecting pluggy<2,>=1.5 (from pytest>=4.6->pytest-astropy)\n",
      "  Downloading pluggy-1.5.0-py3-none-any.whl.metadata (4.8 kB)\n",
      "Requirement already satisfied: numpy in /home/codespace/.local/lib/python3.12/site-packages (from pytest-arraydiff>=0.5->pytest-astropy) (2.2.4)\n",
      "Collecting coverage>=7.5 (from coverage[toml]>=7.5->pytest-cov>=2.3.1->pytest-astropy)\n",
      "  Downloading coverage-7.7.1-cp312-cp312-manylinux_2_5_x86_64.manylinux1_x86_64.manylinux_2_17_x86_64.manylinux2014_x86_64.whl.metadata (8.5 kB)\n",
      "Downloading pytest_astropy-0.11.0-py3-none-any.whl (5.2 kB)\n",
      "Downloading hypothesis-6.130.4-py3-none-any.whl (491 kB)\n",
      "Downloading pytest-8.3.5-py3-none-any.whl (343 kB)\n",
      "Downloading pytest_arraydiff-0.6.1-py3-none-any.whl (10 kB)\n",
      "Downloading pytest_astropy_header-0.2.2-py3-none-any.whl (7.8 kB)\n",
      "Downloading pytest_cov-6.0.0-py3-none-any.whl (22 kB)\n",
      "Downloading pytest_doctestplus-1.4.0-py3-none-any.whl (25 kB)\n",
      "Downloading pytest_filter_subpackage-0.2.0-py2.py3-none-any.whl (5.5 kB)\n",
      "Downloading pytest_mock-3.14.0-py3-none-any.whl (9.9 kB)\n",
      "Downloading pytest_remotedata-0.4.1-py3-none-any.whl (8.6 kB)\n",
      "Downloading coverage-7.7.1-cp312-cp312-manylinux_2_5_x86_64.manylinux1_x86_64.manylinux_2_17_x86_64.manylinux2014_x86_64.whl (244 kB)\n",
      "Downloading pluggy-1.5.0-py3-none-any.whl (20 kB)\n",
      "Downloading sortedcontainers-2.4.0-py2.py3-none-any.whl (29 kB)\n",
      "Downloading iniconfig-2.1.0-py3-none-any.whl (6.0 kB)\n",
      "Installing collected packages: sortedcontainers, pluggy, iniconfig, hypothesis, coverage, pytest, pytest-remotedata, pytest-mock, pytest-filter-subpackage, pytest-doctestplus, pytest-cov, pytest-astropy-header, pytest-arraydiff, pytest-astropy\n",
      "Successfully installed coverage-7.7.1 hypothesis-6.130.4 iniconfig-2.1.0 pluggy-1.5.0 pytest-8.3.5 pytest-arraydiff-0.6.1 pytest-astropy-0.11.0 pytest-astropy-header-0.2.2 pytest-cov-6.0.0 pytest-doctestplus-1.4.0 pytest-filter-subpackage-0.2.0 pytest-mock-3.14.0 pytest-remotedata-0.4.1 sortedcontainers-2.4.0\n",
      "Note: you may need to restart the kernel to use updated packages.\n",
      "Requirement already satisfied: pytz in /home/codespace/.local/lib/python3.12/site-packages (2025.1)\n",
      "Note: you may need to restart the kernel to use updated packages.\n",
      "Requirement already satisfied: jinja2 in /home/codespace/.local/lib/python3.12/site-packages (3.1.6)\n",
      "Requirement already satisfied: MarkupSafe>=2.0 in /home/codespace/.local/lib/python3.12/site-packages (from jinja2) (3.0.2)\n",
      "Note: you may need to restart the kernel to use updated packages.\n",
      "Collecting dustmaps\n",
      "  Downloading dustmaps-1.0.14-py3-none-any.whl.metadata (5.9 kB)\n",
      "Requirement already satisfied: astropy in /home/codespace/.python/current/lib/python3.12/site-packages (from dustmaps) (7.0.1)\n",
      "Collecting h5py (from dustmaps)\n",
      "  Downloading h5py-3.13.0-cp312-cp312-manylinux_2_17_x86_64.manylinux2014_x86_64.whl.metadata (2.5 kB)\n",
      "Collecting healpy (from dustmaps)\n",
      "  Downloading healpy-1.18.0-cp312-cp312-manylinux_2_17_x86_64.manylinux2014_x86_64.whl.metadata (8.7 kB)\n",
      "Requirement already satisfied: numpy in /home/codespace/.local/lib/python3.12/site-packages (from dustmaps) (2.2.4)\n",
      "Collecting progressbar2 (from dustmaps)\n",
      "  Downloading progressbar2-4.5.0-py3-none-any.whl.metadata (16 kB)\n",
      "Requirement already satisfied: requests in /home/codespace/.local/lib/python3.12/site-packages (from dustmaps) (2.32.3)\n",
      "Requirement already satisfied: scipy in /home/codespace/.local/lib/python3.12/site-packages (from dustmaps) (1.15.2)\n",
      "Requirement already satisfied: six in /home/codespace/.local/lib/python3.12/site-packages (from dustmaps) (1.17.0)\n",
      "Collecting tqdm (from dustmaps)\n",
      "  Downloading tqdm-4.67.1-py3-none-any.whl.metadata (57 kB)\n",
      "Requirement already satisfied: pyerfa>=2.0.1.1 in /home/codespace/.python/current/lib/python3.12/site-packages (from astropy->dustmaps) (2.0.1.5)\n",
      "Requirement already satisfied: astropy-iers-data>=0.2025.1.31.12.41.4 in /home/codespace/.python/current/lib/python3.12/site-packages (from astropy->dustmaps) (0.2025.3.24.0.35.32)\n",
      "Requirement already satisfied: PyYAML>=6.0.0 in /home/codespace/.local/lib/python3.12/site-packages (from astropy->dustmaps) (6.0.2)\n",
      "Requirement already satisfied: packaging>=22.0.0 in /home/codespace/.local/lib/python3.12/site-packages (from astropy->dustmaps) (24.2)\n",
      "Collecting python-utils>=3.8.1 (from progressbar2->dustmaps)\n",
      "  Downloading python_utils-3.9.1-py2.py3-none-any.whl.metadata (9.8 kB)\n",
      "Requirement already satisfied: charset-normalizer<4,>=2 in /home/codespace/.local/lib/python3.12/site-packages (from requests->dustmaps) (3.4.1)\n",
      "Requirement already satisfied: idna<4,>=2.5 in /home/codespace/.local/lib/python3.12/site-packages (from requests->dustmaps) (3.10)\n",
      "Requirement already satisfied: urllib3<3,>=1.21.1 in /home/codespace/.local/lib/python3.12/site-packages (from requests->dustmaps) (2.3.0)\n",
      "Requirement already satisfied: certifi>=2017.4.17 in /home/codespace/.local/lib/python3.12/site-packages (from requests->dustmaps) (2025.1.31)\n",
      "Requirement already satisfied: typing_extensions>3.10.0.2 in /home/codespace/.local/lib/python3.12/site-packages (from python-utils>=3.8.1->progressbar2->dustmaps) (4.12.2)\n",
      "Downloading dustmaps-1.0.14-py3-none-any.whl (754 kB)\n",
      "\u001b[2K   \u001b[90m━━━━━━━━━━━━━━━━━━━━━━━━━━━━━━━━━━━━━━━━\u001b[0m \u001b[32m754.8/754.8 kB\u001b[0m \u001b[31m16.5 MB/s\u001b[0m eta \u001b[36m0:00:00\u001b[0m\n",
      "\u001b[?25hDownloading h5py-3.13.0-cp312-cp312-manylinux_2_17_x86_64.manylinux2014_x86_64.whl (4.9 MB)\n",
      "\u001b[2K   \u001b[90m━━━━━━━━━━━━━━━━━━━━━━━━━━━━━━━━━━━━━━━━\u001b[0m \u001b[32m4.9/4.9 MB\u001b[0m \u001b[31m44.7 MB/s\u001b[0m eta \u001b[36m0:00:00\u001b[0m\n",
      "\u001b[?25hDownloading healpy-1.18.0-cp312-cp312-manylinux_2_17_x86_64.manylinux2014_x86_64.whl (8.9 MB)\n",
      "\u001b[2K   \u001b[90m━━━━━━━━━━━━━━━━━━━━━━━━━━━━━━━━━━━━━━━━\u001b[0m \u001b[32m8.9/8.9 MB\u001b[0m \u001b[31m46.7 MB/s\u001b[0m eta \u001b[36m0:00:00\u001b[0m\n",
      "\u001b[?25hDownloading progressbar2-4.5.0-py3-none-any.whl (57 kB)\n",
      "Downloading tqdm-4.67.1-py3-none-any.whl (78 kB)\n",
      "Downloading python_utils-3.9.1-py2.py3-none-any.whl (32 kB)\n",
      "Installing collected packages: tqdm, python-utils, h5py, progressbar2, healpy, dustmaps\n",
      "Successfully installed dustmaps-1.0.14 h5py-3.13.0 healpy-1.18.0 progressbar2-4.5.0 python-utils-3.9.1 tqdm-4.67.1\n",
      "Note: you may need to restart the kernel to use updated packages.\n",
      "Collecting ctapipe\n",
      "  Downloading ctapipe-0.23.2-py3-none-any.whl.metadata (7.4 kB)\n",
      "Requirement already satisfied: astropy<8.0.0a0,>=5.3 in /home/codespace/.python/current/lib/python3.12/site-packages (from ctapipe) (7.0.1)\n",
      "Collecting docutils (from ctapipe)\n",
      "  Downloading docutils-0.21.2-py3-none-any.whl.metadata (2.8 kB)\n",
      "Requirement already satisfied: joblib in /home/codespace/.local/lib/python3.12/site-packages (from ctapipe) (1.4.2)\n",
      "Collecting numba>=0.56 (from ctapipe)\n",
      "  Downloading numba-0.61.0-cp312-cp312-manylinux2014_x86_64.manylinux_2_17_x86_64.whl.metadata (2.8 kB)\n",
      "Requirement already satisfied: numpy<3.0.0a0,>=1.23 in /home/codespace/.local/lib/python3.12/site-packages (from ctapipe) (2.2.4)\n",
      "Requirement already satisfied: packaging in /home/codespace/.local/lib/python3.12/site-packages (from ctapipe) (24.2)\n",
      "Requirement already satisfied: psutil in /home/codespace/.local/lib/python3.12/site-packages (from ctapipe) (7.0.0)\n",
      "Requirement already satisfied: pyyaml>=5.1 in /home/codespace/.local/lib/python3.12/site-packages (from ctapipe) (6.0.2)\n",
      "Requirement already satisfied: requests in /home/codespace/.local/lib/python3.12/site-packages (from ctapipe) (2.32.3)\n",
      "Requirement already satisfied: scikit-learn!=1.4.0 in /home/codespace/.local/lib/python3.12/site-packages (from ctapipe) (1.6.1)\n",
      "Requirement already satisfied: scipy~=1.2 in /home/codespace/.local/lib/python3.12/site-packages (from ctapipe) (1.15.2)\n",
      "Collecting tables~=3.4 (from ctapipe)\n",
      "  Downloading tables-3.10.2-cp312-cp312-manylinux_2_17_x86_64.manylinux2014_x86_64.whl.metadata (2.0 kB)\n",
      "Requirement already satisfied: tqdm>=4.32 in /home/codespace/.python/current/lib/python3.12/site-packages (from ctapipe) (4.67.1)\n",
      "Requirement already satisfied: traitlets~=5.6 in /home/codespace/.local/lib/python3.12/site-packages (from ctapipe) (5.14.3)\n",
      "Requirement already satisfied: pyerfa>=2.0.1.1 in /home/codespace/.python/current/lib/python3.12/site-packages (from astropy<8.0.0a0,>=5.3->ctapipe) (2.0.1.5)\n",
      "Requirement already satisfied: astropy-iers-data>=0.2025.1.31.12.41.4 in /home/codespace/.python/current/lib/python3.12/site-packages (from astropy<8.0.0a0,>=5.3->ctapipe) (0.2025.3.24.0.35.32)\n",
      "Collecting llvmlite<0.45,>=0.44.0dev0 (from numba>=0.56->ctapipe)\n",
      "  Downloading llvmlite-0.44.0-cp312-cp312-manylinux_2_17_x86_64.manylinux2014_x86_64.whl.metadata (5.0 kB)\n",
      "Collecting numpy<3.0.0a0,>=1.23 (from ctapipe)\n",
      "  Downloading numpy-2.1.3-cp312-cp312-manylinux_2_17_x86_64.manylinux2014_x86_64.whl.metadata (62 kB)\n",
      "Requirement already satisfied: threadpoolctl>=3.1.0 in /home/codespace/.local/lib/python3.12/site-packages (from scikit-learn!=1.4.0->ctapipe) (3.6.0)\n",
      "Collecting numexpr>=2.6.2 (from tables~=3.4->ctapipe)\n",
      "  Downloading numexpr-2.10.2-cp312-cp312-manylinux_2_27_x86_64.manylinux_2_28_x86_64.whl.metadata (8.1 kB)\n",
      "Collecting py-cpuinfo (from tables~=3.4->ctapipe)\n",
      "  Downloading py_cpuinfo-9.0.0-py3-none-any.whl.metadata (794 bytes)\n",
      "Collecting blosc2>=2.3.0 (from tables~=3.4->ctapipe)\n",
      "  Downloading blosc2-3.2.0-cp312-cp312-manylinux_2_17_x86_64.manylinux2014_x86_64.whl.metadata (7.8 kB)\n",
      "Requirement already satisfied: typing-extensions>=4.4.0 in /home/codespace/.local/lib/python3.12/site-packages (from tables~=3.4->ctapipe) (4.12.2)\n",
      "Requirement already satisfied: charset-normalizer<4,>=2 in /home/codespace/.local/lib/python3.12/site-packages (from requests->ctapipe) (3.4.1)\n",
      "Requirement already satisfied: idna<4,>=2.5 in /home/codespace/.local/lib/python3.12/site-packages (from requests->ctapipe) (3.10)\n",
      "Requirement already satisfied: urllib3<3,>=1.21.1 in /home/codespace/.local/lib/python3.12/site-packages (from requests->ctapipe) (2.3.0)\n",
      "Requirement already satisfied: certifi>=2017.4.17 in /home/codespace/.local/lib/python3.12/site-packages (from requests->ctapipe) (2025.1.31)\n",
      "Collecting ndindex (from blosc2>=2.3.0->tables~=3.4->ctapipe)\n",
      "  Downloading ndindex-1.9.2-cp312-cp312-manylinux_2_17_x86_64.manylinux2014_x86_64.whl.metadata (3.4 kB)\n",
      "Collecting msgpack (from blosc2>=2.3.0->tables~=3.4->ctapipe)\n",
      "  Downloading msgpack-1.1.0-cp312-cp312-manylinux_2_17_x86_64.manylinux2014_x86_64.whl.metadata (8.4 kB)\n",
      "Requirement already satisfied: platformdirs in /home/codespace/.local/lib/python3.12/site-packages (from blosc2>=2.3.0->tables~=3.4->ctapipe) (4.3.6)\n",
      "Downloading ctapipe-0.23.2-py3-none-any.whl (1.9 MB)\n",
      "\u001b[2K   \u001b[90m━━━━━━━━━━━━━━━━━━━━━━━━━━━━━━━━━━━━━━━━\u001b[0m \u001b[32m1.9/1.9 MB\u001b[0m \u001b[31m17.6 MB/s\u001b[0m eta \u001b[36m0:00:00\u001b[0m\n",
      "\u001b[?25hDownloading numba-0.61.0-cp312-cp312-manylinux2014_x86_64.manylinux_2_17_x86_64.whl (3.9 MB)\n",
      "\u001b[2K   \u001b[90m━━━━━━━━━━━━━━━━━━━━━━━━━━━━━━━━━━━━━━━━\u001b[0m \u001b[32m3.9/3.9 MB\u001b[0m \u001b[31m27.0 MB/s\u001b[0m eta \u001b[36m0:00:00\u001b[0m\n",
      "\u001b[?25hDownloading numpy-2.1.3-cp312-cp312-manylinux_2_17_x86_64.manylinux2014_x86_64.whl (16.0 MB)\n",
      "\u001b[2K   \u001b[90m━━━━━━━━━━━━━━━━━━━━━━━━━━━━━━━━━━━━━━━━\u001b[0m \u001b[32m16.0/16.0 MB\u001b[0m \u001b[31m39.4 MB/s\u001b[0m eta \u001b[36m0:00:00\u001b[0m:00:01\u001b[0m\n",
      "\u001b[?25hDownloading tables-3.10.2-cp312-cp312-manylinux_2_17_x86_64.manylinux2014_x86_64.whl (7.5 MB)\n",
      "\u001b[2K   \u001b[90m━━━━━━━━━━━━━━━━━━━━━━━━━━━━━━━━━━━━━━━━\u001b[0m \u001b[32m7.5/7.5 MB\u001b[0m \u001b[31m46.0 MB/s\u001b[0m eta \u001b[36m0:00:00\u001b[0m\n",
      "\u001b[?25hDownloading docutils-0.21.2-py3-none-any.whl (587 kB)\n",
      "\u001b[2K   \u001b[90m━━━━━━━━━━━━━━━━━━━━━━━━━━━━━━━━━━━━━━━━\u001b[0m \u001b[32m587.4/587.4 kB\u001b[0m \u001b[31m19.2 MB/s\u001b[0m eta \u001b[36m0:00:00\u001b[0m\n",
      "\u001b[?25hDownloading blosc2-3.2.0-cp312-cp312-manylinux_2_17_x86_64.manylinux2014_x86_64.whl (4.4 MB)\n",
      "\u001b[2K   \u001b[90m━━━━━━━━━━━━━━━━━━━━━━━━━━━━━━━━━━━━━━━━\u001b[0m \u001b[32m4.4/4.4 MB\u001b[0m \u001b[31m47.9 MB/s\u001b[0m eta \u001b[36m0:00:00\u001b[0m\n",
      "\u001b[?25hDownloading llvmlite-0.44.0-cp312-cp312-manylinux_2_17_x86_64.manylinux2014_x86_64.whl (42.4 MB)\n",
      "\u001b[2K   \u001b[90m━━━━━━━━━━━━━━━━━━━━━━━━━━━━━━━━━━━━━━━━\u001b[0m \u001b[32m42.4/42.4 MB\u001b[0m \u001b[31m42.6 MB/s\u001b[0m eta \u001b[36m0:00:00\u001b[0m:00:01\u001b[0m\n",
      "\u001b[?25hDownloading numexpr-2.10.2-cp312-cp312-manylinux_2_27_x86_64.manylinux_2_28_x86_64.whl (400 kB)\n",
      "Downloading py_cpuinfo-9.0.0-py3-none-any.whl (22 kB)\n",
      "Downloading msgpack-1.1.0-cp312-cp312-manylinux_2_17_x86_64.manylinux2014_x86_64.whl (401 kB)\n",
      "Downloading ndindex-1.9.2-cp312-cp312-manylinux_2_17_x86_64.manylinux2014_x86_64.whl (521 kB)\n",
      "Installing collected packages: py-cpuinfo, numpy, ndindex, msgpack, llvmlite, docutils, numexpr, numba, blosc2, tables, ctapipe\n",
      "  Attempting uninstall: numpy\n",
      "    Found existing installation: numpy 2.2.4\n",
      "    Uninstalling numpy-2.2.4:\n",
      "      Successfully uninstalled numpy-2.2.4\n",
      "Successfully installed blosc2-3.2.0 ctapipe-0.23.2 docutils-0.21.2 llvmlite-0.44.0 msgpack-1.1.0 ndindex-1.9.2 numba-0.61.0 numexpr-2.10.2 numpy-2.1.3 py-cpuinfo-9.0.0 tables-3.10.2\n",
      "Note: you may need to restart the kernel to use updated packages.\n",
      "Downloading SFD data file to /workspaces/ASTR302/workbooks/sfd/SFD_dust_4096_ngp.fits\n"
     ]
    },
    {
     "name": "stderr",
     "output_type": "stream",
     "text": [
      "/home/codespace/.python/current/lib/python3.12/site-packages/dustmaps/config.py:74: ConfigWarning: Configuration file not found:\n",
      "\n",
      "    /home/codespace/.dustmapsrc\n",
      "\n",
      "To create a new configuration file in the default location, run the following python code:\n",
      "\n",
      "    from dustmaps.config import config\n",
      "    config.reset()\n",
      "\n",
      "Note that this will delete your configuration! For example, if you have specified a data directory, then dustmaps will forget about its location.\n",
      "  warn(('Configuration file not found:\\n\\n'\n"
     ]
    },
    {
     "name": "stdout",
     "output_type": "stream",
     "text": [
      "Checking existing file to see if MD5 sum matches ...\n",
      "File exists. Not overwriting.\n",
      "Downloading SFD data file to /workspaces/ASTR302/workbooks/sfd/SFD_dust_4096_sgp.fits\n",
      "Checking existing file to see if MD5 sum matches ...\n",
      "File exists. Not overwriting.\n"
     ]
    },
    {
     "name": "stderr",
     "output_type": "stream",
     "text": [
      "/home/codespace/.python/current/lib/python3.12/site-packages/tqdm/auto.py:21: TqdmWarning: IProgress not found. Please update jupyter and ipywidgets. See https://ipywidgets.readthedocs.io/en/stable/user_install.html\n",
      "  from .autonotebook import tqdm as notebook_tqdm\n"
     ]
    }
   ],
   "source": [
    "import matplotlib.pyplot as plt\n",
    "import numpy as np\n",
    "from scipy import stats\n",
    "from scipy.optimize import curve_fit\n",
    "from astropy.io import fits\n",
    "from astropy.table import Table\n",
    "import astropy.units as u\n",
    "from astropy.coordinates import SkyCoord\n",
    "\n",
    "import requests\n",
    "import pandas as pd\n",
    "from PIL import Image, ImageDraw, ImageFilter\n",
    "import time\n",
    "import os\n",
    "\n",
    "%pip install --upgrade pip\n",
    "%pip install astroplan\n",
    "%pip install pytest-astropy --upgrade\n",
    "%pip install pytz\n",
    "%pip install jinja2\n",
    "%pip install dustmaps\n",
    "%pip install ctapipe\n",
    "\n",
    "from dustmaps.sfd import SFDQuery\n",
    "from dustmaps.config import config\n",
    "config['data_dir'] = '.'\n",
    "import dustmaps.sfd\n",
    "dustmaps.sfd.fetch()\n",
    "    \n",
    "from ctapipe.utils import get_bright_stars\n",
    "\n",
    "from astroplan import Observer, FixedTarget\n",
    "from astropy.time import Time\n",
    "from astroplan.plots import plot_airmass\n",
    "\n",
    "from astroplan import observability_table\n",
    "from astroplan import (AltitudeConstraint, AirmassConstraint, AtNightConstraint)\n"
   ]
  },
  {
   "cell_type": "markdown",
   "metadata": {},
   "source": [
    "Now, we going to start with a catalog of large (as seen on the sky) galaxies taken from images obtained for the Sloan and Legacy Survey. The catalog is called the Siena Galaxy Catalog (2020) or SGA-2020.fits. Go ahead and download it and put it in your DATALAB directory. We will then load it in and convert to a Pandas dataframe."
   ]
  },
  {
   "cell_type": "code",
   "execution_count": 5,
   "metadata": {},
   "outputs": [
    {
     "ename": "FileNotFoundError",
     "evalue": "[Errno 2] No such file or directory: '/Users/aaronsamaco/Downloads/SGA-2020.fits'",
     "output_type": "error",
     "traceback": [
      "\u001b[31m---------------------------------------------------------------------------\u001b[39m",
      "\u001b[31mFileNotFoundError\u001b[39m                         Traceback (most recent call last)",
      "\u001b[36mCell\u001b[39m\u001b[36m \u001b[39m\u001b[32mIn[5]\u001b[39m\u001b[32m, line 3\u001b[39m\n\u001b[32m      1\u001b[39m \u001b[38;5;66;03m# siena_2020 galaxy catalog (download from website SGA-2020.fits) - need to change path to your version\u001b[39;00m\n\u001b[32m----> \u001b[39m\u001b[32m3\u001b[39m hdul = \u001b[43mfits\u001b[49m\u001b[43m.\u001b[49m\u001b[43mopen\u001b[49m\u001b[43m(\u001b[49m\u001b[33;43mr\u001b[39;49m\u001b[33;43m\"\u001b[39;49m\u001b[33;43m/Users/aaronsamaco/Downloads/SGA-2020.fits\u001b[39;49m\u001b[33;43m\"\u001b[39;49m\u001b[43m,\u001b[49m\u001b[43mmemmap\u001b[49m\u001b[43m=\u001b[49m\u001b[38;5;28;43;01mTrue\u001b[39;49;00m\u001b[43m)\u001b[49m\n\u001b[32m      4\u001b[39m galaxy_data = Table(hdul[\u001b[32m1\u001b[39m].data)\n\u001b[32m      5\u001b[39m hdul.close()\n",
      "\u001b[36mFile \u001b[39m\u001b[32m~/.python/current/lib/python3.12/site-packages/astropy/io/fits/hdu/hdulist.py:224\u001b[39m, in \u001b[36mfitsopen\u001b[39m\u001b[34m(name, mode, memmap, save_backup, cache, lazy_load_hdus, ignore_missing_simple, use_fsspec, fsspec_kwargs, decompress_in_memory, **kwargs)\u001b[39m\n\u001b[32m    221\u001b[39m \u001b[38;5;28;01mif\u001b[39;00m \u001b[38;5;129;01mnot\u001b[39;00m name:\n\u001b[32m    222\u001b[39m     \u001b[38;5;28;01mraise\u001b[39;00m \u001b[38;5;167;01mValueError\u001b[39;00m(\u001b[33mf\u001b[39m\u001b[33m\"\u001b[39m\u001b[33mEmpty filename: \u001b[39m\u001b[38;5;132;01m{\u001b[39;00mname\u001b[38;5;132;01m!r}\u001b[39;00m\u001b[33m\"\u001b[39m)\n\u001b[32m--> \u001b[39m\u001b[32m224\u001b[39m \u001b[38;5;28;01mreturn\u001b[39;00m \u001b[43mHDUList\u001b[49m\u001b[43m.\u001b[49m\u001b[43mfromfile\u001b[49m\u001b[43m(\u001b[49m\n\u001b[32m    225\u001b[39m \u001b[43m    \u001b[49m\u001b[43mname\u001b[49m\u001b[43m,\u001b[49m\n\u001b[32m    226\u001b[39m \u001b[43m    \u001b[49m\u001b[43mmode\u001b[49m\u001b[43m,\u001b[49m\n\u001b[32m    227\u001b[39m \u001b[43m    \u001b[49m\u001b[43mmemmap\u001b[49m\u001b[43m,\u001b[49m\n\u001b[32m    228\u001b[39m \u001b[43m    \u001b[49m\u001b[43msave_backup\u001b[49m\u001b[43m,\u001b[49m\n\u001b[32m    229\u001b[39m \u001b[43m    \u001b[49m\u001b[43mcache\u001b[49m\u001b[43m,\u001b[49m\n\u001b[32m    230\u001b[39m \u001b[43m    \u001b[49m\u001b[43mlazy_load_hdus\u001b[49m\u001b[43m,\u001b[49m\n\u001b[32m    231\u001b[39m \u001b[43m    \u001b[49m\u001b[43mignore_missing_simple\u001b[49m\u001b[43m,\u001b[49m\n\u001b[32m    232\u001b[39m \u001b[43m    \u001b[49m\u001b[43muse_fsspec\u001b[49m\u001b[43m=\u001b[49m\u001b[43muse_fsspec\u001b[49m\u001b[43m,\u001b[49m\n\u001b[32m    233\u001b[39m \u001b[43m    \u001b[49m\u001b[43mfsspec_kwargs\u001b[49m\u001b[43m=\u001b[49m\u001b[43mfsspec_kwargs\u001b[49m\u001b[43m,\u001b[49m\n\u001b[32m    234\u001b[39m \u001b[43m    \u001b[49m\u001b[43mdecompress_in_memory\u001b[49m\u001b[43m=\u001b[49m\u001b[43mdecompress_in_memory\u001b[49m\u001b[43m,\u001b[49m\n\u001b[32m    235\u001b[39m \u001b[43m    \u001b[49m\u001b[43m*\u001b[49m\u001b[43m*\u001b[49m\u001b[43mkwargs\u001b[49m\u001b[43m,\u001b[49m\n\u001b[32m    236\u001b[39m \u001b[43m\u001b[49m\u001b[43m)\u001b[49m\n",
      "\u001b[36mFile \u001b[39m\u001b[32m~/.python/current/lib/python3.12/site-packages/astropy/io/fits/hdu/hdulist.py:488\u001b[39m, in \u001b[36mHDUList.fromfile\u001b[39m\u001b[34m(cls, fileobj, mode, memmap, save_backup, cache, lazy_load_hdus, ignore_missing_simple, **kwargs)\u001b[39m\n\u001b[32m    469\u001b[39m \u001b[38;5;129m@classmethod\u001b[39m\n\u001b[32m    470\u001b[39m \u001b[38;5;28;01mdef\u001b[39;00m\u001b[38;5;250m \u001b[39m\u001b[34mfromfile\u001b[39m(\n\u001b[32m    471\u001b[39m     \u001b[38;5;28mcls\u001b[39m,\n\u001b[32m   (...)\u001b[39m\u001b[32m    479\u001b[39m     **kwargs,\n\u001b[32m    480\u001b[39m ):\n\u001b[32m    481\u001b[39m \u001b[38;5;250m    \u001b[39m\u001b[33;03m\"\"\"\u001b[39;00m\n\u001b[32m    482\u001b[39m \u001b[33;03m    Creates an `HDUList` instance from a file-like object.\u001b[39;00m\n\u001b[32m    483\u001b[39m \n\u001b[32m   (...)\u001b[39m\u001b[32m    486\u001b[39m \u001b[33;03m    documentation for details of the parameters accepted by this method).\u001b[39;00m\n\u001b[32m    487\u001b[39m \u001b[33;03m    \"\"\"\u001b[39;00m\n\u001b[32m--> \u001b[39m\u001b[32m488\u001b[39m     \u001b[38;5;28;01mreturn\u001b[39;00m \u001b[38;5;28;43mcls\u001b[39;49m\u001b[43m.\u001b[49m\u001b[43m_readfrom\u001b[49m\u001b[43m(\u001b[49m\n\u001b[32m    489\u001b[39m \u001b[43m        \u001b[49m\u001b[43mfileobj\u001b[49m\u001b[43m=\u001b[49m\u001b[43mfileobj\u001b[49m\u001b[43m,\u001b[49m\n\u001b[32m    490\u001b[39m \u001b[43m        \u001b[49m\u001b[43mmode\u001b[49m\u001b[43m=\u001b[49m\u001b[43mmode\u001b[49m\u001b[43m,\u001b[49m\n\u001b[32m    491\u001b[39m \u001b[43m        \u001b[49m\u001b[43mmemmap\u001b[49m\u001b[43m=\u001b[49m\u001b[43mmemmap\u001b[49m\u001b[43m,\u001b[49m\n\u001b[32m    492\u001b[39m \u001b[43m        \u001b[49m\u001b[43msave_backup\u001b[49m\u001b[43m=\u001b[49m\u001b[43msave_backup\u001b[49m\u001b[43m,\u001b[49m\n\u001b[32m    493\u001b[39m \u001b[43m        \u001b[49m\u001b[43mcache\u001b[49m\u001b[43m=\u001b[49m\u001b[43mcache\u001b[49m\u001b[43m,\u001b[49m\n\u001b[32m    494\u001b[39m \u001b[43m        \u001b[49m\u001b[43mignore_missing_simple\u001b[49m\u001b[43m=\u001b[49m\u001b[43mignore_missing_simple\u001b[49m\u001b[43m,\u001b[49m\n\u001b[32m    495\u001b[39m \u001b[43m        \u001b[49m\u001b[43mlazy_load_hdus\u001b[49m\u001b[43m=\u001b[49m\u001b[43mlazy_load_hdus\u001b[49m\u001b[43m,\u001b[49m\n\u001b[32m    496\u001b[39m \u001b[43m        \u001b[49m\u001b[43m*\u001b[49m\u001b[43m*\u001b[49m\u001b[43mkwargs\u001b[49m\u001b[43m,\u001b[49m\n\u001b[32m    497\u001b[39m \u001b[43m    \u001b[49m\u001b[43m)\u001b[49m\n",
      "\u001b[36mFile \u001b[39m\u001b[32m~/.python/current/lib/python3.12/site-packages/astropy/io/fits/hdu/hdulist.py:1170\u001b[39m, in \u001b[36mHDUList._readfrom\u001b[39m\u001b[34m(cls, fileobj, data, mode, memmap, cache, lazy_load_hdus, ignore_missing_simple, use_fsspec, fsspec_kwargs, decompress_in_memory, **kwargs)\u001b[39m\n\u001b[32m   1167\u001b[39m \u001b[38;5;28;01mif\u001b[39;00m fileobj \u001b[38;5;129;01mis\u001b[39;00m \u001b[38;5;129;01mnot\u001b[39;00m \u001b[38;5;28;01mNone\u001b[39;00m:\n\u001b[32m   1168\u001b[39m     \u001b[38;5;28;01mif\u001b[39;00m \u001b[38;5;129;01mnot\u001b[39;00m \u001b[38;5;28misinstance\u001b[39m(fileobj, _File):\n\u001b[32m   1169\u001b[39m         \u001b[38;5;66;03m# instantiate a FITS file object (ffo)\u001b[39;00m\n\u001b[32m-> \u001b[39m\u001b[32m1170\u001b[39m         fileobj = \u001b[43m_File\u001b[49m\u001b[43m(\u001b[49m\n\u001b[32m   1171\u001b[39m \u001b[43m            \u001b[49m\u001b[43mfileobj\u001b[49m\u001b[43m,\u001b[49m\n\u001b[32m   1172\u001b[39m \u001b[43m            \u001b[49m\u001b[43mmode\u001b[49m\u001b[43m=\u001b[49m\u001b[43mmode\u001b[49m\u001b[43m,\u001b[49m\n\u001b[32m   1173\u001b[39m \u001b[43m            \u001b[49m\u001b[43mmemmap\u001b[49m\u001b[43m=\u001b[49m\u001b[43mmemmap\u001b[49m\u001b[43m,\u001b[49m\n\u001b[32m   1174\u001b[39m \u001b[43m            \u001b[49m\u001b[43mcache\u001b[49m\u001b[43m=\u001b[49m\u001b[43mcache\u001b[49m\u001b[43m,\u001b[49m\n\u001b[32m   1175\u001b[39m \u001b[43m            \u001b[49m\u001b[43muse_fsspec\u001b[49m\u001b[43m=\u001b[49m\u001b[43muse_fsspec\u001b[49m\u001b[43m,\u001b[49m\n\u001b[32m   1176\u001b[39m \u001b[43m            \u001b[49m\u001b[43mfsspec_kwargs\u001b[49m\u001b[43m=\u001b[49m\u001b[43mfsspec_kwargs\u001b[49m\u001b[43m,\u001b[49m\n\u001b[32m   1177\u001b[39m \u001b[43m            \u001b[49m\u001b[43mdecompress_in_memory\u001b[49m\u001b[43m=\u001b[49m\u001b[43mdecompress_in_memory\u001b[49m\u001b[43m,\u001b[49m\n\u001b[32m   1178\u001b[39m \u001b[43m        \u001b[49m\u001b[43m)\u001b[49m\n\u001b[32m   1179\u001b[39m     \u001b[38;5;66;03m# The Astropy mode is determined by the _File initializer if the\u001b[39;00m\n\u001b[32m   1180\u001b[39m     \u001b[38;5;66;03m# supplied mode was None\u001b[39;00m\n\u001b[32m   1181\u001b[39m     mode = fileobj.mode\n",
      "\u001b[36mFile \u001b[39m\u001b[32m~/.python/current/lib/python3.12/site-packages/astropy/io/fits/file.py:218\u001b[39m, in \u001b[36m_File.__init__\u001b[39m\u001b[34m(self, fileobj, mode, memmap, overwrite, cache, use_fsspec, fsspec_kwargs, decompress_in_memory)\u001b[39m\n\u001b[32m    216\u001b[39m     \u001b[38;5;28mself\u001b[39m._open_fileobj(fileobj, mode, overwrite)\n\u001b[32m    217\u001b[39m \u001b[38;5;28;01melif\u001b[39;00m \u001b[38;5;28misinstance\u001b[39m(fileobj, (\u001b[38;5;28mstr\u001b[39m, \u001b[38;5;28mbytes\u001b[39m)):\n\u001b[32m--> \u001b[39m\u001b[32m218\u001b[39m     \u001b[38;5;28;43mself\u001b[39;49m\u001b[43m.\u001b[49m\u001b[43m_open_filename\u001b[49m\u001b[43m(\u001b[49m\u001b[43mfileobj\u001b[49m\u001b[43m,\u001b[49m\u001b[43m \u001b[49m\u001b[43mmode\u001b[49m\u001b[43m,\u001b[49m\u001b[43m \u001b[49m\u001b[43moverwrite\u001b[49m\u001b[43m)\u001b[49m\n\u001b[32m    219\u001b[39m \u001b[38;5;28;01melse\u001b[39;00m:\n\u001b[32m    220\u001b[39m     \u001b[38;5;28mself\u001b[39m._open_filelike(fileobj, mode, overwrite)\n",
      "\u001b[36mFile \u001b[39m\u001b[32m~/.python/current/lib/python3.12/site-packages/astropy/io/fits/file.py:651\u001b[39m, in \u001b[36m_File._open_filename\u001b[39m\u001b[34m(self, filename, mode, overwrite)\u001b[39m\n\u001b[32m    648\u001b[39m ext = os.path.splitext(\u001b[38;5;28mself\u001b[39m.name)[\u001b[32m1\u001b[39m]\n\u001b[32m    650\u001b[39m \u001b[38;5;28;01mif\u001b[39;00m \u001b[38;5;129;01mnot\u001b[39;00m \u001b[38;5;28mself\u001b[39m._try_read_compressed(\u001b[38;5;28mself\u001b[39m.name, magic, mode, ext=ext):\n\u001b[32m--> \u001b[39m\u001b[32m651\u001b[39m     \u001b[38;5;28mself\u001b[39m._file = \u001b[38;5;28;43mopen\u001b[39;49m\u001b[43m(\u001b[49m\u001b[38;5;28;43mself\u001b[39;49m\u001b[43m.\u001b[49m\u001b[43mname\u001b[49m\u001b[43m,\u001b[49m\u001b[43m \u001b[49m\u001b[43mIO_FITS_MODES\u001b[49m\u001b[43m[\u001b[49m\u001b[43mmode\u001b[49m\u001b[43m]\u001b[49m\u001b[43m)\u001b[49m\n\u001b[32m    652\u001b[39m     \u001b[38;5;28mself\u001b[39m.close_on_error = \u001b[38;5;28;01mTrue\u001b[39;00m\n\u001b[32m    654\u001b[39m \u001b[38;5;66;03m# Make certain we're back at the beginning of the file\u001b[39;00m\n\u001b[32m    655\u001b[39m \u001b[38;5;66;03m# BZ2File does not support seek when the file is open for writing, but\u001b[39;00m\n\u001b[32m    656\u001b[39m \u001b[38;5;66;03m# when opening a file for write, bz2.BZ2File always truncates anyway.\u001b[39;00m\n",
      "\u001b[31mFileNotFoundError\u001b[39m: [Errno 2] No such file or directory: '/Users/aaronsamaco/Downloads/SGA-2020.fits'"
     ]
    }
   ],
   "source": [
    "# siena_2020 galaxy catalog (download from website SGA-2020.fits) - need to change path to your version\n",
    "\n",
    "hdul = fits.open(r\"/Users/aaronsamaco/Downloads/SGA-2020.fits\",memmap=True)\n",
    "galaxy_data = Table(hdul[1].data)\n",
    "hdul.close()\n",
    "\n",
    "# convert to a pandas dataframe structure\n",
    "galaxy_df = galaxy_data.to_pandas()"
   ]
  },
  {
   "cell_type": "code",
   "execution_count": null,
   "metadata": {},
   "outputs": [
    {
     "ename": "NameError",
     "evalue": "name 'gal_data' is not defined",
     "output_type": "error",
     "traceback": [
      "\u001b[0;31m---------------------------------------------------------------------------\u001b[0m",
      "\u001b[0;31mNameError\u001b[0m                                 Traceback (most recent call last)",
      "Cell \u001b[0;32mIn[1], line 2\u001b[0m\n\u001b[1;32m      1\u001b[0m \u001b[38;5;66;03m# here we set the parameters of interest\u001b[39;00m\n\u001b[0;32m----> 2\u001b[0m \u001b[38;5;28mprint\u001b[39m(\u001b[38;5;124m'\u001b[39m\u001b[38;5;124mThere are\u001b[39m\u001b[38;5;124m'\u001b[39m,\u001b[38;5;28mlen\u001b[39m(\u001b[43mgal_data\u001b[49m),\u001b[38;5;124m'\u001b[39m\u001b[38;5;124mtargets in ATLAS\u001b[39m\u001b[38;5;124m'\u001b[39m)    \n\u001b[1;32m      4\u001b[0m \u001b[38;5;66;03m# parameter cuts for galaxy sample\u001b[39;00m\n\u001b[1;32m      6\u001b[0m lower_dec \u001b[38;5;241m=\u001b[39m \u001b[38;5;241m20\u001b[39m        \u001b[38;5;66;03m# lower limit declination\u001b[39;00m\n",
      "\u001b[0;31mNameError\u001b[0m: name 'gal_data' is not defined"
     ]
    }
   ],
   "source": [
    "# here we set the parameters of interest\n",
    "print('There are',len(gal_data),'targets in ATLAS')    \n",
    "\n",
    "# parameter cuts for galaxy sample\n",
    "\n",
    "lower_dec = 20        # lower limit declination\n",
    "lower_diam = 4        # lower limit diameter size (arcmin)\n",
    "upper_diam = 8        # upper limit diameter size (arcmin)\n",
    "BA_max = 0.8          # upper limit on B/A (avoid face-on galaxies)\n",
    "bright_star_rad = 1   # search radius for bright stars (degrees)\n",
    "max_ebv = 0.04        # maximum allowed value of E(B-V) to limit Galactic extinction\n",
    "max_redshift = 0.005  # z, limit corresponds to ~ 21 Mpc to focus on nearby galaxies\n",
    "\n",
    "#select all galaxies in correct coordinate range, size range, and inclination\n",
    "galaxy_targets = galaxy_data[(galaxy_data['DEC'] > lower_dec) & (galaxy_data['D26'] > lower_diam) & (galaxy_data['D26'] < upper_diam) & (galaxy_data['BA'] < BA_max) & (galaxy_data['Z_LEDA']<max_redshift)]\n",
    "print(len(galaxy_targets),'satisfy RA/Dec, size, b/a, and redshift criteria')"
   ]
  },
  {
   "cell_type": "markdown",
   "metadata": {},
   "source": [
    "Now we move on to estimating the Galactic extinction at the location of each galaxy. For this we using the Schlegel, Finkbeiner and Davis (sfd) maps that are available as part of the SFDQuery call - don't you just love that there is all this infrastructure already available!"
   ]
  },
  {
   "cell_type": "code",
   "execution_count": null,
   "metadata": {},
   "outputs": [],
   "source": [
    "# get extinction at each location  (see https://dustmaps.readthedocs.io/en/latest/maps.html for range of options)\n",
    "\n",
    "coords = SkyCoord(galaxy_targets['RA']*u.deg, galaxy_targets['DEC']*u.deg, frame='icrs')\n",
    "sfd = SFDQuery()\n",
    "galaxy_targets['ebv'] = sfd(coords)\n",
    "\n",
    "#apply selection criteria\n",
    "galaxy_targets = galaxy_targets[(galaxy_targets['ebv'] < max_ebv)]\n",
    "print('Of those',len(galaxy_targets),'satisfy dust criterion')"
   ]
  },
  {
   "cell_type": "markdown",
   "metadata": {},
   "source": [
    "Finally, we are going to search for nearby bright stars that could cause us problems in our observations."
   ]
  },
  {
   "cell_type": "code",
   "execution_count": null,
   "metadata": {},
   "outputs": [],
   "source": [
    "# get brights stars at each remaining location and flag those with bright stars\n",
    "# code will automatically download Yale Bright Star Catalog if you don't already have it\n",
    "\n",
    "bright_flag=[]\n",
    "\n",
    "for j in range(0,len(galaxy_targets)):\n",
    "    br_stars = get_bright_stars(coords[j],bright_star_rad*u.deg)\n",
    "    \n",
    "    if (len(br_stars)>0):\n",
    "        bright_flag = np.append(bright_flag,1)\n",
    "    else:\n",
    "        bright_flag = np.append(bright_flag,0)\n",
    "\n",
    "galaxy_targets_new = galaxy_targets[(bright_flag<1)]\n",
    "\n",
    "print(' ')\n",
    "print('Of those',len(galaxy_targets_new),'do not have a Yale Bright Star Catalog star within',bright_star_rad,'degree(s)')\n",
    "\n",
    "# now we will just write to a text file the targets that satisfy the criteria\n",
    "target_file = open('galaxy_targets.txt', 'w')\n",
    " \n",
    "for j in range(0,len(galaxy_targets_new)):\n",
    "    print(\"%9s %10.6f %10.6f\" % (galaxy_targets_new['GALAXY'][j], galaxy_targets_new['RA'][j], galaxy_targets_new['DEC'][j]), file = target_file)\n",
    "\n",
    "target_file.close()\n"
   ]
  },
  {
   "cell_type": "markdown",
   "metadata": {},
   "source": [
    "From this sample of galaxies we now want to choose the ones that will be accessible for some fraction of the time on nights in September 2023 (at night after astronomical twilight) at the Large Binocular Telescope (LBT) at an arimass < 1.4."
   ]
  },
  {
   "cell_type": "code",
   "execution_count": null,
   "metadata": {},
   "outputs": [],
   "source": [
    "# sets constraints (airmass limit 1.4 and at night).\n",
    "constraints = [AirmassConstraint(1.4), AtNightConstraint.twilight_nautical()]\n",
    "\n",
    "# range of dates to span\n",
    "time_range = Time([\"2023-09-01 00:00\", \"2023-10-01 00:00\"])\n",
    "\n",
    "# parameters of observatory\n",
    "lbt = Observer.at_site('lbt')\n",
    "\n",
    "table = observability_table(constraints, lbt, target_coords, time_range=time_range)\n",
    "\n",
    "print('Galaxy and fraction of time satisfying constraints:')\n",
    "\n",
    "# require observation fraction to be at least 0.1\n",
    "for i in range(0,len(table)):\n",
    "    if (table[i][3]>0.10):\n",
    "        print(galaxy_targets_new[\"GALAXY\"][i], table[i][3])\n"
   ]
  },
  {
   "cell_type": "code",
   "execution_count": null,
   "metadata": {},
   "outputs": [],
   "source": [
    "# view the set of galaxies\n",
    "\n",
    "# subroutine to make the image mosaic\n",
    "def get_concat(data,rows,galaxy_targets_new,ct,image_number):\n",
    "    xlen = len(data)\n",
    "    w = data[0].width\n",
    "    h = data[0].height\n",
    "    dst = Image.new('RGB', (3*w + 40 , rows*h+(rows-1)*10),color='white')\n",
    "    draw = ImageDraw.Draw(dst)\n",
    "    for i in range(rows):\n",
    "        for j in range(3):\n",
    "            count = i*3 + j\n",
    "            tcount = count + ct*image_number \n",
    "            if (count < xlen):\n",
    "                dst.paste(data[count], (j*w+j*10, i*h+i*10))\n",
    "                draw.text((j*w+j*10+7,i*h+i*10+15), str(galaxy_targets_new['GALAXY'][tcount]), fill=(255,255,0))\n",
    "    return dst\n",
    "\n",
    "#filename = 'targets.jpg'\n",
    "\n",
    "#try:\n",
    "#    os.remove(filename)\n",
    "#except OSError:\n",
    "#    pass\n",
    "\n",
    "# maximum images per mosaic\n",
    "image_number = 100\n",
    "\n",
    "jlen = 0\n",
    "x_data = []\n",
    "\n",
    "xlen = len(galaxy_targets_new)\n",
    "\n",
    "count = 0\n",
    "flag = 0\n",
    "\n",
    "for i in range(xlen):\n",
    "\n",
    "    if(table[i][3]>0.1):\n",
    "    \n",
    "        jlen += 1\n",
    "        try:\n",
    "            os.remove('trash.png')\n",
    "        except:\n",
    "            pass\n",
    "        file = open(\"trash.png\", \"wb+\")\n",
    "# this sets the link to get the postage stamp image\n",
    "        link = 'http://legacysurvey.org/viewer/jpeg-cutout/?ra=' + str(galaxy_targets_new['RA'][i]) + '&dec=' + str(galaxy_targets_new['DEC'][i]) +'&layer=dr8&pixscale=5&bands=grz'\n",
    "# gets the image\n",
    "        r = requests.get(link)\n",
    "        if (len(r.content) < 10000):\n",
    "            r = requests.get(link)\n",
    "        file.write(r.content)\n",
    "        file.close()\n",
    "        \n",
    "        if (jlen < image_number):\n",
    "            try:\n",
    "                x_data.append(Image.open('trash.png'))\n",
    "            except OSError:\n",
    "                print('error 1',i)\n",
    "                jlen -= 1\n",
    "        else:\n",
    "            try:\n",
    "                x_data.append(Image.open('trash.png'))\n",
    "            except OSError:\n",
    "                print('error 2')\n",
    "            jlen = 0\n",
    "            rows = int(len(x_data)/3) + 1\n",
    "            filename = 'targets' + str(count) + '.jpg'\n",
    "            print(filename)\n",
    "            try:\n",
    "                os.remove(filename)\n",
    "            except OSError:\n",
    "                pass\n",
    "\n",
    "            get_concat(x_data,rows,gal_targets_new,count,image_number).save(filename)\n",
    "            count += 1\n",
    "            x_data = []\n",
    "    \n",
    "\n",
    "rows = int(jlen/3) + 1\n",
    "filename = 'targets' + str(count) + '.jpg'\n",
    "print(filename)\n",
    "try:\n",
    "    os.remove(filename)\n",
    "except OSError:\n",
    "    pass\n",
    "\n",
    "get_concat(x_data,rows,galaxy_targets_new,count,image_number).save(filename)\n"
   ]
  },
  {
   "cell_type": "markdown",
   "metadata": {},
   "source": [
    "## Conclusion: "
   ]
  },
  {
   "cell_type": "markdown",
   "metadata": {},
   "source": [
    "\n",
    " You can delete SGA-2020.fits, which takes up a lot of disk space."
   ]
  },
  {
   "cell_type": "code",
   "execution_count": null,
   "metadata": {},
   "outputs": [],
   "source": []
  }
 ],
 "metadata": {
  "kernelspec": {
   "display_name": "Python 3",
   "language": "python",
   "name": "python3"
  },
  "language_info": {
   "codemirror_mode": {
    "name": "ipython",
    "version": 3
   },
   "file_extension": ".py",
   "mimetype": "text/x-python",
   "name": "python",
   "nbconvert_exporter": "python",
   "pygments_lexer": "ipython3",
   "version": "3.12.1"
  }
 },
 "nbformat": 4,
 "nbformat_minor": 4
}
